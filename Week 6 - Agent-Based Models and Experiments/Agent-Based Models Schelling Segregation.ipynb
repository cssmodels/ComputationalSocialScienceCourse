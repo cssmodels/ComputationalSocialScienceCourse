{
 "cells": [
  {
   "cell_type": "markdown",
   "metadata": {},
   "source": [
    "# Agent-Based Modeling: The Schelling Segregation model"
   ]
  },
  {
   "cell_type": "markdown",
   "metadata": {},
   "source": [
    "This week we're going to implement and experiment with the classic Schelling model of segregation. \n",
    "\n",
    "Schelling, T. C. (1971). Dynamic models of segregation. Journal of mathematical sociology, 1(2), 143-186. https://www.tandfonline.com/doi/abs/10.1080/0022250X.1971.9989794 \n",
    "\n",
    "The paper is amazing and very much worth reading. \n",
    "\n",
    "The Schelling segregation model is a very simple agent-based model that analyze the dynamics of segregation. The model is so general that it can even be applied to why water and oil separate.  \n",
    "\n",
    "The model works with two types of agents distributed on a grid. Each agent is either type A or type B. The agents are happy if a certain percentage of their neighbors are of the same type; otherwise, they will try to move to another spot in the grid. \n",
    "\n",
    "Let's start by implementing the model."
   ]
  },
  {
   "cell_type": "code",
   "execution_count": null,
   "metadata": {},
   "outputs": [],
   "source": [
    "import numpy as np\n",
    "import matplotlib.pyplot as plt\n",
    "from matplotlib import colors, animation\n",
    "from IPython.display import HTML"
   ]
  },
  {
   "cell_type": "code",
   "execution_count": null,
   "metadata": {},
   "outputs": [],
   "source": [
    "# First, we initialize a grid, where each point in the grid is randomly set to be either populated by type A, by type B, or is empty\n",
    "def initialize_grid(size, fraction_empty, fraction_A):\n",
    "    grid = np.zeros((size, size))    \n",
    "    empty_cells = [] # We keep track of empty cells also through a list, for optimization reasons, as we want to be able to find an empty cell in O(1)            \n",
    "    for i in range(size):\n",
    "        for j in range(size):            \n",
    "            if np.random.rand() < fraction_empty:\n",
    "                grid[i, j] = 0  # Empty space\n",
    "                empty_cells.append((i,j))\n",
    "            elif np.random.rand() < fraction_A:\n",
    "                grid[i, j] = 1  # Type A\n",
    "            else:\n",
    "                grid[i, j] = 2  # Type B\n",
    "    return grid,empty_cells\n",
    "\n"
   ]
  },
  {
   "cell_type": "code",
   "execution_count": null,
   "metadata": {},
   "outputs": [],
   "source": [
    "# This returns the fraction of the neighbors of a given agent that are of the same type.\n",
    "def fraction_neighbors_same(x,y,grid):\n",
    "    agent = grid[x, y]\n",
    "    if agent == 0:\n",
    "        return None #Don't count empty grid points\n",
    "    \n",
    "    # This defines a Moore neighborhood, as opposed to von Neumann neighbors\n",
    "    directions = [(-1, -1), (-1, 0), (-1, 1), (0, -1), (0, 1), (1, -1), (1, 0), (1, 1)]\n",
    "    same = 0\n",
    "    total = 0\n",
    "    # Let's look in all the directions, and see who is the neighbor\n",
    "    for dx, dy in directions:\n",
    "\n",
    "        # Quiz: What type of grid typology does this define? \n",
    "        nx, ny = (x + dx) % grid.shape[0], (y + dy) % grid.shape[1]\n",
    "        \n",
    "        neighbor = grid[nx, ny]\n",
    "        if neighbor > 0: # is not empty?\n",
    "            total += 1\n",
    "            if neighbor == agent:\n",
    "                same += 1\n",
    "    # Avoid division by zero: if there are no neighbors, we do not include the agent in the count\n",
    "    if total == 0:\n",
    "        return None\n",
    "    return same / total\n",
    "\n",
    "\n",
    "# This function checks if a specific agent is satisfied. \n",
    "# The agent is satisfied if more than a given threshold of their neighbors is of the same type as themselves.\n",
    "def is_satisfied(x, y, grid, similarity_threshold):\n",
    "    fraction_same = fraction_neighbors_same(x,y,grid)\n",
    "\n",
    "    # Empty areas are always satisfied \n",
    "    if fraction_same is None:\n",
    "        return True\n",
    "    \n",
    "    # Is fraction that are the same higher or equal to our threshold?\n",
    "    return fraction_same >= similarity_threshold"
   ]
  },
  {
   "cell_type": "code",
   "execution_count": null,
   "metadata": {},
   "outputs": [],
   "source": [
    "# This is the loop that updates the model and runs the model dynamics.\n",
    "def update(grid, emptycells, size, similarity_threshold, agents_per_step):\n",
    "    was_move = False\n",
    "    for _ in range(agents_per_step):  # Check N agents per frame\n",
    "        # Pick a random point in grid\n",
    "        x, y = np.random.randint(size, size=2)\n",
    "        if not is_satisfied(x, y, grid, similarity_threshold):\n",
    "            # Move agent to a random empty cell\n",
    "            randindex = np.random.randint(len(emptycells))\n",
    "            new_x,new_y = emptycells[randindex]\n",
    "            \n",
    "            # The old space is now empty\n",
    "            emptycells[randindex] = (x,y)            \n",
    "            grid[new_x, new_y], grid[x, y] = grid[x, y], 0\n",
    "\n",
    "            was_move = True\n",
    "    return grid,emptycells,was_move\n"
   ]
  },
  {
   "cell_type": "markdown",
   "metadata": {},
   "source": [
    "### Make an animation of the dynamics of the model\n",
    "Let's start by making an animation to track the changes of the model over time. \n",
    "\n",
    "Animations in python are unfortunately a bit clunky."
   ]
  },
  {
   "cell_type": "code",
   "execution_count": null,
   "metadata": {},
   "outputs": [],
   "source": [
    "# Model parameters\n",
    "size = 50\n",
    "fraction_empty = 0.1\n",
    "fraction_A = 0.5\n",
    "similarity_threshold = 0.6\n",
    "\n",
    "#Initialize grid\n",
    "grid, emptycells = initialize_grid(size, fraction_empty, fraction_A)\n",
    "\n",
    "#Initialize animation plot\n",
    "fig, ax = plt.subplots()\n",
    "cmap = colors.ListedColormap(['white', 'red', 'blue'])\n",
    "bounds = [0, 1, 2, 3]\n",
    "norm = colors.BoundaryNorm(bounds, cmap.N)\n",
    "img = ax.imshow(grid, cmap=cmap, norm=norm)\n",
    "ax.axis('off')\n",
    "\n",
    "# This function handles adding frames to the video.\n",
    "def update_video(frame, img, grid, emptycells, size, similarity_threshold, agents_per_step):\n",
    "    if frame == 0:\n",
    "        # Just display the initial state for the first frame\n",
    "        img.set_array(grid)\n",
    "        return (img,)\n",
    "       \n",
    "    # Call model function\n",
    "    grid,emptycells,_ = update(grid, emptycells, size, similarity_threshold, agents_per_step)\n",
    "    \n",
    "    img.set_array(grid)  # Update the image object with the new grid state\n",
    "    return (img,)\n",
    "\n",
    "# Set up the animation with lambda to properly capture 'ani'\n",
    "ani = animation.FuncAnimation(fig, lambda f: update_video(f, img, grid, emptycells, size, similarity_threshold, 500), frames=100, blit=True)\n",
    "\n",
    "# Display the animation\n",
    "HTML(ani.to_jshtml())\n"
   ]
  },
  {
   "cell_type": "markdown",
   "metadata": {},
   "source": [
    "### Exercise 1: \n",
    "\n",
    "What is the dynamics of the model? What parameters appear to be most important for the resulting dynamics? \n"
   ]
  },
  {
   "cell_type": "markdown",
   "metadata": {},
   "source": [
    "## Macro-segregation as a function of individual threshold\n",
    "\n",
    "To be more systematic of our study of the Schelling model, we need to define a formal measure of the level of segregation in the model.\n",
    "\n",
    "There are many sophisticated ways of measuring segregation. But in this case, it's better to have an intuitive measure than a sophisticated one! \n",
    "\n",
    "We will use the _average similarity between neighbors_. That is, on the average, how many neighbors of the agents' are of the same type?\n",
    "\n",
    "We will expect this value to be 0.5 when fraction_A = 0.5. (A extra point question: *What is the expected average neighbor similarity as a function of fraction_A?*)\n"
   ]
  },
  {
   "cell_type": "markdown",
   "metadata": {},
   "source": [
    "### Exercise 2:\n",
    "Define a function that calculates the average neighbor similarity, using the fraction_neighbors_same() function defined above.\n",
    "\n",
    "Note: When the fraction_neighbors_same() return None, it should not be included in the calculation of the mean.\n"
   ]
  },
  {
   "cell_type": "code",
   "execution_count": null,
   "metadata": {},
   "outputs": [],
   "source": [
    "# Calculate the average neighbors who are \n",
    "def average_neighbor_similarity(grid):\n",
    "    n, m = grid.shape\n",
    "    # [...  YOUR CORE HERE ...]\n"
   ]
  },
  {
   "cell_type": "markdown",
   "metadata": {},
   "source": [
    "<hl />"
   ]
  },
  {
   "cell_type": "code",
   "execution_count": null,
   "metadata": {},
   "outputs": [],
   "source": [
    "# Test for a random grid:\n",
    "grid, emptycells = initialize_grid(50, 0.1, 0.5)\n",
    "print(f\"Average similar neighbors random grid: {average_neighbor_similarity(grid)}\")\n",
    "\n",
    "# When random, roughtly half the neighbors will be of the same type"
   ]
  },
  {
   "cell_type": "markdown",
   "metadata": {},
   "source": [
    "### Let's see how the average changes when we run the model"
   ]
  },
  {
   "cell_type": "code",
   "execution_count": null,
   "metadata": {},
   "outputs": [],
   "source": [
    "# Let's run the simulation and see the resulting level of segregation\n",
    "size = 50\n",
    "fraction_empty = 0.1\n",
    "fraction_A = 0.5\n",
    "similarity_threshold = 0.4\n",
    "agents_per_step = 500\n",
    "grid, emptycells = initialize_grid(size, fraction_empty, fraction_A)\n",
    "\n",
    "print(f\"Average similar neighbors before: {average_neighbor_similarity(grid)}\")\n",
    "\n",
    "# Run the update function 100 times or until no moves are made\n",
    "for _ in range(100):\n",
    "    grid, emptycells, was_move = update(grid, emptycells, size, similarity_threshold, agents_per_step)\n",
    "    if not was_move:\n",
    "        print(\"No moves were made; stopping early.\")\n",
    "        break\n",
    "\n",
    "print(f\"Average similar neighbors after: {average_neighbor_similarity(grid)}\")"
   ]
  },
  {
   "cell_type": "markdown",
   "metadata": {},
   "source": [
    "Great! It seems to be working! Now we can use it to examine in a more rigorous way how the parameters to the model affects the resulting level of segregation."
   ]
  },
  {
   "cell_type": "markdown",
   "metadata": {},
   "source": [
    "### Exercise 3: Examine how the average_neighbor_similarity changes as a function of the threshold\n",
    "<a href='#solution3'>Go to solution</a>\n",
    "\n",
    "When running simulations, we often want to know how parameters affect the resulting outcome. This allows us to study the dynamics of the model. \n",
    "\n",
    "Your task is to run the simulation while varying the threshold parameter between 0 and 0.6.\n",
    "    \n",
    "You should plot a graph that shows how the average_neighbor_similarity changes as a function of the threshold.\n",
    "\n",
    "You can also run the model several times for each point, to capture that the model can result in varying levels of segregation each run.\n",
    "\n",
    "(What happens when the threshold is higher than 0.6, such as 0.8? How do you explain this?)\n",
    "\n",
    "Describe your conclusions from analyzing the model.\n",
    "What is the relationship between this model and real-world segregation?\n"
   ]
  },
  {
   "cell_type": "code",
   "execution_count": null,
   "metadata": {},
   "outputs": [],
   "source": [
    "# [ YOUR CODE HERE]"
   ]
  },
  {
   "cell_type": "code",
   "execution_count": null,
   "metadata": {},
   "outputs": [],
   "source": []
  },
  {
   "cell_type": "markdown",
   "metadata": {},
   "source": [
    "# SOLUTIONS"
   ]
  },
  {
   "cell_type": "markdown",
   "metadata": {},
   "source": [
    "### Solution 1:\n",
    "The individual threshold is the key parameter."
   ]
  },
  {
   "cell_type": "markdown",
   "metadata": {},
   "source": [
    "### Solution 2:\n",
    "<a id='solution2' />"
   ]
  },
  {
   "cell_type": "code",
   "execution_count": null,
   "metadata": {},
   "outputs": [],
   "source": [
    "# Calculate the average neighbors who are \n",
    "def average_neighbor_similarity(grid):\n",
    "    n, m = grid.shape\n",
    "    l = []\n",
    "    for i in range(n):\n",
    "        for j in range(m):\n",
    "            f = fraction_neighbors_same(i,j,grid) \n",
    "            if f is not None:\n",
    "                l.append(f)\n",
    "    return np.mean(l) \n"
   ]
  },
  {
   "cell_type": "markdown",
   "metadata": {},
   "source": [
    "### Solution 3:\n",
    "\n",
    "<a id=\"solution3\" />"
   ]
  },
  {
   "cell_type": "code",
   "execution_count": null,
   "metadata": {},
   "outputs": [],
   "source": [
    "size = 50\n",
    "fraction_empty = 0.1\n",
    "fraction_A = 0.45\n",
    "agents_per_step = 1000\n",
    "\n",
    "thresholds = np.linspace(0, 0.6, 100)  # Vary threshold from 0 to 0.6, with 50 steps\n",
    "similarities = []\n",
    "for threshold in thresholds:\n",
    "    grid, empty_cells = initialize_grid(size, fraction_empty, fraction_A)\n",
    "    for _ in range(100):\n",
    "        grid, empty_cells, was_move = update(grid, empty_cells, size, threshold, agents_per_step)\n",
    "        if not was_move:\n",
    "            break\n",
    "    similarity = average_neighbor_similarity(grid)\n",
    "    similarities.append(similarity)\n",
    "\n",
    "# Plot the results\n",
    "plt.figure(figsize=(7, 7))\n",
    "plt.plot(thresholds, similarities, marker='.')\n",
    "plt.show()"
   ]
  },
  {
   "cell_type": "markdown",
   "metadata": {},
   "source": [
    "We see that the resulting level of segregation is far higher on average than the threshold.\n",
    "\n",
    "When the agents would prefer a 50/50 neighorhood, the result is 90% homogenous. \n",
    "\n",
    "We also see a rapid jump around threshold of 25%, where it reaches 70% homogeneity. "
   ]
  },
  {
   "cell_type": "markdown",
   "metadata": {},
   "source": []
  }
 ],
 "metadata": {
  "kernelspec": {
   "display_name": "Python 3",
   "language": "python",
   "name": "python3"
  },
  "language_info": {
   "codemirror_mode": {
    "name": "ipython",
    "version": 3
   },
   "file_extension": ".py",
   "mimetype": "text/x-python",
   "name": "python",
   "nbconvert_exporter": "python",
   "pygments_lexer": "ipython3",
   "version": "3.11.6"
  }
 },
 "nbformat": 4,
 "nbformat_minor": 2
}
