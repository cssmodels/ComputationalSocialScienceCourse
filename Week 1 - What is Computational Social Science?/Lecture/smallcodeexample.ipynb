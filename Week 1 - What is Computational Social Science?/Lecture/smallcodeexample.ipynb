{
 "cells": [
  {
   "cell_type": "markdown",
   "metadata": {},
   "source": [
    "# Little word counter"
   ]
  },
  {
   "cell_type": "code",
   "execution_count": 1,
   "metadata": {},
   "outputs": [
    {
     "name": "stdout",
     "output_type": "stream",
     "text": [
      "Most common words:\n",
      "social: 3\n",
      "science: 3\n",
      "data: 2\n",
      "hand: 2\n",
      "the: 2\n"
     ]
    }
   ],
   "source": [
    "from collections import Counter\n",
    "import string\n",
    "\n",
    "# Sample text\n",
    "text = \"\"\"Computational Social Science is fun! Data science and social science go hand in hand. \n",
    "Analyzing data helps us understand the social world in the digital age.\"\"\"\n",
    "\n",
    "# Function to clean and process text\n",
    "def process_text(text):\n",
    "    text = text.lower()  # Convert to lowercase\n",
    "    for char in string.punctuation:\n",
    "        text = text.replace(char, \"\")  # Remove punctuation\n",
    "    words = text.split()  # Split into words\n",
    "    return words\n",
    "\n",
    "# Function to count word frequencies\n",
    "def count_words(words):\n",
    "    word_counts = Counter()\n",
    "    \n",
    "    for word in words:  # Loop through words\n",
    "        if word not in [\"is\", \"and\", \"in\", \"us\"]:  # Conditional to filter out common words\n",
    "            word_counts[word] += 1\n",
    "\n",
    "    return word_counts\n",
    "\n",
    "# Main program\n",
    "words = process_text(text)  # Clean and process text\n",
    "word_counts = count_words(words)  # Count word occurrences\n",
    "\n",
    "# Display the most common words\n",
    "print(\"Most common words:\")\n",
    "for word, count in word_counts.most_common(5):  # Loop through the top words\n",
    "    print(f\"{word}: {count}\")"
   ]
  },
  {
   "cell_type": "code",
   "execution_count": null,
   "metadata": {},
   "outputs": [],
   "source": [
    "!pip3 install nltk \n",
    "# This is to install the text analysis library nltk. Depending on whether you're on Windows or Linux, this may function differently! \n",
    "# Figure it out, and make sure you're able to run it!"
   ]
  },
  {
   "cell_type": "code",
   "execution_count": null,
   "metadata": {},
   "outputs": [],
   "source": [
    "from collections import Counter\n",
    "import string\n",
    "\n",
    "import nltk\n",
    "from nltk.corpus import stopwords\n",
    "nltk.download(\"stopwords\")\n",
    "stop_words = set(stopwords.words(\"english\"))\n",
    "\n",
    "# Function to read text from a file\n",
    "def read_file(filename):\n",
    "    try:\n",
    "        with open(filename, \"r\", encoding=\"utf-8\") as file:\n",
    "            text = file.read()\n",
    "        return text\n",
    "    except FileNotFoundError:\n",
    "        print(\"Error: File not found.\")\n",
    "        return \"\"\n",
    "\n",
    "text = read_file('capital.txt')\n",
    "\n",
    "# Function to clean and process text\n",
    "def process_text(text):\n",
    "    text = text.lower()  # Convert to lowercase\n",
    "    for char in string.punctuation:\n",
    "        text = text.replace(char, \"\")  # Remove punctuation\n",
    "    words = text.split()  # Split into words\n",
    "    print(f\"Number of words: {len(words)}\")\n",
    "    return words\n",
    "\n",
    "# Function to count word frequencies\n",
    "def count_words(words):\n",
    "    word_counts = Counter()\n",
    "    \n",
    "    for word in words:  # Loop through words\n",
    "        if word not in stop_words:  # Conditional to filter out common words\n",
    "            word_counts[word] += 1\n",
    "\n",
    "    return word_counts\n",
    "\n",
    "# Main program\n",
    "words = process_text(text)  # Clean and process text\n",
    "word_counts = count_words(words)  # Count word occurrences\n",
    "\n",
    "\n",
    "# Display the most common words\n",
    "print(\"Most common words:\")\n",
    "for word, count in word_counts.most_common(5):  # Loop through the top words\n",
    "    print(f\"{word}: {count}\")"
   ]
  }
 ],
 "metadata": {
  "kernelspec": {
   "display_name": "Python 3",
   "language": "python",
   "name": "python3"
  },
  "language_info": {
   "codemirror_mode": {
    "name": "ipython",
    "version": 3
   },
   "file_extension": ".py",
   "mimetype": "text/x-python",
   "name": "python",
   "nbconvert_exporter": "python",
   "pygments_lexer": "ipython3",
   "version": "3.13.0"
  }
 },
 "nbformat": 4,
 "nbformat_minor": 2
}
