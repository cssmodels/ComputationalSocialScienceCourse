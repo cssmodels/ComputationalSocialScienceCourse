{
 "cells": [
  {
   "cell_type": "markdown",
   "metadata": {},
   "source": [
    "# Introduction to Python "
   ]
  },
  {
   "cell_type": "markdown",
   "metadata": {},
   "source": [
    "This notebook provides a quick introduction to Python, as part of the University of Amsterdam course Computational Social Science Analysis.\n",
    "\n",
    "It has been developed by Petter Törnberg. p.tornberg@uva.nl\n",
    "Version 1.0. 2024-03-15 "
   ]
  },
  {
   "cell_type": "markdown",
   "metadata": {},
   "source": [
    "### Notebook content overview \n",
    "1. Basics of Python Programming\n",
    "- Data types and variables: Introducing numbers, strings, and boolean values.\n",
    "- Basic operators: Arithmetic, assignment, comparison, and logical operators.\n",
    "- Input and output: Using input() and print() functions for data exchange with the user.\n",
    "2. Control Structures\n",
    "- Conditional statements: if, elif, and else to make decisions in code.\n",
    "- Looping constructs: for loops and while loops for iteration.\n",
    "3. Data Structures\n",
    "- Lists: Creation, indexing, slicing, and methods to manipulate lists.\n",
    "- Tuples: Understanding immutable sequences.\n",
    "- Dictionaries: Key-value pairs, accessing, and modifying data.\n",
    "- Sets: Unordered collections of unique elements.\n",
    "4. Functions\n",
    "- Defining and calling functions: Parameters, return values.\n",
    "- Scope and lifetime of variables.\n",
    "- Lambda functions: Anonymous functions defined using the lambda keyword.\n",
    "5. Pandas and dataframes\n",
    "- Creating a dataframe\n",
    "- Getting data from dataframe\n",
    "- Adding data\n",
    "6. Basic Plotting\n",
    "- matplotlib \n",
    "- Plotting functions\n",
    "7. Error and Exception Handling\n",
    "- Basics of error types in Python.\n",
    "- Using try, except, finally, and else blocks to handle exceptions.\n"
   ]
  },
  {
   "cell_type": "markdown",
   "metadata": {},
   "source": [
    "## 1. Data types and Variables"
   ]
  },
  {
   "cell_type": "markdown",
   "metadata": {},
   "source": [
    "\n",
    "In Python, a variable is like a box where you can store a piece of data. You can think of it as a name attached to a particular object. Python is dynamically typed, which means you don't have to declare the type of variable while assigning it. \n",
    "\n",
    "Let's explore some of the basic data types in Python:\n",
    "\n",
    "##### Numbers\n",
    "Python supports integers, floating-point numbers, and complex numbers. You do not need to declare the type of a variable. Python automatically detects it."
   ]
  },
  {
   "cell_type": "code",
   "execution_count": 5,
   "metadata": {},
   "outputs": [
    {
     "data": {
      "text/plain": [
       "60"
      ]
     },
     "execution_count": 5,
     "metadata": {},
     "output_type": "execute_result"
    }
   ],
   "source": [
    "age = 30\n",
    "age+age "
   ]
  },
  {
   "cell_type": "code",
   "execution_count": 2,
   "metadata": {},
   "outputs": [
    {
     "name": "stdout",
     "output_type": "stream",
     "text": [
      "30\n",
      "Hello world\n",
      "98.6\n",
      "(3+5j)\n"
     ]
    }
   ],
   "source": [
    "# Integer\n",
    "age = 30\n",
    "print(age)  # Output: 30\n",
    "print(\"Hello world\")\n",
    "\n",
    "# Floating-point number\n",
    "temperature = 98.6\n",
    "print(temperature)  # Output: 98.6\n",
    "\n",
    "# Complex number\n",
    "complex_number = 3+5j\n",
    "print(complex_number)  # Output: (3+5j)"
   ]
  },
  {
   "cell_type": "code",
   "execution_count": 3,
   "metadata": {},
   "outputs": [
    {
     "name": "stdout",
     "output_type": "stream",
     "text": [
      "30\n"
     ]
    }
   ],
   "source": [
    "print(age)"
   ]
  },
  {
   "cell_type": "markdown",
   "metadata": {},
   "source": [
    "#### Strings\n",
    "Strings in Python are used to store textual data. You can define them using single, double, or triple quotes."
   ]
  },
  {
   "cell_type": "code",
   "execution_count": 9,
   "metadata": {},
   "outputs": [
    {
     "name": "stdout",
     "output_type": "stream",
     "text": [
      "John Doe\n",
      "Hello, Python!\n",
      "123 Python Lane\n",
      "Example City, EX 12345\n",
      "Hello, John Doebanan!\n"
     ]
    }
   ],
   "source": [
    "# Single or double quotes for single-line strings\n",
    "name = \"John Doe\"\n",
    "greeting = 'Hello, Python!'\n",
    "print(name)  # Output: John Doe\n",
    "print(greeting)  # Output: Hello, Python!\n",
    "\n",
    "# Triple quotes for multi-line strings\n",
    "address = \"\"\"123 Python Lane\n",
    "Example City, EX 12345\"\"\"\n",
    "print(address)\n",
    "\n",
    "# Using the f\"\" syntax, you can easily combine text strings using curly brackets\n",
    "print(f\"Hello, {name+'banan'}!\")\n",
    "\n"
   ]
  },
  {
   "cell_type": "markdown",
   "metadata": {},
   "source": [
    "#### Boolean Values\n",
    "Boolean represents one of two values: True or False. It is useful when you are dealing with conditions."
   ]
  },
  {
   "cell_type": "code",
   "execution_count": 10,
   "metadata": {},
   "outputs": [
    {
     "name": "stdout",
     "output_type": "stream",
     "text": [
      "True\n",
      "False\n"
     ]
    }
   ],
   "source": [
    "is_student = True\n",
    "print(is_student)  # Output: True\n",
    "\n",
    "has_graduated = False\n",
    "print(has_graduated)  # Output: False"
   ]
  },
  {
   "cell_type": "markdown",
   "metadata": {},
   "source": [
    "### Basic Operators\n",
    "Operators are special symbols in Python that carry out arithmetic or logical computation. The value that the operator operates on is called the operand.\n",
    "\n",
    "#### Arithmetic Operators\n",
    "Used to perform mathematical operations like addition, subtraction, multiplication, etc."
   ]
  },
  {
   "cell_type": "code",
   "execution_count": 11,
   "metadata": {},
   "outputs": [
    {
     "name": "stdout",
     "output_type": "stream",
     "text": [
      "8\n",
      "8\n",
      "8\n",
      "8.0\n",
      "8\n",
      "8\n",
      "8\n"
     ]
    }
   ],
   "source": [
    "# Addition\n",
    "print(5 + 3)  # Output: 8\n",
    "\n",
    "# Subtraction\n",
    "print(10 - 2)  # Output: 8\n",
    "\n",
    "# Multiplication\n",
    "print(4 * 2)  # Output: 8\n",
    "\n",
    "# Division (always returns a float)\n",
    "print(16 / 2)  # Output: 8.0\n",
    "\n",
    "# Floor Division (discards the fractional part)\n",
    "print(17 // 2)  # Output: 8\n",
    "\n",
    "# Modulus (remainder of the division)\n",
    "print(18 % 10)  # Output: 8\n",
    "\n",
    "# Exponentiation (power of a number)\n",
    "print(2 ** 3)  # Output: 8"
   ]
  },
  {
   "cell_type": "markdown",
   "metadata": {},
   "source": [
    "##### Assignment Operators\n",
    "Used to assign values to variables."
   ]
  },
  {
   "cell_type": "code",
   "execution_count": 12,
   "metadata": {},
   "outputs": [
    {
     "name": "stdout",
     "output_type": "stream",
     "text": [
      "15\n"
     ]
    }
   ],
   "source": [
    "x = 10  # Simple assignment\n",
    "x += 5  # Equivalent to x = x + 5\n",
    "print(x)  # Output: 15"
   ]
  },
  {
   "cell_type": "markdown",
   "metadata": {},
   "source": [
    "#### Comparison Operators\n",
    "Used to compare values. It either returns True or False according to the condition."
   ]
  },
  {
   "cell_type": "code",
   "execution_count": 13,
   "metadata": {},
   "outputs": [
    {
     "name": "stdout",
     "output_type": "stream",
     "text": [
      "True\n",
      "False\n",
      "False\n",
      "True\n"
     ]
    }
   ],
   "source": [
    "a = 5\n",
    "b = 3\n",
    "\n",
    "print(a > b)  # True, because 5 is greater than 3\n",
    "print(a < b)  # False\n",
    "print(a == b)  # False, equals\n",
    "print(a != b)  # True, not equals"
   ]
  },
  {
   "cell_type": "markdown",
   "metadata": {},
   "source": [
    "#### Logical Operators\n",
    "Used to combine conditional statements: and, or, not."
   ]
  },
  {
   "cell_type": "code",
   "execution_count": null,
   "metadata": {},
   "outputs": [],
   "source": [
    "x = True\n",
    "y = False\n",
    "\n",
    "print(x and y)  # False, because both are not True\n",
    "print(x or y)  # True, because at least one of the operands is True\n",
    "print(not x)  # False, because x is True, and not True is False"
   ]
  },
  {
   "cell_type": "markdown",
   "metadata": {},
   "source": [
    "### Exercises Part 1: Data Types and variables\n",
    "\n",
    "#### Exercise 1.1: Variables and Data Types\n",
    "Objective: Create variables to store personal information and display them using print statements.\n",
    "\n",
    "- Create a variable named name and assign it your name as a string.\n",
    "- Create a variable named age and assign it your age as an integer.\n",
    "- Create a variable named height and assign it your height in meters as a float.\n",
    "- Create a variable named is_student and assign it a boolean value representing whether you are a student (True or False).\n",
    "- Use print() to display all these variables in a meaningful sentence. For example: \"My name is John Doe, I am 20 years old, 1.75 meters tall, and it is True that I am a student.\"\n"
   ]
  },
  {
   "cell_type": "code",
   "execution_count": 14,
   "metadata": {},
   "outputs": [
    {
     "name": "stdout",
     "output_type": "stream",
     "text": [
      "My name is Petter Törnberg, I am 36 years old, 177 cm tall, and it is False that I am a student.\n"
     ]
    }
   ],
   "source": [
    "# [Your solution here]\n",
    "name = 'Petter Törnberg'\n",
    "age = 36\n",
    "height=177\n",
    "is_student = False\n",
    "print(f\"My name is {name}, I am {age} years old, {height} cm tall, and it is {is_student} that I am a student.\")\n"
   ]
  },
  {
   "cell_type": "markdown",
   "metadata": {},
   "source": [
    "#### Exercise 1.2: Basic Arithmetic Operations\n",
    "Objective: Perform and display the results of basic arithmetic operations.\n",
    "\n",
    "- Create two variables, a and b, assigning them any integer values.\n",
    "- Calculate and print the sum of a and b.\n",
    "- Calculate and print the difference when b is subtracted from a.\n",
    "- Calculate and print the product of a and b.\n",
    "- Calculate and print the division of a by b.\n",
    "- Calculate and print the remainder of a divided by b.\n",
    "- Calculate and print the result of a raised to the power of b.\n"
   ]
  },
  {
   "cell_type": "code",
   "execution_count": null,
   "metadata": {},
   "outputs": [],
   "source": [
    "# [Your solution here]"
   ]
  },
  {
   "cell_type": "markdown",
   "metadata": {},
   "source": [
    "### Exercise 1.3: Using Basic Operators for a Simple Calculator\n",
    "Objective: Create a simple calculator that can add, subtract, multiply, and divide two numbers entered by the user.\n",
    "\n",
    "- Prompt the user to enter the first number and assign it to a variable num1. Ensure you convert the input to a float.\n",
    "- Prompt the user to enter the second number and assign it to a variable num2. Ensure you convert the input to a float.\n",
    "- Ask the user to choose an operation (+, -, *, /) and assign their choice to a variable named operation.\n",
    "- Using if-elif-else statements, perform the operation based on the user's choice. For example, if the user chooses +, add num1 and num2.\n",
    "- Print the result in a formatted message, such as \"The result of 5.0 + 3.0 is 8.0\".\n"
   ]
  },
  {
   "cell_type": "code",
   "execution_count": 26,
   "metadata": {},
   "outputs": [
    {
     "name": "stdout",
     "output_type": "stream",
     "text": [
      "0\n",
      "Done\n",
      "1\n",
      "Done\n",
      "2\n",
      "Done\n",
      "3\n",
      "Done\n",
      "4\n",
      "Done\n",
      "5\n",
      "Done\n",
      "Five!\n",
      "Done\n",
      "6\n",
      "Done\n",
      "7\n",
      "Done\n",
      "8\n",
      "Done\n",
      "9\n",
      "Done\n"
     ]
    }
   ],
   "source": [
    "for i in range(10):\n",
    "    print(i)\n",
    "    print(\"Done\")\n",
    "    if i == 5:\n",
    "        print('Five!')\n",
    "        print('Done')\n",
    "\n"
   ]
  },
  {
   "cell_type": "code",
   "execution_count": 23,
   "metadata": {},
   "outputs": [
    {
     "name": "stdout",
     "output_type": "stream",
     "text": [
      "The result of 5 / 10 is 0.5\n"
     ]
    }
   ],
   "source": [
    "# [Your code here]\n",
    "num1 = 5\n",
    "num2 = 10\n",
    "operation = '/'\n",
    "\n",
    "if operation == '/':\n",
    "    print(f'The result of {num1} / {num2} is {num1/num2}')\n",
    "    \n",
    "elif operation == '*':\n",
    "    print(num1*num2) # etc string thing here as well :)\n",
    "elif operation == '+':\n",
    "    print(num1+num2)\n",
    "elif operation == '-':\n",
    "    print(num1-num2)"
   ]
  },
  {
   "cell_type": "markdown",
   "metadata": {},
   "source": [
    "### Exercise 1.4: Working with Comparison and Logical Operators\n",
    "Objective: Determine if a year entered by the user is a leap year.\n",
    "\n",
    "- Take a variable that contains a year. Convert the input to an integer.\n",
    "- A year is a leap year if it is divisible by 4 but not by 100, unless it is also divisible by 400. Use this information to check if the year is a leap year using comparison and logical operators.\n",
    "- Print a message indicating whether the year is a leap year or not. For example, \"The year 2000 is a leap year: True\".\n"
   ]
  },
  {
   "cell_type": "code",
   "execution_count": null,
   "metadata": {},
   "outputs": [],
   "source": [
    "# [Your code here]"
   ]
  },
  {
   "cell_type": "markdown",
   "metadata": {},
   "source": [
    "## 2. Control Structures\n",
    "Control structures are fundamental to programming, allowing you to control the flow of execution based on conditions and perform repetitive tasks efficiently. Python provides several control structures, with if, elif, and else for conditional execution, and for and while loops for iteration.\n",
    "\n",
    "##### Conditional Statements: if, elif, and else\n",
    "Conditional statements let you execute different blocks of code based on certain conditions. These are the building blocks of decision-making in programming.\n",
    "\n",
    "Syntax:"
   ]
  },
  {
   "cell_type": "code",
   "execution_count": 16,
   "metadata": {},
   "outputs": [
    {
     "name": "stdout",
     "output_type": "stream",
     "text": [
      "code to execute if all above conditions are False\n"
     ]
    }
   ],
   "source": [
    "condition=False\n",
    "another_condition = False \n",
    "\n",
    "if condition:\n",
    "    print('code to execute if condition is True')\n",
    "elif another_condition:\n",
    "    print('code to execute if another_condition is True')\n",
    "else:\n",
    "    print('code to execute if all above conditions are False')"
   ]
  },
  {
   "cell_type": "markdown",
   "metadata": {},
   "source": [
    "Example"
   ]
  },
  {
   "cell_type": "code",
   "execution_count": 17,
   "metadata": {},
   "outputs": [
    {
     "name": "stdout",
     "output_type": "stream",
     "text": [
      "You are eligible to vote.\n"
     ]
    }
   ],
   "source": [
    "age = 18\n",
    "if age >= 18:\n",
    "    print(\"You are eligible to vote.\")\n",
    "elif age < 0:\n",
    "    print(\"Age cannot be negative.\")\n",
    "else:\n",
    "    print(\"You are not eligible to vote yet.\")"
   ]
  },
  {
   "cell_type": "markdown",
   "metadata": {},
   "source": [
    "#### Looping Constructs: for Loops and while Loops\n",
    "Loops are used to execute a block of code repeatedly, as long as a condition is met. Python provides for loops for iterating over a sequence (like a list, tuple, dictionary, set, or string) and while loops to execute a set of statements as long as a condition is true.\n",
    "\n",
    "for Loop Syntax:"
   ]
  },
  {
   "cell_type": "code",
   "execution_count": null,
   "metadata": {},
   "outputs": [],
   "source": [
    "for element in sequence:\n",
    "    # code to execute for each element in sequence"
   ]
  },
  {
   "cell_type": "markdown",
   "metadata": {},
   "source": [
    "for Loop Example:\n"
   ]
  },
  {
   "cell_type": "code",
   "execution_count": 18,
   "metadata": {},
   "outputs": [
    {
     "name": "stdout",
     "output_type": "stream",
     "text": [
      "I like apple\n",
      "I like banana\n",
      "I like cherry\n"
     ]
    }
   ],
   "source": [
    "fruits = [\"apple\", \"banana\", \"cherry\"]\n",
    "for fruit in fruits:\n",
    "    print(f\"I like {fruit}\")"
   ]
  },
  {
   "cell_type": "markdown",
   "metadata": {},
   "source": [
    "while Loop Syntax:\n"
   ]
  },
  {
   "cell_type": "code",
   "execution_count": null,
   "metadata": {},
   "outputs": [],
   "source": [
    "while True:\n",
    "    # code to execute as long as condition is True"
   ]
  },
  {
   "cell_type": "markdown",
   "metadata": {},
   "source": [
    "while Loop Example:\n"
   ]
  },
  {
   "cell_type": "code",
   "execution_count": 19,
   "metadata": {},
   "outputs": [
    {
     "name": "stdout",
     "output_type": "stream",
     "text": [
      "Count is 0\n",
      "Count is 1\n",
      "Count is 2\n",
      "Count is 3\n",
      "Count is 4\n"
     ]
    }
   ],
   "source": [
    "count = 0\n",
    "while count < 5:\n",
    "    print(f\"Count is {count}\")\n",
    "    count += 1  # This is equivalent to count = count + 1"
   ]
  },
  {
   "cell_type": "code",
   "execution_count": 21,
   "metadata": {},
   "outputs": [
    {
     "data": {
      "text/plain": [
       "[5, 6, 7, 8, 9]"
      ]
     },
     "execution_count": 21,
     "metadata": {},
     "output_type": "execute_result"
    }
   ],
   "source": [
    "list(range(5,10))"
   ]
  },
  {
   "cell_type": "markdown",
   "metadata": {},
   "source": [
    "#### Combining Loops and Conditional Statements\n",
    "You can combine loops and conditional statements to perform more complex tasks.\n",
    "\n",
    "Example:\n"
   ]
  },
  {
   "cell_type": "code",
   "execution_count": 22,
   "metadata": {},
   "outputs": [
    {
     "name": "stdout",
     "output_type": "stream",
     "text": [
      "1 is odd\n",
      "2 is even\n",
      "3 is odd\n",
      "4 is even\n",
      "5 is odd\n",
      "6 is even\n",
      "7 is odd\n",
      "8 is even\n",
      "9 is odd\n",
      "10 is even\n"
     ]
    }
   ],
   "source": [
    "# Print even numbers between 1 and 10\n",
    "for number in range(1, 11):  # range(1, 11) generates numbers from 1 to 10\n",
    "    if number % 2 == 0:\n",
    "        print(f\"{number} is even\")\n",
    "    else:\n",
    "        print(f\"{number} is odd\")"
   ]
  },
  {
   "cell_type": "markdown",
   "metadata": {},
   "source": [
    "### Exercises Part 2: Control structures"
   ]
  },
  {
   "cell_type": "markdown",
   "metadata": {},
   "source": [
    "#### Exercise 2.1: Grade Classifier\n",
    "Objective: Write a program that takes a student's score and classifies the grade based on the score.\n",
    "\n",
    "- Take a variable with a score between 0 and 100.\n",
    "- Use conditional statements to classify the score into grades:\n",
    "- A: 90-100\n",
    "- B: 80-89\n",
    "- C: 70-79\n",
    "- D: 60-69\n",
    "- F: below 60\n",
    "- Print the grade.\n",
    "\n"
   ]
  },
  {
   "cell_type": "code",
   "execution_count": null,
   "metadata": {},
   "outputs": [],
   "source": [
    "# [Your code here]\n",
    "score = 55\n",
    "if score >= 90:\n",
    "    print('A')\n",
    "elif score >= 80:\n",
    "    print('B')\n",
    "elif score >= 70:\n",
    "    print('C')\n",
    "elif score > 60:\n",
    "    print('D')\n",
    "else:\n",
    "    print('F :(')\n"
   ]
  },
  {
   "cell_type": "markdown",
   "metadata": {},
   "source": [
    "#### Exercise 2.2: Sum of Natural Numbers\n",
    "Objective: Use a loop to calculate the sum of all natural numbers up to a number n entered by the user.\n",
    "\n",
    "- Take a variable containing a positive integer n.\n",
    "- Use a for loop or a while loop to calculate the sum of all natural numbers up to and including n.\n",
    "- Print the sum.\n",
    "\n"
   ]
  },
  {
   "cell_type": "code",
   "execution_count": null,
   "metadata": {},
   "outputs": [],
   "source": [
    "# [Your code here]"
   ]
  },
  {
   "cell_type": "markdown",
   "metadata": {},
   "source": [
    "#### Exercise 2.3: Multiplication Table Printer\n",
    "Objective: Write a program that prints the multiplication table of a number entered by the user.\n",
    "\n",
    "- Take a variable containing a positive number n\n",
    "- Use a for loop to iterate through numbers 1 to 10 and print the multiplication table for the entered number.\n",
    "\n",
    "Example: \n",
    "- Number = 7\n",
    "- 7 x 1 = 7\n",
    "- 7 x 2 = 14\n",
    "- ...\n",
    "- 7 x 10 = 70\n"
   ]
  },
  {
   "cell_type": "code",
   "execution_count": null,
   "metadata": {},
   "outputs": [],
   "source": [
    "# [Your code here]"
   ]
  },
  {
   "cell_type": "markdown",
   "metadata": {},
   "source": [
    "\n",
    "#### Exercise 2.4: Factorial Calculator\n",
    "Objective: Write a program that calculates the factorial of a number entered by the user.\n",
    "\n",
    "- Take a variable with a non-negative integer.\n",
    "- Use a loop to calculate the factorial of the number (the factorial of any other number n is n * (n-1) * (n-2) * ... * 1. The factorial of 0 is 1. )\n",
    "- Print the factorial of the number.\n",
    "\n",
    "\n"
   ]
  },
  {
   "cell_type": "code",
   "execution_count": null,
   "metadata": {},
   "outputs": [],
   "source": [
    "# [Your code here]"
   ]
  },
  {
   "cell_type": "markdown",
   "metadata": {},
   "source": [
    "## 3. Data Structures\n",
    "- Lists: Creation, indexing, slicing, and methods to manipulate lists.\n",
    "- Tuples: Understanding immutable sequences.\n",
    "- Dictionaries: Key-value pairs, accessing, and modifying data.\n",
    "- Sets: Unordered collections of unique elements."
   ]
  },
  {
   "cell_type": "markdown",
   "metadata": {},
   "source": [
    "Data structures are fundamental concepts in programming, enabling efficient storage, access, and manipulation of data. Python provides several built-in data structures, such as lists, tuples, dictionaries, and sets, each with its own characteristics and use cases."
   ]
  },
  {
   "cell_type": "markdown",
   "metadata": {},
   "source": [
    "#### Lists\n",
    "A list in Python is an ordered collection of items that can be of different types. Lists are mutable, meaning their elements can be changed.\n"
   ]
  },
  {
   "cell_type": "code",
   "execution_count": 27,
   "metadata": {},
   "outputs": [],
   "source": [
    "my_list = [1, 2, 3, \"Python\", True]\n"
   ]
  },
  {
   "cell_type": "markdown",
   "metadata": {},
   "source": [
    "#### Indexing\n",
    "Access individual elements in a list using their index (starting from 0).\n",
    "\n"
   ]
  },
  {
   "cell_type": "code",
   "execution_count": 28,
   "metadata": {},
   "outputs": [
    {
     "name": "stdout",
     "output_type": "stream",
     "text": [
      "1\n",
      "Python\n"
     ]
    }
   ],
   "source": [
    "print(my_list[0])  # Output: 1\n",
    "print(my_list[3])  # Output: Python\n",
    "\n"
   ]
  },
  {
   "cell_type": "markdown",
   "metadata": {},
   "source": [
    "#### Slicing\n",
    "Slice a list to get a new list containing a subset of the original list's elements.\n"
   ]
  },
  {
   "cell_type": "code",
   "execution_count": 29,
   "metadata": {},
   "outputs": [
    {
     "name": "stdout",
     "output_type": "stream",
     "text": [
      "[2, 3, 'Python']\n"
     ]
    }
   ],
   "source": [
    "print(my_list[1:4])  # Output: [2, 3, \"Python\"]\n"
   ]
  },
  {
   "cell_type": "markdown",
   "metadata": {},
   "source": [
    "#### List Methods\n",
    "You can add and remove items from a list.\n"
   ]
  },
  {
   "cell_type": "code",
   "execution_count": 30,
   "metadata": {},
   "outputs": [
    {
     "name": "stdout",
     "output_type": "stream",
     "text": [
      "[2, 3, 'Python', True, 'New item']\n"
     ]
    }
   ],
   "source": [
    "my_list.append(\"New item\")  # Add an item to the end\n",
    "my_list.remove(True)        # Remove the first occurrence of an item\n",
    "print(my_list)              # Output: [1, 2, 3, 'Python', 'New item']\n",
    "\n"
   ]
  },
  {
   "cell_type": "markdown",
   "metadata": {},
   "source": [
    "#### Tuples\n",
    "Tuples are similar to lists but are immutable, meaning once a tuple is created, its elements cannot be changed.\n"
   ]
  },
  {
   "cell_type": "code",
   "execution_count": null,
   "metadata": {},
   "outputs": [],
   "source": [
    "my_tuple = (1, \"Hello\", 3.14)\n",
    "\n"
   ]
  },
  {
   "cell_type": "markdown",
   "metadata": {},
   "source": [
    "#### Accessing Elements\n",
    "Use indexing to access tuple elements.\n",
    "\n"
   ]
  },
  {
   "cell_type": "code",
   "execution_count": null,
   "metadata": {},
   "outputs": [],
   "source": [
    "print(my_tuple[1])  # Output: Hello\n"
   ]
  },
  {
   "cell_type": "markdown",
   "metadata": {},
   "source": [
    "#### Dictionaries\n",
    "Dictionaries store key-value pairs and are mutable. If you ask for the key, it will give you the value. Keys must be unique and immutable. \n",
    "\n"
   ]
  },
  {
   "cell_type": "code",
   "execution_count": 31,
   "metadata": {},
   "outputs": [],
   "source": [
    "my_dict = {\"name\": \"Alice\", \"age\": 25, \"is_student\": False}\n",
    "\n"
   ]
  },
  {
   "cell_type": "markdown",
   "metadata": {},
   "source": [
    "#### Accessing and Modifying Data in a dict\n"
   ]
  },
  {
   "cell_type": "code",
   "execution_count": 32,
   "metadata": {},
   "outputs": [
    {
     "name": "stdout",
     "output_type": "stream",
     "text": [
      "Alice\n",
      "{'name': 'Alice', 'age': 26, 'is_student': False, 'major': 'Computer Science'}\n"
     ]
    }
   ],
   "source": [
    "print(my_dict[\"name\"])          # Output: Alice\n",
    "my_dict[\"age\"] = 26             # Update value\n",
    "my_dict[\"major\"] = \"Computer Science\"  # Add new key-value pair\n",
    "print(my_dict)                  # Output: {'name': 'Alice', 'age': 26, 'is_student': False, 'major': 'Computer Science'}\n"
   ]
  },
  {
   "cell_type": "markdown",
   "metadata": {},
   "source": [
    "#### Removing Items from dict\n"
   ]
  },
  {
   "cell_type": "code",
   "execution_count": 33,
   "metadata": {},
   "outputs": [
    {
     "name": "stdout",
     "output_type": "stream",
     "text": [
      "{'name': 'Alice', 'age': 26, 'major': 'Computer Science'}\n"
     ]
    }
   ],
   "source": [
    "del my_dict[\"is_student\"]\n",
    "print(my_dict)  # Output: {'name': 'Alice', 'age': 26, 'major': 'Computer Science'}\n"
   ]
  },
  {
   "cell_type": "markdown",
   "metadata": {},
   "source": [
    "#### Sets\n",
    "Sets are unordered collections of unique elements. Sets allow you to do the mathematical operations that you learned in set theory:\n"
   ]
  },
  {
   "cell_type": "code",
   "execution_count": 34,
   "metadata": {},
   "outputs": [],
   "source": [
    "my_set = {1, 2, 3, 4, 5, 5, 5}"
   ]
  },
  {
   "cell_type": "code",
   "execution_count": 36,
   "metadata": {},
   "outputs": [
    {
     "data": {
      "text/plain": [
       "{1, 2, 3, 4, 5}"
      ]
     },
     "execution_count": 36,
     "metadata": {},
     "output_type": "execute_result"
    }
   ],
   "source": [
    "my_set"
   ]
  },
  {
   "cell_type": "markdown",
   "metadata": {},
   "source": [
    "##### Adding and Removing Elements\n"
   ]
  },
  {
   "cell_type": "code",
   "execution_count": 37,
   "metadata": {},
   "outputs": [
    {
     "name": "stdout",
     "output_type": "stream",
     "text": [
      "{1, 3, 4, 5, 6}\n"
     ]
    }
   ],
   "source": [
    "my_set.add(6)    # Add an element\n",
    "my_set.remove(2) # Remove an element\n",
    "print(my_set)    # Output: {1, 3, 4, 5, 6}\n"
   ]
  },
  {
   "cell_type": "markdown",
   "metadata": {},
   "source": [
    "##### Set Operations\n",
    "Sets support mathematical operations like union, intersection, and difference.\n",
    "\n"
   ]
  },
  {
   "cell_type": "code",
   "execution_count": 38,
   "metadata": {},
   "outputs": [
    {
     "name": "stdout",
     "output_type": "stream",
     "text": [
      "{1, 3, 4, 5, 6, 7, 8}\n",
      "{4, 5, 6}\n",
      "{1, 3}\n"
     ]
    }
   ],
   "source": [
    "another_set = {4, 5, 6, 7, 8}\n",
    "print(my_set.union(another_set))          # Output: {1, 3, 4, 5, 6, 7, 8}\n",
    "print(my_set.intersection(another_set))   # Output: {4, 5, 6}\n",
    "print(my_set.difference(another_set))     # Output: {1, 3}\n"
   ]
  },
  {
   "cell_type": "markdown",
   "metadata": {},
   "source": [
    "### Exercises Part 3: Data structures\n",
    "\n",
    "#### Exercise 3.1: List Manipulation\n",
    "Objective: Practice creating, accessing, and manipulating lists.\n",
    "\n",
    "- Create a list named fruits containing \"apple\", \"banana\", \"cherry\", and \"orange\".\n",
    "- Print the second item in the list.\n",
    "- Change the value of the third item to \"kiwi\", and add \"mango\" to the end of the list.\n",
    "- Remove \"apple\" from the list and print the final list.\n"
   ]
  },
  {
   "cell_type": "code",
   "execution_count": 39,
   "metadata": {},
   "outputs": [
    {
     "name": "stdout",
     "output_type": "stream",
     "text": [
      "banana\n"
     ]
    },
    {
     "data": {
      "text/plain": [
       "['banana', 'kiwi', 'orange', 'mango']"
      ]
     },
     "execution_count": 39,
     "metadata": {},
     "output_type": "execute_result"
    }
   ],
   "source": [
    "# [Your solution here]\n",
    "l = [\"apple\", \"banana\", \"cherry\", \"orange\"]\n",
    "print(l[1])\n",
    "l[2] = 'kiwi'\n",
    "l.append('mango')\n",
    "l.remove('apple')\n",
    "l"
   ]
  },
  {
   "cell_type": "markdown",
   "metadata": {},
   "source": [
    "#### Exercise 3.2: Tuple Operations\n",
    "Objective: Understand and work with tuples.\n",
    "\n",
    "- Create a tuple named coordinates with values (4, 5, 6).\n",
    "- Try changing the first value of coordinates to 10. What happens? Write a comment in your code explaining the outcome.\n",
    "- Create a new tuple named updated_coordinates by adding a new value, 7, to the existing coordinates tuple. Print updated_coordinates.\n",
    "\n"
   ]
  },
  {
   "cell_type": "code",
   "execution_count": 47,
   "metadata": {},
   "outputs": [
    {
     "name": "stdout",
     "output_type": "stream",
     "text": [
      "(4, 5, 6, 7)\n"
     ]
    }
   ],
   "source": [
    "# [Your solution here]\n",
    "coordinates = (4,5,6)\n",
    "# coordinates[0] = 10  #doesn't work\n",
    "# updated_coordinates = coordinates.append(7) #doesn't work\n",
    "updated_coordinates = coordinates + (7,) #creates a new tuple, and appends\n",
    "print(updated_coordinates)\n"
   ]
  },
  {
   "cell_type": "markdown",
   "metadata": {},
   "source": [
    "#### Exercise 3.3: Dictionary Data Handling\n",
    "Objective: Practice accessing and modifying dictionary data.\n",
    "\n",
    "- Create a dictionary named student with keys \"name\", \"age\", \"grade\", and \"subjects\", where \"subjects\" is a list containing \"Math\", \"Science\", and \"English\".\n",
    "- Print the age of the student.\n",
    "- Add a new key-value pair \"hobbies\" with a list value containing at least two hobbies.\n",
    "- Change the \"grade\" to the next higher grade (e.g., from 10 to 11) and add \"Art\" to the list of subjects.\n",
    "- Remove the \"age\" key from the dictionary and print the final student dictionary.\n"
   ]
  },
  {
   "cell_type": "code",
   "execution_count": null,
   "metadata": {},
   "outputs": [],
   "source": [
    "# [Your solution here]"
   ]
  },
  {
   "cell_type": "markdown",
   "metadata": {},
   "source": [
    "#### Exercise 3.4: Set Operations\n",
    "Objective: Explore set operations for unique collections.\n",
    "\n",
    "- Create two sets, set1 containing numbers 1 through 5 and set2 containing numbers 4 through 8.\n",
    "- Print the union of set1 and set2.\n",
    "- Print the intersection of set1 and set2.\n",
    "- Print the difference between set1 and set2.\n",
    "- Add the number 10 to set1 and remove the number 5. Print the updated set1.\n",
    "\n"
   ]
  },
  {
   "cell_type": "code",
   "execution_count": 55,
   "metadata": {},
   "outputs": [
    {
     "name": "stdout",
     "output_type": "stream",
     "text": [
      "{1, 2, 3, 4, 5, 6, 7, 8}\n",
      "{4, 5}\n",
      "{1, 2, 3}\n"
     ]
    },
    {
     "data": {
      "text/plain": [
       "{1, 2, 3, 4, 10}"
      ]
     },
     "execution_count": 55,
     "metadata": {},
     "output_type": "execute_result"
    }
   ],
   "source": [
    "# [Your solution here]\n",
    "set1 = set(range(1,6))\n",
    "set2 = set(range(4,9))\n",
    "print(set1.union(set2))\n",
    "print(set1.intersection(set2))\n",
    "print(set1-set2)\n",
    "set1.add(10)\n",
    "set1.remove(5)\n",
    "set1"
   ]
  },
  {
   "cell_type": "markdown",
   "metadata": {},
   "source": [
    "#### Exercise 3.5: Comprehensive Data Structure Challenge\n",
    "Objective: Use a combination of data structures to manage a more complex data set.\n",
    "\n",
    "- Create a dictionary named library to represent a collection of books. Each key in the dictionary should be a book title, and its value should be another dictionary with keys \"author\", \"year published\", and \"genre\".\n",
    "- Add at least three books to the library with appropriate information.\n",
    "- Print the names of all books in the library of a specific genre (e.g., \"Science Fiction\").\n",
    "- For one of the books, add a key \"ratings\" with a list of numerical ratings it has received. Then, calculate and print the average rating of that book."
   ]
  },
  {
   "cell_type": "code",
   "execution_count": null,
   "metadata": {},
   "outputs": [],
   "source": [
    "# [Your solution here]"
   ]
  },
  {
   "cell_type": "markdown",
   "metadata": {},
   "source": [
    "# 4. Functions\n",
    "Functions are blocks of reusable code designed to perform a specific task. They improve code readability, make it easier to debug, and reduce the amount of code duplication. This section covers the basics of defining and calling functions, understanding the scope and lifetime of variables, and using lambda functions.\n",
    "\n",
    "- Defining and calling functions: Parameters, return values.\n",
    "- Scope and lifetime of variables.\n",
    "- Lambda functions: Anonymous functions defined using the lambda keyword."
   ]
  },
  {
   "cell_type": "markdown",
   "metadata": {},
   "source": [
    "#### Defining and Calling Functions\n",
    "##### Defining a Function\n",
    "Use the def keyword followed by the function name and parentheses () to define a function. Parameters inside the parentheses are inputs to your function. A colon : follows the parentheses, and the indented block of code below the definition is the body of the function.\n",
    "\n"
   ]
  },
  {
   "cell_type": "code",
   "execution_count": 56,
   "metadata": {},
   "outputs": [],
   "source": [
    "def greet(name):\n",
    "    print(f\"Hello, {name}!\")\n"
   ]
  },
  {
   "cell_type": "markdown",
   "metadata": {},
   "source": [
    "#### Calling a Function\n",
    "Invoke the function by using its name followed by parentheses. If the function expects parameters, provide the values within the parentheses.\n",
    "\n"
   ]
  },
  {
   "cell_type": "code",
   "execution_count": 57,
   "metadata": {},
   "outputs": [
    {
     "name": "stdout",
     "output_type": "stream",
     "text": [
      "Hello, Alice!\n"
     ]
    }
   ],
   "source": [
    "greet(\"Alice\")  # Output: Hello, Alice!"
   ]
  },
  {
   "cell_type": "markdown",
   "metadata": {},
   "source": [
    "#### Parameters and Return Values\n",
    "Functions can return values using the return statement. The function ends as soon as a return statement is executed.\n",
    "\n"
   ]
  },
  {
   "cell_type": "code",
   "execution_count": 58,
   "metadata": {},
   "outputs": [
    {
     "name": "stdout",
     "output_type": "stream",
     "text": [
      "8\n"
     ]
    }
   ],
   "source": [
    "def add_numbers(a, b):\n",
    "    return a + b\n",
    "\n",
    "result = add_numbers(5, 3)\n",
    "print(result)  # Output: 8\n"
   ]
  },
  {
   "cell_type": "markdown",
   "metadata": {},
   "source": [
    "#### Scope and Lifetime of Variables\n",
    "- Local Scope: Variables declared within a function are local to that function and cannot be accessed outside of it. Their lifetime is as long as the function execution.\n",
    "- Global Scope: Variables declared outside all functions have a global scope and can be accessed from any part of the code, including inside functions.\n",
    "\n"
   ]
  },
  {
   "cell_type": "code",
   "execution_count": 60,
   "metadata": {},
   "outputs": [
    {
     "name": "stdout",
     "output_type": "stream",
     "text": [
      "horse\n",
      "local\n"
     ]
    }
   ],
   "source": [
    "x = \"global\"\n",
    "\n",
    "def func(x):\n",
    "    y = \"local\"\n",
    "    \n",
    "    print(x)  # Can access global variable x\n",
    "    print(y)  # Can access local variable y\n",
    "\n",
    "func('horse')\n",
    "# print(y)  # This will raise an error because y is not accessible here\n"
   ]
  },
  {
   "cell_type": "markdown",
   "metadata": {},
   "source": [
    "#### Lambda Functions\n",
    "Lambda functions are anonymous functions defined using the lambda keyword. They are typically used for simple operations, especially when you need a function for a short period.\n",
    "\n"
   ]
  },
  {
   "cell_type": "code",
   "execution_count": 61,
   "metadata": {},
   "outputs": [
    {
     "name": "stdout",
     "output_type": "stream",
     "text": [
      "30\n"
     ]
    }
   ],
   "source": [
    "multiply = lambda a, b: a * b\n",
    "print(multiply(5, 6))  # Output: 30\n"
   ]
  },
  {
   "cell_type": "markdown",
   "metadata": {},
   "source": [
    "#### Lambda functions are often used with functions like filter(), map(), and reduce() for operations on lists or tuples.\n",
    "\n",
    "Example with map()\n",
    "\n"
   ]
  },
  {
   "cell_type": "code",
   "execution_count": 62,
   "metadata": {},
   "outputs": [
    {
     "name": "stdout",
     "output_type": "stream",
     "text": [
      "[1, 4, 9, 16, 25]\n"
     ]
    }
   ],
   "source": [
    "numbers = [1, 2, 3, 4, 5]\n",
    "squared = map(lambda x: x ** 2, numbers)\n",
    "print(list(squared))  # Output: [1, 4, 9, 16, 25]\n"
   ]
  },
  {
   "cell_type": "markdown",
   "metadata": {},
   "source": [
    "### Exercises Part 4: Functions\n",
    "\n",
    "#### Exercise 4.1. Create a Function: \n",
    "Write a function named is_even that takes a number as a parameter and returns True if the number is even, False otherwise.\n",
    "\n"
   ]
  },
  {
   "cell_type": "code",
   "execution_count": 64,
   "metadata": {},
   "outputs": [
    {
     "data": {
      "text/plain": [
       "True"
      ]
     },
     "execution_count": 64,
     "metadata": {},
     "output_type": "execute_result"
    }
   ],
   "source": [
    "# [Your solution here]\n",
    "def is_even(number):\n",
    "    return (number % 2 == 0)\n",
    "is_even(4)"
   ]
  },
  {
   "cell_type": "markdown",
   "metadata": {},
   "source": [
    "#### Exercise 4.2. Function with Multiple Parameters\n",
    "- Write a function named divide that takes two parameters and returns their division result. \n",
    "- If the second number is zero, return a string saying \"Cannot divide by zero\".\n",
    "\n"
   ]
  },
  {
   "cell_type": "code",
   "execution_count": 65,
   "metadata": {},
   "outputs": [
    {
     "data": {
      "text/plain": [
       "2.5"
      ]
     },
     "execution_count": 65,
     "metadata": {},
     "output_type": "execute_result"
    }
   ],
   "source": [
    "# [Your solution here]\n",
    "def divide(a,b):\n",
    "    if b == 0:\n",
    "        return \"Cannot divide by zero\"\n",
    "    return a/b\n",
    "divide(5,2)\n"
   ]
  },
  {
   "cell_type": "markdown",
   "metadata": {},
   "source": [
    "#### Exercise 4.3. Using Global and Local Variables: \n",
    "- Define a global variable, counter = 0. \n",
    "- Write a function that increments this counter by 1 every time it is called.\n",
    "\n"
   ]
  },
  {
   "cell_type": "code",
   "execution_count": 67,
   "metadata": {},
   "outputs": [
    {
     "ename": "UnboundLocalError",
     "evalue": "cannot access local variable 'counter' where it is not associated with a value",
     "output_type": "error",
     "traceback": [
      "\u001b[0;31m---------------------------------------------------------------------------\u001b[0m",
      "\u001b[0;31mUnboundLocalError\u001b[0m                         Traceback (most recent call last)",
      "\u001b[1;32m/Users/petter/My Drive/TEACHING/2023 CSS RMSS course/Lectures/Week 1/Workshop - Introduction to Python/LearnPython.ipynb Cell 109\u001b[0m line \u001b[0;36m6\n\u001b[1;32m      <a href='vscode-notebook-cell:/Users/petter/My%20Drive/TEACHING/2023%20CSS%20RMSS%20course/Lectures/Week%201/Workshop%20-%20Introduction%20to%20Python/LearnPython.ipynb#Y205sZmlsZQ%3D%3D?line=2'>3</a>\u001b[0m \u001b[39mdef\u001b[39;00m \u001b[39madd_to_counter\u001b[39m():\n\u001b[1;32m      <a href='vscode-notebook-cell:/Users/petter/My%20Drive/TEACHING/2023%20CSS%20RMSS%20course/Lectures/Week%201/Workshop%20-%20Introduction%20to%20Python/LearnPython.ipynb#Y205sZmlsZQ%3D%3D?line=3'>4</a>\u001b[0m     counter\u001b[39m=\u001b[39mcounter\u001b[39m+\u001b[39m\u001b[39m1\u001b[39m\n\u001b[0;32m----> <a href='vscode-notebook-cell:/Users/petter/My%20Drive/TEACHING/2023%20CSS%20RMSS%20course/Lectures/Week%201/Workshop%20-%20Introduction%20to%20Python/LearnPython.ipynb#Y205sZmlsZQ%3D%3D?line=5'>6</a>\u001b[0m add_to_counter()\n\u001b[1;32m      <a href='vscode-notebook-cell:/Users/petter/My%20Drive/TEACHING/2023%20CSS%20RMSS%20course/Lectures/Week%201/Workshop%20-%20Introduction%20to%20Python/LearnPython.ipynb#Y205sZmlsZQ%3D%3D?line=6'>7</a>\u001b[0m \u001b[39mprint\u001b[39m(counter)\n\u001b[1;32m      <a href='vscode-notebook-cell:/Users/petter/My%20Drive/TEACHING/2023%20CSS%20RMSS%20course/Lectures/Week%201/Workshop%20-%20Introduction%20to%20Python/LearnPython.ipynb#Y205sZmlsZQ%3D%3D?line=7'>8</a>\u001b[0m add_to_counter()\n",
      "\u001b[1;32m/Users/petter/My Drive/TEACHING/2023 CSS RMSS course/Lectures/Week 1/Workshop - Introduction to Python/LearnPython.ipynb Cell 109\u001b[0m line \u001b[0;36m4\n\u001b[1;32m      <a href='vscode-notebook-cell:/Users/petter/My%20Drive/TEACHING/2023%20CSS%20RMSS%20course/Lectures/Week%201/Workshop%20-%20Introduction%20to%20Python/LearnPython.ipynb#Y205sZmlsZQ%3D%3D?line=2'>3</a>\u001b[0m \u001b[39mdef\u001b[39;00m \u001b[39madd_to_counter\u001b[39m():\n\u001b[0;32m----> <a href='vscode-notebook-cell:/Users/petter/My%20Drive/TEACHING/2023%20CSS%20RMSS%20course/Lectures/Week%201/Workshop%20-%20Introduction%20to%20Python/LearnPython.ipynb#Y205sZmlsZQ%3D%3D?line=3'>4</a>\u001b[0m     counter\u001b[39m=\u001b[39mcounter\u001b[39m+\u001b[39m\u001b[39m1\u001b[39m\n",
      "\u001b[0;31mUnboundLocalError\u001b[0m: cannot access local variable 'counter' where it is not associated with a value"
     ]
    }
   ],
   "source": []
  },
  {
   "cell_type": "markdown",
   "metadata": {},
   "source": [
    "#### Exercise 4.4. Experiment with Lambda: \n",
    "Use a lambda function with the filter() method to extract all odd numbers from a list.\n"
   ]
  },
  {
   "cell_type": "code",
   "execution_count": null,
   "metadata": {},
   "outputs": [],
   "source": [
    "# [Your solution here]"
   ]
  },
  {
   "cell_type": "markdown",
   "metadata": {},
   "source": [
    "## 5. Pandas \n",
    "The most powerful and advanced package for data handling and analysis is called `pandas`, and is commonly imported as `pd`. \n",
    "Most of your work in this course will involve using `pandas dataframes` to load, store and process information.\n",
    "\n",
    "[*This part of the course was adapted from the course by Mark Bakker*. See: https://mbakker7.github.io/exploratory_computing_with_python/ ]"
   ]
  },
  {
   "cell_type": "markdown",
   "metadata": {},
   "source": [
    "### Loading data with Pandas\n",
    "Data is often stored in CSV files (Comma Separated Values, although the values can be separated by other things than commas).\n"
   ]
  },
  {
   "cell_type": "code",
   "execution_count": null,
   "metadata": {},
   "outputs": [],
   "source": [
    "\n",
    "!pip install pandas\n"
   ]
  },
  {
   "cell_type": "code",
   "execution_count": 69,
   "metadata": {},
   "outputs": [],
   "source": [
    "import pandas as pd"
   ]
  },
  {
   "cell_type": "markdown",
   "metadata": {},
   "source": [
    "We will use only a few functions of the `pandas` package here. Full information on `pandas` can be found on the [pandas website](http://pandas.pydata.org/). \n",
    "Consider the following dataset, which is stored in the file `transport.csv`. It shows the percentage of transportation kilometers by car, bus or rail for four countries. The dataset has four columns. \n",
    "\n",
    "`country, car, bus, rail`  \n",
    "`some more explanations, yada yada yada`  \n",
    "`France, 86.1, 5.3, 8.6`  \n",
    "`Germany, 85.2, 7.1, 7.7`  \n",
    "`Netherlands, 86.4, 4.6, 9`  \n",
    "`United Kingdom, 88.2, 6.5, 5.3` \n",
    "\n",
    "This data file can be loaded with the `read_csv` function of the `pandas` package. The `read_csv` function has many options. We will use three of them here. The rows that need to be skipped are defined with the `skiprows` keyword (in this case row 1 with the `yada yada` text). The `skipinitialspace` keyword is set to `True` so that the column name ' car' is loaded without the initial space that is in the data file. And the `index_col` keyword is set to indicate that the names in column 0 can be used as an index to select a row."
   ]
  },
  {
   "cell_type": "code",
   "execution_count": 71,
   "metadata": {},
   "outputs": [],
   "source": [
    "tran = pd.read_csv('transport.csv', skiprows=[1], \n",
    "                   skipinitialspace=True, index_col=0)"
   ]
  },
  {
   "cell_type": "markdown",
   "metadata": {},
   "source": [
    "`pandas` loads data into a `DataFrame`. A `DataFrame` is like an array, but has many additional features for data analysis. For starters, once you have loaded the data, you can print it to the screen"
   ]
  },
  {
   "cell_type": "code",
   "execution_count": null,
   "metadata": {},
   "outputs": [],
   "source": [
    "tran.loc[(tran['car']=='')]"
   ]
  },
  {
   "cell_type": "code",
   "execution_count": 74,
   "metadata": {},
   "outputs": [
    {
     "data": {
      "text/html": [
       "<div>\n",
       "<style scoped>\n",
       "    .dataframe tbody tr th:only-of-type {\n",
       "        vertical-align: middle;\n",
       "    }\n",
       "\n",
       "    .dataframe tbody tr th {\n",
       "        vertical-align: top;\n",
       "    }\n",
       "\n",
       "    .dataframe thead th {\n",
       "        text-align: right;\n",
       "    }\n",
       "</style>\n",
       "<table border=\"1\" class=\"dataframe\">\n",
       "  <thead>\n",
       "    <tr style=\"text-align: right;\">\n",
       "      <th></th>\n",
       "      <th>car</th>\n",
       "      <th>bus</th>\n",
       "      <th>rail</th>\n",
       "    </tr>\n",
       "    <tr>\n",
       "      <th>country</th>\n",
       "      <th></th>\n",
       "      <th></th>\n",
       "      <th></th>\n",
       "    </tr>\n",
       "  </thead>\n",
       "  <tbody>\n",
       "    <tr>\n",
       "      <th>France</th>\n",
       "      <td>86.1</td>\n",
       "      <td>5.3</td>\n",
       "      <td>8.6</td>\n",
       "    </tr>\n",
       "    <tr>\n",
       "      <th>Germany</th>\n",
       "      <td>85.2</td>\n",
       "      <td>7.1</td>\n",
       "      <td>7.7</td>\n",
       "    </tr>\n",
       "    <tr>\n",
       "      <th>Netherlands</th>\n",
       "      <td>86.4</td>\n",
       "      <td>4.6</td>\n",
       "      <td>9.0</td>\n",
       "    </tr>\n",
       "    <tr>\n",
       "      <th>United Kingdom</th>\n",
       "      <td>88.2</td>\n",
       "      <td>6.5</td>\n",
       "      <td>5.3</td>\n",
       "    </tr>\n",
       "  </tbody>\n",
       "</table>\n",
       "</div>"
      ],
      "text/plain": [
       "                 car  bus  rail\n",
       "country                        \n",
       "France          86.1  5.3   8.6\n",
       "Germany         85.2  7.1   7.7\n",
       "Netherlands     86.4  4.6   9.0\n",
       "United Kingdom  88.2  6.5   5.3"
      ]
     },
     "execution_count": 74,
     "metadata": {},
     "output_type": "execute_result"
    }
   ],
   "source": [
    "tran"
   ]
  },
  {
   "cell_type": "markdown",
   "metadata": {},
   "source": [
    "When the `DataFrame` is large, you can still print it to the screen (`pandas` is smart enough not to show the entire DataFrame when it is very large), or you can simply print the first 5 lines of the `DataFrame` with the `.head()` function. \n",
    "\n",
    "A better option is the `display` function to display a nicely formatted `DataFrame` to the screen. "
   ]
  },
  {
   "cell_type": "code",
   "execution_count": null,
   "metadata": {},
   "outputs": [],
   "source": [
    "display(tran)"
   ]
  },
  {
   "cell_type": "markdown",
   "metadata": {},
   "source": [
    "### Basic `DataFrame` manipulation\n",
    "The rows and columns of a `DataFrame` may have names, as for the `tran` `DataFrame` shown above. To find out which names are used for the columns, use the `keys` function, which is accessible with the dot syntax. You can loop through the names of the columns."
   ]
  },
  {
   "cell_type": "code",
   "execution_count": 75,
   "metadata": {},
   "outputs": [
    {
     "name": "stdout",
     "output_type": "stream",
     "text": [
      "Names of columns:\n",
      "Index(['car', 'bus', 'rail'], dtype='object')\n",
      "car\n",
      "bus\n",
      "rail\n"
     ]
    }
   ],
   "source": [
    "print('Names of columns:')\n",
    "print(tran.keys())\n",
    "for key in tran.keys():\n",
    "    print(key)"
   ]
  },
  {
   "cell_type": "markdown",
   "metadata": {},
   "source": [
    "Each `DataFrame` may be indexed just like an array, by specifying the row and column number using the `.iloc` syntax (which stands for *index location*), where column 0 is the column labeled `car` (the column labeled as `country` was stored as an index when reading the csv file)."
   ]
  },
  {
   "cell_type": "code",
   "execution_count": 76,
   "metadata": {},
   "outputs": [
    {
     "name": "stdout",
     "output_type": "stream",
     "text": [
      "5.3\n",
      "85.2\n",
      "9.0\n",
      "car     88.2\n",
      "bus      6.5\n",
      "rail     5.3\n",
      "Name: United Kingdom, dtype: float64\n",
      "country\n",
      "France            5.3\n",
      "Germany           7.1\n",
      "Netherlands       4.6\n",
      "United Kingdom    6.5\n",
      "Name: bus, dtype: float64\n"
     ]
    }
   ],
   "source": [
    "print(tran.iloc[0, 1])  # gives the bus data for France\n",
    "print(tran.iloc[1, 0])  # gives the car data for Germany\n",
    "print(tran.iloc[2, 2])  # gives the rail data for Netherlands\n",
    "print(tran.iloc[3])     # all data for United Kindom\n",
    "print(tran.iloc[:, 1])  # all data for bus"
   ]
  },
  {
   "cell_type": "markdown",
   "metadata": {},
   "source": [
    "Alternatively, and often more explicit, values in a `DataFrame` may be selected by specifying the indices by name, using the `.loc` syntax. This is a bit more typing but it is *much* more clearly what you are doing. The equivalent of the code cell above, but using indices by name is"
   ]
  },
  {
   "cell_type": "code",
   "execution_count": 77,
   "metadata": {},
   "outputs": [
    {
     "name": "stdout",
     "output_type": "stream",
     "text": [
      "5.3\n",
      "85.2\n",
      "9.0\n",
      "car     88.2\n",
      "bus      6.5\n",
      "rail     5.3\n",
      "Name: United Kingdom, dtype: float64\n",
      "country\n",
      "France            5.3\n",
      "Germany           7.1\n",
      "Netherlands       4.6\n",
      "United Kingdom    6.5\n",
      "Name: bus, dtype: float64\n"
     ]
    }
   ],
   "source": [
    "print(tran.loc['France', 'bus'])\n",
    "print(tran.loc['Germany', 'car'])\n",
    "print(tran.loc['Netherlands', 'rail'])\n",
    "print(tran.loc['United Kingdom'])\n",
    "print(tran.loc[:, 'bus'])"
   ]
  },
  {
   "cell_type": "markdown",
   "metadata": {},
   "source": [
    "There are two alternative ways to access all the data in a column. First, you can simply specify the column name as an index, without having to use the `.loc` syntax. Second, the dot syntax may be used by typing `.column_name`, where `column_name` is the name of the column. Hence, the following three are equivalent"
   ]
  },
  {
   "cell_type": "code",
   "execution_count": null,
   "metadata": {},
   "outputs": [],
   "source": [
    "print(tran.loc[:, 'car'])  # all rows of 'car' column\n",
    "print(tran['car'])        # 'car' column \n",
    "print(tran.car)"
   ]
  },
  {
   "cell_type": "markdown",
   "metadata": {},
   "source": [
    "If you want to access the data in a row, only the `.loc` notation works"
   ]
  },
  {
   "cell_type": "code",
   "execution_count": 78,
   "metadata": {},
   "outputs": [
    {
     "data": {
      "text/plain": [
       "car     86.1\n",
       "bus      5.3\n",
       "rail     8.6\n",
       "Name: France, dtype: float64"
      ]
     },
     "execution_count": 78,
     "metadata": {},
     "output_type": "execute_result"
    }
   ],
   "source": [
    "tran.loc['France']"
   ]
  },
  {
   "cell_type": "markdown",
   "metadata": {},
   "source": [
    "### `numpy` functions for DataFrames\n",
    "`DataFrame` objects can often be treated as arrays, especially when they contain data. Most `numpy` functions work on `DataFrame` objects, but they can also be accessed with the *dot* syntax, like `dataframe_name.function()`. Simply type \n",
    "\n",
    "`tran.` \n",
    "\n",
    "in a code cell and then hit the [tab] key to see all the functions that are available (there are many). In the code cell below, we compute the maximum value of transportation by car, the country corresponding to the maximum value of transportation by car (in `pandas` this is `idxmax` rather than the `argmax` used in `numpy`), and the mean value of all transportation by car. "
   ]
  },
  {
   "cell_type": "code",
   "execution_count": null,
   "metadata": {},
   "outputs": [],
   "source": [
    "print('maximum car travel percentage:', tran.car.max())\n",
    "print('country with maximum car travel percentage:', tran.car.idxmax())\n",
    "print('mean car travel percentage:', tran.car.mean())"
   ]
  },
  {
   "cell_type": "markdown",
   "metadata": {},
   "source": [
    "You can also find all values larger than a specified value, just like for arrays."
   ]
  },
  {
   "cell_type": "code",
   "execution_count": null,
   "metadata": {},
   "outputs": [],
   "source": [
    "print('all rail travel above 8 percent:')\n",
    "print(tran.rail[tran.rail > 8])"
   ]
  },
  {
   "cell_type": "markdown",
   "metadata": {},
   "source": [
    "The code above identified France and Netherlands as the countries with more than 8% transport by rail, but the code returned a series with the country names and the value in the rail column. If you only want the names of the countries, you need to ask for the values of the index column"
   ]
  },
  {
   "cell_type": "code",
   "execution_count": null,
   "metadata": {},
   "outputs": [],
   "source": [
    "print(tran.index[tran.rail > 8].values)"
   ]
  },
  {
   "cell_type": "markdown",
   "metadata": {},
   "source": [
    "### Adding a column to a `DataFrame`\n",
    "A column may be added to a `DataFrame` by simply specifying the name and values of the new column using the syntax `DataFrame['newcolumn']=something`. For example, let's add a column named `public_transport`, which is the sum of the `bus` and `rail` columns, and then find the country with the largest percentage of public transport"
   ]
  },
  {
   "cell_type": "code",
   "execution_count": null,
   "metadata": {},
   "outputs": [],
   "source": [
    "tran['public_transport'] = tran.bus + tran.rail\n",
    "print('Country with largest percentage public transport:', tran.public_transport.idxmax())"
   ]
  },
  {
   "cell_type": "markdown",
   "metadata": {},
   "source": [
    "### Plotting DataFrames\n",
    "You can plot the column or row of a DataFrame with `matplotlib` functions, as we have done in previous Notebooks, but `pandas` has also implemented its own, much more convenient, plotting functions (still based on `matplotlib` in the background, of course). The plotting capabilities of `pandas` use the *dot* syntax, like `dataframe.plot()`. All columns can be plotted simultaneously (note that the names appear on the axes and the legend is added automatically!)."
   ]
  },
  {
   "cell_type": "code",
   "execution_count": null,
   "metadata": {},
   "outputs": [],
   "source": [
    "tran.plot();  # plot all columns"
   ]
  },
  {
   "cell_type": "markdown",
   "metadata": {},
   "source": [
    "You can also plot one column at a time. The style of the plot may be specified with the `kind` keyword (the default is `'line'`). Check out `tran.plot?` for more options. "
   ]
  },
  {
   "cell_type": "code",
   "execution_count": null,
   "metadata": {},
   "outputs": [],
   "source": [
    "tran['bus'].plot(kind='bar')"
   ]
  },
  {
   "cell_type": "markdown",
   "metadata": {},
   "source": [
    "### Sorting DataFrames\n",
    "DataFrames may be sorted with the `.sort_values` function. The keyword `inplace=True` replaces the values in the DataFrame with the new sorted values (when `inplace=False` a new DataFrame is returned, which you can store in a separate variable so that you have two datasets, one sorted and one unsorted). The `sort_values` function has several keyword arguments, including `by` which is either the name of one column to sort by or a list of columns so that data is sorted by the first column in the list and when values are equal they are sorted by the next column in the list. Another keyword is `ascending`, which you can use to specify whether to sort in ascending order (`ascending=True`, which is the default), or descending order (`ascending=False`)"
   ]
  },
  {
   "cell_type": "code",
   "execution_count": null,
   "metadata": {},
   "outputs": [],
   "source": [
    "print('Data sorted by car use:')\n",
    "display(tran.sort_values(by='car'))\n",
    "print('Data sorted by bus use:')\n",
    "display(tran.sort_values(by='bus'))"
   ]
  },
  {
   "cell_type": "markdown",
   "metadata": {},
   "source": [
    "### Renaming columns\n",
    "Sometimes (quite often, really), the names of columns in a dataset are not very convenient (long, including spaces, etc.). For the example of the transportation data, the columns have convenient names, but let's change them for demonstration purposes. You can rename columns inplace, and you can change as many columns as you want. The old and new names are specified with a Python dictionary. A dictionary is a very useful data type. It is specified between braces `{}`, and links a word in the dictionary to a value. The value can be anything. You can then use the word in the dictionary as the index, just like you would look up a word in an paper dictionary."
   ]
  },
  {
   "cell_type": "code",
   "execution_count": null,
   "metadata": {},
   "outputs": [],
   "source": [
    "firstdictionary = {'goals': 20, 'city': 'Delft'}\n",
    "print(firstdictionary['goals'])\n",
    "print(firstdictionary['city'])"
   ]
  },
  {
   "cell_type": "markdown",
   "metadata": {},
   "source": [
    "Much more on Python dictionaries can be found, for example, [here](https://www.w3schools.com/python/python_dictionaries.asp). Let's continue with renaming two of the columns of the `tran` `DataFrame`: "
   ]
  },
  {
   "cell_type": "code",
   "execution_count": null,
   "metadata": {},
   "outputs": [],
   "source": [
    "tran.rename(columns={'bus': 'BUS', \n",
    "                     'rail': 'train'}, inplace=True)\n",
    "display(tran)"
   ]
  },
  {
   "cell_type": "markdown",
   "metadata": {},
   "source": [
    "The index column, with the countries, is now called `'country'`, but we can rename that too, for example to `'somewhere in Europe'`, with the following syntax"
   ]
  },
  {
   "cell_type": "code",
   "execution_count": null,
   "metadata": {},
   "outputs": [],
   "source": [
    "tran.index.names = ['somewhere in Europe']\n",
    "display(tran)"
   ]
  },
  {
   "cell_type": "markdown",
   "metadata": {},
   "source": [
    "### Setting values based on a condition\n",
    "Values of a column may be changed based on a condition. For example, all values of the concentration above 0.2 may be set to 0.2 with the following syntax"
   ]
  },
  {
   "cell_type": "code",
   "execution_count": null,
   "metadata": {},
   "outputs": [],
   "source": [
    "data.loc[data.conc>0.2, 'conc'] = 0.2\n",
    "display(data)"
   ]
  },
  {
   "cell_type": "markdown",
   "metadata": {},
   "source": [
    "### Exercises Part 5: Pandas \n",
    "\n",
    "#### Exercise 5.1. Average annual rainfall by country\n",
    "The file `annual_precip.csv` contains the average yearly rainfall and total land area for all the countries in the world (well, there are some missing values);  the data is available on the website of the <a href=\"http://data.worldbank.org/\">world bank</a>. Open the data file to see what it looks like (just click on it in the Files tab on the Jupyter Dashboard). Load the data with the `read_csv` function of `pandas`, making sure that the names of the countries can be used to select a row, and perform the following tasks:\n",
    "\n",
    "* Print the first 5 lines of the `DataFrame` to the screen with the `.head()` function.\n",
    "* Print the average annual rainfall for Panama and make sure to include the units.\n",
    "* Report the total land area of the Netherlands and make sure to include the units.\n",
    "* Report all countries with an average annual rainfall less than 200 mm/year\n",
    "* Report all countries with an average annual rainfall more than 2500 mm/year\n",
    "* Report all countries with an average annual rainfall that is within 50 mm/year of the average annual rainfall in the Netherlands\n"
   ]
  },
  {
   "cell_type": "code",
   "execution_count": null,
   "metadata": {},
   "outputs": [],
   "source": [
    "# [Your solution here]"
   ]
  },
  {
   "cell_type": "markdown",
   "metadata": {},
   "source": [
    "## 6. Basic plotting \n",
    "Plotting is not part of standard Python, but a nice package exists to create pretty graphics (and ugly ones, if you want). A package is a library of functions for a specific set of tasks. There are many Python packages and we will use several of them. The graphics package we use is called `matplotlib`. To be able to use the plotting functions in `matplotlib`, we have to import it. We will learn several different ways of importing packages. For now, we import the plotting part of `matplotlib` and call it `plt`. Before we import `matplotlib`, we tell the Jupyter Notebook to show any graphs inside this Notebook and not in a separate window using the `%matplotlib inline` command (more on these commands later). \n",
    "\n",
    "[*This part of the course was adapted from the course by Mark Bakker*. See: https://mbakker7.github.io/exploratory_computing_with_python/ ]"
   ]
  },
  {
   "cell_type": "code",
   "execution_count": null,
   "metadata": {},
   "outputs": [],
   "source": [
    "%matplotlib inline\n",
    "import matplotlib.pyplot as plt"
   ]
  },
  {
   "cell_type": "markdown",
   "metadata": {},
   "source": [
    "Packages only have to be imported once in a Python session. After the above import statement, any plotting function may be called from any code cell as `plt.function`. For example"
   ]
  },
  {
   "cell_type": "code",
   "execution_count": null,
   "metadata": {},
   "outputs": [],
   "source": [
    "plt.plot([1, 2, 4, 2])"
   ]
  },
  {
   "cell_type": "markdown",
   "metadata": {},
   "source": [
    "Let's try to plot $y$ vs $x$ for $x$ going from $-4$ to $+4$ for the polynomial\n",
    "$y=ax^2+bx+c$ with $a=1$, $b=1$, $c=-6$.\n",
    "To do that, we need to evaluate $y$ at a bunch of points. A sequence of values of the same type is called an array (for example an array of integers or floats). Array functionality is available in the package `numpy`. Let's import `numpy` and call it `np`, so that any function in the `numpy` package may be called as `np.function`. "
   ]
  },
  {
   "cell_type": "code",
   "execution_count": null,
   "metadata": {},
   "outputs": [],
   "source": [
    "import numpy as np"
   ]
  },
  {
   "cell_type": "markdown",
   "metadata": {},
   "source": [
    "To create an array `x` consisting of, for example, 5 equally spaced points between `-4` and `4`, use the `linspace` command"
   ]
  },
  {
   "cell_type": "code",
   "execution_count": null,
   "metadata": {},
   "outputs": [],
   "source": [
    "x = np.linspace(-4, 4, 5)\n",
    "print(x)"
   ]
  },
  {
   "cell_type": "markdown",
   "metadata": {},
   "source": [
    "In the above cell, `x` is an array of 5 floats (`-4.` is a float, `-4` is an integer).\n",
    "If you type `np.linspace` and then an opening parenthesis like:\n",
    "\n",
    "`np.linspace(` \n",
    "\n",
    "and then hit [shift-tab] a little help box pops up to explain the input arguments of the function. When you click on the + sign, you can scroll through all the documentation of the `linspace` function. Click on the x sign to remove the help box. Let's plot $y$ using 100 $x$ values from \n",
    "$-4$ to $+4$."
   ]
  },
  {
   "cell_type": "code",
   "execution_count": null,
   "metadata": {},
   "outputs": [],
   "source": [
    "a = 1\n",
    "b = 1\n",
    "c = -6\n",
    "x = np.linspace(-4, 4, 100)\n",
    "y = a * x ** 2 + b * x + c  # Compute y for all x values\n",
    "plt.plot(x, y)"
   ]
  },
  {
   "cell_type": "markdown",
   "metadata": {},
   "source": [
    "Note that  *one hundred* `y` values are computed in the simple line `y = a * x ** 2 + b * x + c`. Python treats arrays in the same fashion as it treats regular variables when you perform mathematical operations. The math is simply applied to every value in the array (and it runs much faster than when you would do every calculation separately). \n",
    "\n",
    "You may wonder what the statement like `[<matplotlib.lines.Line2D at 0x30990b0>]` is (the numbers above on your machine may look different). This is actually a handle to the line that is created with the last command in the code block (in this case `plt.plot(x, y)`). Remember: the result of the last line in a code cell is printed to the screen, unless it is stored in a variable. You can tell the Notebook not to print this to the screen by putting a semicolon after the last command in the code block (so type `plot(x, y);`). We will learn later on that it may also be useful to store this handle in a variable."
   ]
  },
  {
   "cell_type": "markdown",
   "metadata": {},
   "source": [
    "The `plot` function can take many arguments. Looking at the help box of the `plot` function, by typing `plt.plot(` and then shift-tab, gives you a lot of help. Typing `plt.plot?` gives a new scrollable subwindow at the bottom of the notebook, showing the documentation on `plot`. Click the x in the upper right hand corner to close the subwindow again."
   ]
  },
  {
   "cell_type": "markdown",
   "metadata": {},
   "source": [
    "In short, `plot` can be used with one argument as `plot(y)`, which plots `y` values along the vertical axis and enumerates the horizontal axis starting at 0. `plot(x, y)` plots `y` vs `x`, and `plot(x, y, formatstring)` plots `y` vs `x` using colors and markers defined in `formatstring`, which can be a lot of things. It can be used to define the color, for example `'b'` for blue, `'r'` for red, and `'g'` for green. Or it can be used to define the linetype `'-'` for line, `'--'` for dashed, `':'` for dots. Or you can define markers, for example `'o'` for circles and `'s'` for squares. You can even combine them: `'r--'` gives a red dashed line, while `'go'` gives green circular markers. "
   ]
  },
  {
   "cell_type": "markdown",
   "metadata": {},
   "source": [
    "If that isn't enough, `plot` takes a large number of keyword arguments. A keyword argument is an optional argument that may be added to a function. The syntax is `function(keyword1=value1, keyword2=value2)`, etc. For example, to plot a line with width 6 (the default is 1), type"
   ]
  },
  {
   "cell_type": "code",
   "execution_count": null,
   "metadata": {},
   "outputs": [],
   "source": [
    "plt.plot([1, 2, 3], [2, 4, 3], linewidth=6);"
   ]
  },
  {
   "cell_type": "markdown",
   "metadata": {},
   "source": [
    "Keyword arguments should come after regular arguments. `plot(linewidth=6, [1, 2, 3], [2, 4, 3])` gives an error."
   ]
  },
  {
   "cell_type": "markdown",
   "metadata": {},
   "source": [
    "Names may be added along the axes with the `xlabel` and `ylabel` functions, e.g., `plt.xlabel('this is the x-axis')`. Note that both functions take a string as argument. A title can be added to the figure with the `plt.title` command. Multiple curves can be added to the same figure by giving multiple plotting commands in the same code cell. They are automatically added to the same figure."
   ]
  },
  {
   "cell_type": "markdown",
   "metadata": {},
   "source": [
    "### New figure and figure size\n",
    "\n",
    "Whenever you give a plotting statement in a code cell, a figure with a default size is automatically created, and all subsequent plotting statements in the code cell are added to the same figure. If you want a different size of the figure, you can create a figure first with the desired figure size using the `plt.figure(figsize=(width, height))` syntax. Any subsequent plotting statement in the code cell is then added to the figure. You can even create a second figure (or third or fourth...)."
   ]
  },
  {
   "cell_type": "code",
   "execution_count": null,
   "metadata": {},
   "outputs": [],
   "source": [
    "plt.figure(figsize=(10, 3))\n",
    "plt.plot([1, 2, 3], [2, 4, 3], linewidth=6)\n",
    "plt.title('very wide figure')\n",
    "plt.figure()  # new figure of default size\n",
    "plt.plot([1, 2, 3], [1, 3, 1], 'r')\n",
    "plt.title('second figure')"
   ]
  },
  {
   "cell_type": "markdown",
   "metadata": {},
   "source": [
    "### Exercises Part 6: Basic Plotting\n",
    "\n",
    "#### Exercise 6.1: Plot a function\n",
    "Plot $y=(x+2)(x-1)(x-2)$ for $x$ going from $-3$ to $+3$ using a dashed red line. \n",
    "\n",
    "On the same figure, plot a blue circle for every point where $y$ equals zero. \n",
    "\n",
    "\n",
    "Label the axes as 'x-axis' and 'y-axis'. Add the title 'First nice Python figure of Your Name', where you enter your own name."
   ]
  },
  {
   "cell_type": "code",
   "execution_count": null,
   "metadata": {},
   "outputs": [],
   "source": [
    "# [Your solution here]"
   ]
  },
  {
   "cell_type": "markdown",
   "metadata": {},
   "source": [
    "#### Exercise 6.2: Simple scatter plot \n",
    "Provide a scatter plot of y as a function of x for the following data."
   ]
  },
  {
   "cell_type": "code",
   "execution_count": null,
   "metadata": {},
   "outputs": [],
   "source": [
    "x = np.linspace(0, 10, 50)  # 50 linearly spaced numbers from 0 to 10\n",
    "y = np.sin(x) + np.random.normal(0, 0.1, 50)  # y = sin(x) + some noise\n",
    "\n",
    "# [Your solution here]"
   ]
  },
  {
   "cell_type": "markdown",
   "metadata": {},
   "source": [
    "## Part 7. Error and Exception Handling\n",
    "In Python, errors and exceptions are situations that disrupt the normal flow of a program's execution. Understanding how to handle these errors gracefully is crucial for building robust and user-friendly applications.\n",
    "\n",
    "- Basics of error types in Python.\n",
    "- Using try, except, finally, and else blocks to handle exceptions.\n"
   ]
  },
  {
   "cell_type": "markdown",
   "metadata": {},
   "source": [
    "#### Basics of Error Types in Python\n",
    "Errors in Python can be broadly classified into two categories:\n",
    "\n",
    "- Syntax Errors: These occur when the parser detects incorrect syntax. They are often typos or incorrect use of Python's syntax rules.\n",
    "\n",
    "Example:\n",
    "\n"
   ]
  },
  {
   "cell_type": "code",
   "execution_count": null,
   "metadata": {},
   "outputs": [],
   "source": [
    "print(\"Hello world\"\n"
   ]
  },
  {
   "cell_type": "markdown",
   "metadata": {},
   "source": [
    "This will result in a SyntaxError because the closing parenthesis is missing.\n",
    "\n",
    "- Exceptions: These are errors detected during execution. Common exceptions include ValueError, TypeError, IndexError, etc.\n",
    "\n",
    "Example:\n",
    "\n"
   ]
  },
  {
   "cell_type": "code",
   "execution_count": null,
   "metadata": {},
   "outputs": [],
   "source": [
    "numbers = [1, 2, 3]\n",
    "print(numbers[3])\n"
   ]
  },
  {
   "cell_type": "markdown",
   "metadata": {},
   "source": [
    "This will raise an IndexError because there is no item at index 3.\n",
    "\n",
    "#### Using try, except, finally, and else Blocks\n",
    "To handle exceptions and errors, Python provides the try, except, finally, and else blocks.\n",
    "\n",
    "##### try and except Blocks\n",
    "Use these to catch and handle exceptions. You can specify the type of exception to catch or use a generic except to catch all exceptions.\n",
    "\n",
    "Example:\n",
    "\n"
   ]
  },
  {
   "cell_type": "code",
   "execution_count": null,
   "metadata": {},
   "outputs": [],
   "source": [
    "try:\n",
    "    # Code that may raise an exception\n",
    "    result = 10 / 0\n",
    "except ZeroDivisionError:\n",
    "    # Code that runs if the exception occurs\n",
    "    print(\"You can't divide by zero!\")\n",
    "\n"
   ]
  },
  {
   "cell_type": "markdown",
   "metadata": {},
   "source": [
    "#### else block\n",
    "This block runs if no exceptions were raised in the try block.\n",
    "\n",
    "Example:\n",
    "\n"
   ]
  },
  {
   "cell_type": "code",
   "execution_count": null,
   "metadata": {},
   "outputs": [],
   "source": [
    "try:\n",
    "    print(\"Trying to open the file...\")\n",
    "    file = open('file.txt', 'r')\n",
    "except FileNotFoundError:\n",
    "    print(\"File not found.\")\n",
    "else:\n",
    "    print(\"File opened successfully.\")\n",
    "    file.close()\n"
   ]
  },
  {
   "cell_type": "markdown",
   "metadata": {},
   "source": [
    "#### finally Block\n",
    "Code within the finally block runs regardless of whether an exception was raised or not. It's typically used for clean-up actions.\n",
    "\n",
    "Example:\n",
    "\n"
   ]
  },
  {
   "cell_type": "code",
   "execution_count": null,
   "metadata": {},
   "outputs": [],
   "source": [
    "try:\n",
    "    file = open('file.txt', 'r')\n",
    "except FileNotFoundError:\n",
    "    print(\"File not found.\")\n",
    "finally:\n",
    "    print(\"This will run regardless of previous blocks.\")\n",
    "    # It's a good place to close resources\n",
    "    # file.close() # Uncomment after ensuring 'file' is defined\n"
   ]
  },
  {
   "cell_type": "markdown",
   "metadata": {},
   "source": [
    "### Exercise Part 7: Errors and exceptions\n",
    "- Write a function that takes two two numbers and then divides them. \n",
    "- Use try, except, else, and finally blocks to handle possible exceptions such as division by zero or invalid inputs. \n",
    "- Ensure that all input is properly validated and that any error messages are user-friendly.\n"
   ]
  },
  {
   "cell_type": "code",
   "execution_count": null,
   "metadata": {},
   "outputs": [],
   "source": [
    "def division(a,b): \n",
    "    # [Your code here3]\n"
   ]
  }
 ],
 "metadata": {
  "kernelspec": {
   "display_name": "Python 3",
   "language": "python",
   "name": "python3"
  },
  "language_info": {
   "codemirror_mode": {
    "name": "ipython",
    "version": 3
   },
   "file_extension": ".py",
   "mimetype": "text/x-python",
   "name": "python",
   "nbconvert_exporter": "python",
   "pygments_lexer": "ipython3",
   "version": "3.11.6"
  }
 },
 "nbformat": 4,
 "nbformat_minor": 2
}
