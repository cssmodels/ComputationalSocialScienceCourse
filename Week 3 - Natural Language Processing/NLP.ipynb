{
 "cells": [
  {
   "cell_type": "markdown",
   "id": "bd0f7cf7-3591-4b1e-8f20-9613d2571fed",
   "metadata": {},
   "source": [
    "# Natural Language Processing "
   ]
  },
  {
   "cell_type": "markdown",
   "id": "8b7172e3-f43b-4125-9e1c-f492a653609f",
   "metadata": {},
   "source": [
    "In this workshop, we will try out different NLP methods. We will learn how to preprocess text, and how it affects the outcomes of the methods.\n",
    "\n",
    "We will do so by applying NLP to a dataset of Trump Twitter messages. \n",
    "\n",
    "You will also get to make sure that you have all the required packages and that they run properly. You may find that some of the packages will require some fiddling, in particular visualization in Jupyter with BERTopic. \n",
    "\n",
    "The type of preprocessing needed varies between methods, and the preprocessing can affect the result in important and not always easily predictable ways.\n",
    "\n",
    "We will look at different NLP tasks, such as sentiment analysis, topic modeling, and machine learning, and your task will be to find how to preprocess the data to produce the best outcomes.\n",
    "\n"
   ]
  },
  {
   "cell_type": "code",
   "execution_count": 1,
   "id": "40d8fec6-274c-4b3b-98e3-bde1c1a8c9a2",
   "metadata": {},
   "outputs": [],
   "source": [
    "import pandas as pd"
   ]
  },
  {
   "cell_type": "code",
   "execution_count": 3,
   "id": "7af9d077-d784-41b9-9cc9-14016aadf4bb",
   "metadata": {},
   "outputs": [],
   "source": [
    "#Let's load the data\n",
    "df = pd.read_csv('trumptweets.csv')\n"
   ]
  },
  {
   "cell_type": "markdown",
   "id": "5d4a4f5d-d893-4c1c-8b50-d7304e52c95a",
   "metadata": {},
   "source": [
    "## Overview of data"
   ]
  },
  {
   "cell_type": "markdown",
   "metadata": {},
   "source": [
    "Let's start by getting a feeling for the data, through some simple descriptive statistics."
   ]
  },
  {
   "cell_type": "code",
   "execution_count": 70,
   "id": "f24c6bcc-0957-441f-af92-6fcb4de06fce",
   "metadata": {},
   "outputs": [
    {
     "data": {
      "text/html": [
       "<div>\n",
       "<style scoped>\n",
       "    .dataframe tbody tr th:only-of-type {\n",
       "        vertical-align: middle;\n",
       "    }\n",
       "\n",
       "    .dataframe tbody tr th {\n",
       "        vertical-align: top;\n",
       "    }\n",
       "\n",
       "    .dataframe thead th {\n",
       "        text-align: right;\n",
       "    }\n",
       "</style>\n",
       "<table border=\"1\" class=\"dataframe\">\n",
       "  <thead>\n",
       "    <tr style=\"text-align: right;\">\n",
       "      <th></th>\n",
       "      <th>id</th>\n",
       "      <th>text</th>\n",
       "      <th>isRetweet</th>\n",
       "      <th>isDeleted</th>\n",
       "      <th>device</th>\n",
       "      <th>favorites</th>\n",
       "      <th>retweets</th>\n",
       "      <th>date</th>\n",
       "      <th>isFlagged</th>\n",
       "      <th>month</th>\n",
       "      <th>year</th>\n",
       "    </tr>\n",
       "  </thead>\n",
       "  <tbody>\n",
       "    <tr>\n",
       "      <th>0</th>\n",
       "      <td>98454970654916608</td>\n",
       "      <td>Republicans and Democrats have both created ou...</td>\n",
       "      <td>f</td>\n",
       "      <td>f</td>\n",
       "      <td>TweetDeck</td>\n",
       "      <td>49</td>\n",
       "      <td>255</td>\n",
       "      <td>2011-08-02 18:07:48</td>\n",
       "      <td>f</td>\n",
       "      <td>2011-08-01</td>\n",
       "      <td>2011</td>\n",
       "    </tr>\n",
       "    <tr>\n",
       "      <th>1</th>\n",
       "      <td>1234653427789070336</td>\n",
       "      <td>I was thrilled to be back in the Great city of...</td>\n",
       "      <td>f</td>\n",
       "      <td>f</td>\n",
       "      <td>Twitter for iPhone</td>\n",
       "      <td>73748</td>\n",
       "      <td>17404</td>\n",
       "      <td>2020-03-03 01:34:50</td>\n",
       "      <td>f</td>\n",
       "      <td>2020-03-01</td>\n",
       "      <td>2020</td>\n",
       "    </tr>\n",
       "    <tr>\n",
       "      <th>3</th>\n",
       "      <td>1304875170860015617</td>\n",
       "      <td>The Unsolicited Mail In Ballot Scam is a major...</td>\n",
       "      <td>f</td>\n",
       "      <td>f</td>\n",
       "      <td>Twitter for iPhone</td>\n",
       "      <td>80527</td>\n",
       "      <td>23502</td>\n",
       "      <td>2020-09-12 20:10:58</td>\n",
       "      <td>f</td>\n",
       "      <td>2020-09-01</td>\n",
       "      <td>2020</td>\n",
       "    </tr>\n",
       "    <tr>\n",
       "      <th>6</th>\n",
       "      <td>1223640662689689602</td>\n",
       "      <td>Getting a little exercise this morning</td>\n",
       "      <td>f</td>\n",
       "      <td>f</td>\n",
       "      <td>Twitter for iPhone</td>\n",
       "      <td>285863</td>\n",
       "      <td>30209</td>\n",
       "      <td>2020-02-01 16:14:02</td>\n",
       "      <td>f</td>\n",
       "      <td>2020-02-01</td>\n",
       "      <td>2020</td>\n",
       "    </tr>\n",
       "    <tr>\n",
       "      <th>7</th>\n",
       "      <td>1319501865625784320</td>\n",
       "      <td></td>\n",
       "      <td>f</td>\n",
       "      <td>f</td>\n",
       "      <td>Twitter for iPhone</td>\n",
       "      <td>130822</td>\n",
       "      <td>19127</td>\n",
       "      <td>2020-10-23 04:52:14</td>\n",
       "      <td>f</td>\n",
       "      <td>2020-10-01</td>\n",
       "      <td>2020</td>\n",
       "    </tr>\n",
       "  </tbody>\n",
       "</table>\n",
       "</div>"
      ],
      "text/plain": [
       "                    id                                               text  \\\n",
       "0    98454970654916608  Republicans and Democrats have both created ou...   \n",
       "1  1234653427789070336  I was thrilled to be back in the Great city of...   \n",
       "3  1304875170860015617  The Unsolicited Mail In Ballot Scam is a major...   \n",
       "6  1223640662689689602             Getting a little exercise this morning   \n",
       "7  1319501865625784320                                                      \n",
       "\n",
       "  isRetweet isDeleted              device  favorites  retweets  \\\n",
       "0         f         f           TweetDeck         49       255   \n",
       "1         f         f  Twitter for iPhone      73748     17404   \n",
       "3         f         f  Twitter for iPhone      80527     23502   \n",
       "6         f         f  Twitter for iPhone     285863     30209   \n",
       "7         f         f  Twitter for iPhone     130822     19127   \n",
       "\n",
       "                  date isFlagged       month  year  \n",
       "0  2011-08-02 18:07:48         f  2011-08-01  2011  \n",
       "1  2020-03-03 01:34:50         f  2020-03-01  2020  \n",
       "3  2020-09-12 20:10:58         f  2020-09-01  2020  \n",
       "6  2020-02-01 16:14:02         f  2020-02-01  2020  \n",
       "7  2020-10-23 04:52:14         f  2020-10-01  2020  "
      ]
     },
     "execution_count": 70,
     "metadata": {},
     "output_type": "execute_result"
    }
   ],
   "source": [
    "# Some example messages\n",
    "df.head()"
   ]
  },
  {
   "cell_type": "code",
   "execution_count": 34,
   "id": "8fd1511b-b493-4f61-8fd3-f0ab736dc251",
   "metadata": {},
   "outputs": [
    {
     "data": {
      "image/png": "[encoded data removed]",
      "text/plain": [
       "<Figure size 800x500 with 1 Axes>"
      ]
     },
     "metadata": {},
     "output_type": "display_data"
    }
   ],
   "source": [
    "# Plot posting frequency over time\n",
    "\n",
    "import matplotlib.pyplot as plt\n",
    "\n",
    "df['month'] = df.date.str[:7]+'-01'\n",
    "df['month'] = pd.to_datetime(df['month']) \n",
    "fig, ax = plt.subplots(figsize=(8,5))\n",
    "\n",
    "# Group the posts per month, then count, and plot the result!\n",
    "df.groupby(['month'])['id'].count().plot(ax=ax, marker='o', lw=1,label='Tweets per month')\n",
    "\n",
    "# Some style\n",
    "ax.set_xlabel('Month')\n",
    "ax.set_ylabel('Average Sentiment')\n",
    "ax.set_title(\"Trump tweeting frequency\")\n",
    "\n",
    "# Let's add vertical lines for the elections\n",
    "ax.axvline('2012-11-06', color='red', linestyle='--',label='Obama election')\n",
    "ax.axvline('2014-11-06', color='red', linestyle=':',label='Obama midterm election')\n",
    "ax.axvline('2016-11-08', color='green', linestyle='--',label='Trump election')\n",
    "ax.axvline('2018-11-06', color='green', linestyle=':',label='Trump midterm election')\n",
    "ax.axvline('2020-11-03', color='blue', linestyle='--',label='Biden election')\n",
    "\n",
    "ax.grid(True)\n",
    "fig.tight_layout()\n",
    "\n",
    "plt.legend()\n",
    "plt.show()"
   ]
  },
  {
   "cell_type": "markdown",
   "id": "e8c8ca90-c353-4de9-84e3-c099a5faced5",
   "metadata": {},
   "source": [
    "## Preprocessing the text for NLP\n",
    "Preprocessing can involve some combination of the following steps. Which steps to use depends on what you want to do.\n",
    "\n",
    "1. *Remove unwanted or empty messages.* We start by cleaning the data, removing messages that are unlikely to contain any useful text.\n",
    "\n",
    "2. *Text Cleaning.*\n",
    "The first step is to clean the text. We remove any irrelevant items like HTML tags, URLs, and codes when dealing with web data. We also get rid of special characters, numbers, or punctuation that might not be necessary for analysis.\n",
    "\n",
    "3. *Case Normalization.*\n",
    "Next, we normalize the case by converting all the text to lower case. This ensures that words like 'House', 'house', and 'HOUSE' are all treated as the same word, preventing the model from treating them as different entities.\n",
    "\n",
    "4. *Tokenization.*\n",
    "Then we move to tokenization. This is where we break down the text into smaller pieces, or tokens. Tokens can be words, phrases, or even sentences. In English, this might seem as simple as splitting by spaces, but it can get complicated with languages that don’t use spaces or have complex morphology.\n",
    "\n",
    "5. *Stop Words Removal.*\n",
    "After tokenization, we often remove stop words. These are common words like 'is', 'and', 'the', which appear frequently in the text but usually don’t carry significant meaning for the analysis.\n",
    "\n",
    "6. *Lemmatization.*\n",
    "Now, we refine our tokens using ste lemmatization. This strips the words down to their root form. For example, 'running', 'runs', and 'ran' might all be reduced to 'run'.\n",
    "\n",
    "But what steps makes sense depends on the task at hand!\n"
   ]
  },
  {
   "cell_type": "markdown",
   "id": "eb43dd51-9df4-40b9-a01c-63c118a8c2c0",
   "metadata": {},
   "source": [
    "### 1. Remove empty or unwanted messages\n",
    "We should always start by cleaning the data, removing messages that are unlikely to contain any useful text.\n",
    "\n",
    "We are interested in what Trump is saying, so we remove retweets and quote tweets."
   ]
  },
  {
   "cell_type": "code",
   "execution_count": 5,
   "id": "1dd25439-a59e-47b3-8c96-368aa01b7a57",
   "metadata": {},
   "outputs": [],
   "source": [
    "def clean_data(df):\n",
    "    # Remove retweets\n",
    "    df = df.loc[df['isRetweet']=='f']\n",
    "    # Messages that start with \"\"\" are qoute tweets\n",
    "    df = df.loc[(~df.text.str.startswith('\"RT @'))&(~df.text.str.startswith('RT @'))&(~df.text.str.startswith('\"\"\"'))]\n",
    "    return df.copy()"
   ]
  },
  {
   "cell_type": "code",
   "execution_count": 6,
   "id": "79764db8-7309-4b86-b370-f4f93dfb926b",
   "metadata": {},
   "outputs": [
    {
     "name": "stdout",
     "output_type": "stream",
     "text": [
      "Before cleaning: 56571 rows\n",
      "After cleaning: 35004 rows\n"
     ]
    }
   ],
   "source": [
    "print(f\"Before cleaning: {len(df)} rows\")\n",
    "df = clean_data(df)\n",
    "print(f\"After cleaning: {len(df)} rows\")"
   ]
  },
  {
   "cell_type": "markdown",
   "metadata": {},
   "source": [
    "Let's define functions for cleaning up the text content for processing!"
   ]
  },
  {
   "cell_type": "markdown",
   "id": "9f81dd2f-e95a-406b-a5ad-3ea1a049e762",
   "metadata": {},
   "source": [
    "### 2. Text cleaning: Remove HTML tags, URLs, numbers, etc."
   ]
  },
  {
   "cell_type": "markdown",
   "metadata": {},
   "source": [
    "We can then clean up the text itself, removing URLs and hashtags. "
   ]
  },
  {
   "cell_type": "code",
   "execution_count": 37,
   "id": "1bb1c4fa-4dd0-4df6-b060-b886f3790ecd",
   "metadata": {},
   "outputs": [
    {
     "name": "stdout",
     "output_type": "stream",
     "text": [
      "So now the Fake News nytimes is tracing the CoronaVirus origins back to Europe NOT China This is a first fakenews I wonder what the Failing New York Times got for this one Are there any NAMED sources They were recently thrown out of China like dogs and obviously want back in Sad\n"
     ]
    }
   ],
   "source": [
    "import re\n",
    "\n",
    "def clean_text(text):\n",
    "    # Remove URLs\n",
    "    text = re.sub(r'http\\S+', '', text)\n",
    "    # Remove hashtags (but keep the word following the hashtag)\n",
    "    text = re.sub(r'#', '', text)\n",
    "    # Remove special characters and numbers\n",
    "    text = re.sub(r'[^A-Za-z\\s]', '', text)\n",
    "    # Remove additional white spaces\n",
    "    text = re.sub(r'\\s+', ' ', text).strip()\n",
    "    return text\n",
    "\n",
    "# Example usage:\n",
    "sample_text = '''So now the Fake News @nytimes is tracing the CoronaVirus origins back to Europe, NOT China. This is a first! #fakenews\n",
    "I wonder what the Failing New York Times got for this one? Are there any NAMED sources? They were recently thrown out of China like dogs, \n",
    "and obviously want back in. Sad! https://t.co/4qwCKQOiOw'''\n",
    "\n",
    "text = clean_text(sample_text)\n",
    "print(text)"
   ]
  },
  {
   "cell_type": "markdown",
   "id": "90efd334-db03-4e84-b0f1-a56c34e7b3ea",
   "metadata": {},
   "source": [
    "### 3. Case normalization"
   ]
  },
  {
   "cell_type": "markdown",
   "metadata": {},
   "source": [
    "Let's make everything lower-case. "
   ]
  },
  {
   "cell_type": "code",
   "execution_count": 38,
   "id": "95262e3f-2aa9-43d4-bf30-eb298f09af0c",
   "metadata": {},
   "outputs": [
    {
     "name": "stdout",
     "output_type": "stream",
     "text": [
      "so now the fake news nytimes is tracing the coronavirus origins back to europe not china this is a first fakenews i wonder what the failing new york times got for this one are there any named sources they were recently thrown out of china like dogs and obviously want back in sad\n"
     ]
    }
   ],
   "source": [
    "def case_normalization(text):\n",
    "    return text.lower()\n",
    "text = case_normalization(text)\n",
    "print(text)"
   ]
  },
  {
   "cell_type": "markdown",
   "id": "c4a4cff6-fab6-4ec6-b5fb-ebd49d41daed",
   "metadata": {},
   "source": [
    "### 4. Tokenization: Split into a list of words"
   ]
  },
  {
   "cell_type": "code",
   "execution_count": 39,
   "id": "4ca2302e-c5a1-4480-a561-1d6a6ffbb42b",
   "metadata": {},
   "outputs": [
    {
     "name": "stdout",
     "output_type": "stream",
     "text": [
      "['so', 'now', 'the', 'fake', 'news', 'nytimes', 'is', 'tracing', 'the', 'coronavirus', 'origins', 'back', 'to', 'europe', 'not', 'china', 'this', 'is', 'a', 'first', 'fakenews', 'i', 'wonder', 'what', 'the', 'failing', 'new', 'york', 'times', 'got', 'for', 'this', 'one', 'are', 'there', 'any', 'named', 'sources', 'they', 'were', 'recently', 'thrown', 'out', 'of', 'china', 'like', 'dogs', 'and', 'obviously', 'want', 'back', 'in', 'sad']\n"
     ]
    }
   ],
   "source": [
    "def tokenization(text):\n",
    "    return text.split()\n",
    "    \n",
    "tokens = tokenization(text)\n",
    "print(tokens)"
   ]
  },
  {
   "cell_type": "markdown",
   "id": "dbdf5a6a-c1b0-4d37-a686-5b0a3372e449",
   "metadata": {},
   "source": [
    "###  5. Remove stopwords"
   ]
  },
  {
   "cell_type": "code",
   "execution_count": 40,
   "id": "b252f8a3-50c0-4b30-9c0e-c1d7eb3b53da",
   "metadata": {},
   "outputs": [
    {
     "name": "stdout",
     "output_type": "stream",
     "text": [
      "['fake', 'news', 'nytimes', 'tracing', 'coronavirus', 'origins', 'back', 'europe', 'china', 'first', 'fakenews', 'wonder', 'failing', 'new', 'york', 'times', 'got', 'one', 'named', 'sources', 'recently', 'thrown', 'china', 'like', 'dogs', 'obviously', 'want', 'back', 'sad']\n"
     ]
    }
   ],
   "source": [
    "# We use a predefined list of stopwords\n",
    "\n",
    "stopwordlist = set(['i','me','my','myself','we','our','ours','ourselves','you','your','yours','yourself','yourselves','he','him','his','himself','she','her','hers','herself','it','its','itself','they','them','their','theirs','themselves','what','which','who','whom','this','that','these','those','am','is','are','was','were','be','been','being','have','has','had','having','do','does','did','doing','a','an','the','and','but','if','or','because','as','until','while','of','at','by','for','with','about','against','between','into','through','during','before','after','above','below','to','from','up','down','in','out','on','off','over','under','again','further','then','once','here','there','when','where','why','how','all','any','both','each','few','more','most','other','some','such','no','nor','not','only','own','same','so','than','too','very','s','t','can','will','just','don','should','now'])\n",
    "def remove_stopwords(tokens):\n",
    "    return [token for token in tokens if token not in stopwordlist]\n",
    "\n",
    "tokens = remove_stopwords(tokens)\n",
    "print(tokens)"
   ]
  },
  {
   "cell_type": "markdown",
   "id": "e7600f53-0988-4ad4-8031-273aec132a47",
   "metadata": {},
   "source": [
    "### 6. Lemmatization\n",
    "Lemmatization involves the use of vocabulary and morphological analysis to remove inflectional endings only and to return the base or dictionary form of a word, which is known as the lemma."
   ]
  },
  {
   "cell_type": "code",
   "execution_count": 41,
   "id": "82601e50-36b2-4b21-8a1f-62d8dfdcb5a2",
   "metadata": {},
   "outputs": [],
   "source": [
    "!pip3 install nltk\n",
    "!python3 -m nltk.downloader punkt\n",
    "# !python3 -m nltk.downloader wordnet "
   ]
  },
  {
   "cell_type": "code",
   "execution_count": 42,
   "id": "6ecd8aa9-88ce-4056-ad0f-b6f495de59ba",
   "metadata": {},
   "outputs": [
    {
     "name": "stdout",
     "output_type": "stream",
     "text": [
      "Lemmatized Tokens: ['fake', 'news', 'nytimes', 'tracing', 'coronavirus', 'origin', 'back', 'europe', 'china', 'first', 'fakenews', 'wonder', 'failing', 'new', 'york', 'time', 'got', 'one', 'named', 'source', 'recently', 'thrown', 'china', 'like', 'dog', 'obviously', 'want', 'back', 'sad']\n"
     ]
    }
   ],
   "source": [
    "import nltk\n",
    "from nltk.stem import PorterStemmer\n",
    "from nltk.stem import WordNetLemmatizer\n",
    "from nltk.tokenize import word_tokenize\n",
    "\n",
    "# Initialize lemmatizer\n",
    "lemmatizer = WordNetLemmatizer()\n",
    "\n",
    "def lemmatize(tokens):\n",
    "    # Perform lemmatization\n",
    "    return [lemmatizer.lemmatize(token) for token in tokens]\n",
    "\n",
    "lemmatized_words = lemmatize(tokens)\n",
    "print(\"Lemmatized Tokens:\", lemmatized_words)\n",
    "tokens = lemmatized_words"
   ]
  },
  {
   "cell_type": "markdown",
   "metadata": {},
   "source": [
    "## Exercise 1:\n",
    "Run all  of text preprocessing steps on a sample of Trump tweets and print the results after each step!\n",
    "\n",
    "[Go to Solution](#exercise1)\n"
   ]
  },
  {
   "cell_type": "code",
   "execution_count": 54,
   "metadata": {},
   "outputs": [
    {
     "name": "stdout",
     "output_type": "stream",
     "text": [
      "Original:\n",
      "['....a look, the facts speak far louder than words! The Democrats always play the Race Card, when in fact they have done so little for our Nation’s great African American people. Now, lowest unemployment in U.S. history, and only getting better. Elijah Cummings has failed badly!', '@JackieDee16 @CelebApprentice  March 3rd 9 pm EST on NBC', 'I will be interviewed on @foxandfriends at 8:40. A.M. Enjoy!', 'Obama has zero credibility on oil and coal. If we do not win energy as a country, we just do not win, period!', 'On my way to South Carolina. Big Crowd--- look forward to it!', 'It’s Monday. How many fundraisers will Obama hold today?', 'Proud of Mike! https://t.co/g1HvItV79N', 'BUILD A WALL &amp, CRIME WILL FALL! This is the new theme, for two years until the Wall is finished (under construction now), of the Republican Party. Use it and pray!', '.@lancearmstrong, revise your decision to quit--go back and fight.', 'I want to end the day by saying there is no check I would rather write than that to a good charity designated by our President.']\n",
      "Clean text:\n",
      "['a look the facts speak far louder than words The Democrats always play the Race Card when in fact they have done so little for our Nations great African American people Now lowest unemployment in US history and only getting better Elijah Cummings has failed badly', 'JackieDee CelebApprentice March rd pm EST on NBC', 'I will be interviewed on foxandfriends at AM Enjoy', 'Obama has zero credibility on oil and coal If we do not win energy as a country we just do not win period', 'On my way to South Carolina Big Crowd look forward to it', 'Its Monday How many fundraisers will Obama hold today', 'Proud of Mike', 'BUILD A WALL amp CRIME WILL FALL This is the new theme for two years until the Wall is finished under construction now of the Republican Party Use it and pray', 'lancearmstrong revise your decision to quitgo back and fight', 'I want to end the day by saying there is no check I would rather write than that to a good charity designated by our President']\n"
     ]
    }
   ],
   "source": [
    "# A sample of 10 Trump tweets\n",
    "dd = df.sample(10)\n",
    "dd = clean_data(dd)\n",
    "\n",
    "print(\"Original:\")\n",
    "print(list(dd['text']))\n",
    "\n",
    "# We first clean the text\n",
    "print(\"Clean text:\")\n",
    "dd['text'] = dd['text'].apply(clean_text)\n",
    "print(list(dd['text']))\n",
    "\n",
    "print(\"Clean text:\")\n",
    "dd['text'] = dd['text'].apply(tokenization)\n",
    "print(list(dd['text']))\n",
    "\n",
    "\n",
    "\n",
    "# Apply each function on the dataframe, and print the result\n",
    "# [Your code here]\n"
   ]
  },
  {
   "cell_type": "markdown",
   "id": "a75004b3-59e1-4cbd-a337-7280bc3f9bc6",
   "metadata": {},
   "source": [
    "# Text representation"
   ]
  },
  {
   "cell_type": "markdown",
   "id": "fd531675-95cd-4d96-8017-6e3ed9f01acb",
   "metadata": {},
   "source": [
    "### 1. Bag-of-words (BoW)\n",
    "The Bag-of-Words model is one of the simplest forms of text representation. Imagine dumping all the words from a text into a bag. Each word becomes a feature of the text. In BoW, the order of words is ignored; what matters is the frequency of each word in the text. The main advantage of BoW is its simplicity and ease of understanding. It's quite effective for tasks like spam detection where word presence significantly influences the outcome. However, its simplicity can also be a drawback since it ignores syntax and semantics, which can lead to a loss of context and meaning."
   ]
  },
  {
   "cell_type": "code",
   "execution_count": 57,
   "metadata": {},
   "outputs": [
    {
     "data": {
      "text/plain": [
       "Counter({'na': 4,\n",
       "         'Jude': 3,\n",
       "         'Na': 2,\n",
       "         'nananana,': 2,\n",
       "         'nannana,': 2,\n",
       "         'hey': 2,\n",
       "         'Hey': 1,\n",
       "         \"don't\": 1,\n",
       "         'make': 1,\n",
       "         'it': 1,\n",
       "         'bad': 1})"
      ]
     },
     "execution_count": 57,
     "metadata": {},
     "output_type": "execute_result"
    }
   ],
   "source": [
    "#Counter is a simple function that simply counts the occurrances of objects in lists\n",
    "from collections import Counter\n",
    "Counter([\"Hey\",\"Jude\",\"don't\",\"make\",\"it\",\"bad\",\n",
    "         \"Na\",\"na\",\"na\",\"nananana,\",\"nannana,\",\"hey\",\"Jude\",\n",
    "        \"Na\",\"na\",\"na\",\"nananana,\",\"nannana,\",\"hey\",\"Jude\"])\n",
    "        \n"
   ]
  },
  {
   "cell_type": "code",
   "execution_count": 58,
   "id": "a3d59d27-2930-42b8-9cab-8d359968035a",
   "metadata": {},
   "outputs": [
    {
     "data": {
      "text/plain": [
       "Counter({'back': 2,\n",
       "         'china': 2,\n",
       "         'fake': 1,\n",
       "         'news': 1,\n",
       "         'nytimes': 1,\n",
       "         'tracing': 1,\n",
       "         'coronavirus': 1,\n",
       "         'origin': 1,\n",
       "         'europe': 1,\n",
       "         'first': 1,\n",
       "         'fakenews': 1,\n",
       "         'wonder': 1,\n",
       "         'failing': 1,\n",
       "         'new': 1,\n",
       "         'york': 1,\n",
       "         'time': 1,\n",
       "         'got': 1,\n",
       "         'one': 1,\n",
       "         'named': 1,\n",
       "         'source': 1,\n",
       "         'recently': 1,\n",
       "         'thrown': 1,\n",
       "         'like': 1,\n",
       "         'dog': 1,\n",
       "         'obviously': 1,\n",
       "         'want': 1,\n",
       "         'sad': 1})"
      ]
     },
     "execution_count": 58,
     "metadata": {},
     "output_type": "execute_result"
    }
   ],
   "source": [
    "# So we can use it to create a bag-of-words\n",
    "def bag_of_words(tokens):\n",
    "    return Counter(tokens)\n",
    "\n",
    "bag_of_words(tokens)"
   ]
  },
  {
   "cell_type": "markdown",
   "id": "d0b80ba6-7bae-4766-baab-43621d54ece3",
   "metadata": {},
   "source": [
    "### 2. TF-IDF (Term-Frequency-Inverse Document Frequency)\n",
    "TF-IDF improves upon the BoW model by considering not just the frequency of a word in a single document (Term Frequency) but also how unique the word is across all documents in the corpus (Inverse Document Frequency). \n",
    "\n",
    "Common words that appear in many documents (like 'the') are given less weight, while rare words are emphasized. This method is more informative than BoW and is particularly useful in search engines and information retrieval. Its limitation, however, is that it still treats words as independent features and does not account for word order or context."
   ]
  },
  {
   "cell_type": "code",
   "execution_count": 62,
   "id": "56c8929a-585f-4b9c-9b67-3f1101a5ab51",
   "metadata": {},
   "outputs": [],
   "source": [
    "# This code calculates the TF-IDF\n",
    "# Read through and make sure you understand it\n",
    "\n",
    "import math\n",
    "from collections import Counter\n",
    "\n",
    "def compute_tf(documents):\n",
    "    \"\"\"\n",
    "    Compute the term frequency for each document in the raw_documents list.\n",
    "    \n",
    "    Parameters:\n",
    "    - documents (list of list of str): A list of list of strings, repsenting the tokens of the documnets.\n",
    "    \n",
    "    Returns:\n",
    "    - list of Counter: A list where each item is a Counter object with the term frequency of each term in the document.\n",
    "    \"\"\"\n",
    "    tf_documents = []\n",
    "    for document in documents:\n",
    "        # Count the frequency of each term in the document\n",
    "        tf_documents.append(Counter(document))\n",
    "    return tf_documents\n",
    "\n",
    "def compute_idf(tf_documents):\n",
    "    \"\"\"\n",
    "    Compute the inverse document frequency for all terms in the tf_documents.\n",
    "    \n",
    "    Parameters:\n",
    "    - tf_documents (list of Counter): A list of Counter objects for term frequencies in each document.\n",
    "    \n",
    "    Returns:\n",
    "    - dict: A dictionary with terms as keys and their IDF as values.\n",
    "    \"\"\"\n",
    "    # Count the number of documents that contain each term\n",
    "    df = Counter()\n",
    "    for tf in tf_documents:\n",
    "        for term in tf.keys():\n",
    "            df[term] += 1\n",
    "    \n",
    "    # Compute the IDF for each term\n",
    "    idf = {}\n",
    "    total_documents = len(tf_documents)\n",
    "    for term, count in df.items():\n",
    "        # Apply the IDF formula\n",
    "        idf[term] = math.log(total_documents / float(count))\n",
    "    return idf\n",
    "\n",
    "def compute_tf_idf_manual(documents):\n",
    "    \"\"\"\n",
    "    Manually compute the TF-IDF for a list of raw documents.\n",
    "    \n",
    "    Parameters:\n",
    "    - raw_documents (list of list of str): A list of list of str tokens for which the TF-IDF is computed.\n",
    "    \n",
    "    Returns:\n",
    "    - list of dict: A list where each item is a dictionary with terms as keys and their TF-IDF as values.\n",
    "    \"\"\"\n",
    "    # First compute the term frequency for each document\n",
    "    tf_documents = compute_tf(documents)\n",
    "    # Then compute the inverse document frequency for all terms\n",
    "    idf = compute_idf(tf_documents)\n",
    "    \n",
    "    # Now compute the TF-IDF for each term in each document\n",
    "    tf_idf_documents = []\n",
    "    for tf in tf_documents:\n",
    "        tf_idf = {}\n",
    "        for term, frequency in tf.items():\n",
    "            # Multiply term frequency by inverse document frequency\n",
    "            tf_idf[term] = frequency * idf[term]\n",
    "        tf_idf_documents.append(tf_idf)\n",
    "    \n",
    "    return tf_idf_documents\n",
    "\n",
    "# Sort the dictionary by value in descending order and select the top N items\n",
    "def get_highest_values(input_dict, N=1):\n",
    "    return sorted(input_dict.items(), key=lambda item: item[1], reverse=True)[:N]\n",
    "\n",
    "\n"
   ]
  },
  {
   "cell_type": "code",
   "execution_count": 64,
   "metadata": {},
   "outputs": [
    {
     "data": {
      "text/plain": [
       "[{'The': 1.3862943611198906,\n",
       "  'quick': 1.3862943611198906,\n",
       "  'brown': 1.3862943611198906,\n",
       "  'fox': 1.3862943611198906,\n",
       "  'jumps': 1.3862943611198906,\n",
       "  'over': 0.6931471805599453,\n",
       "  'the': 0.6931471805599453,\n",
       "  'lazy': 0.6931471805599453,\n",
       "  'dog': 0.6931471805599453},\n",
       " {'Never': 1.3862943611198906,\n",
       "  'jump': 1.3862943611198906,\n",
       "  'over': 0.6931471805599453,\n",
       "  'the': 0.6931471805599453,\n",
       "  'lazy': 0.6931471805599453,\n",
       "  'dog': 0.6931471805599453,\n",
       "  'quickly': 1.3862943611198906},\n",
       " {'Bright': 1.3862943611198906,\n",
       "  'vixens': 1.3862943611198906,\n",
       "  'jump;': 1.3862943611198906,\n",
       "  'dozy': 1.3862943611198906,\n",
       "  'fowl': 1.3862943611198906,\n",
       "  'quack': 1.3862943611198906},\n",
       " {'Quick': 1.3862943611198906,\n",
       "  'wafting': 1.3862943611198906,\n",
       "  'zephyrs': 1.3862943611198906,\n",
       "  'vex': 1.3862943611198906,\n",
       "  'bold': 1.3862943611198906,\n",
       "  'Jim': 1.3862943611198906}]"
      ]
     },
     "execution_count": 64,
     "metadata": {},
     "output_type": "execute_result"
    }
   ],
   "source": [
    "# Example usage of our new functions!\n",
    "example_text_list = [\n",
    "    \"The quick brown fox jumps over the lazy dog\",\n",
    "    \"Never jump over the lazy dog quickly\",\n",
    "    \"Bright vixens jump; dozy fowl quack\",\n",
    "    \"Quick wafting zephyrs vex bold Jim\"\n",
    "]\n",
    "\n",
    "# The tf_idf function takes tokens, so we have to first tokenize our documents. \n",
    "# Let's use the function we created earlier\n",
    "documents = [tokenization(document) for document in example_text_list]\n",
    "\n",
    "# Compute TF-IDF manually\n",
    "tf_idf_manual = compute_tf_idf_manual(documents)\n",
    "tf_idf_manual"
   ]
  },
  {
   "cell_type": "markdown",
   "id": "fce27a94-02f1-4a9a-b30e-4d5831034c10",
   "metadata": {},
   "source": [
    "### 3. Word Embeddings\n",
    "Word Embeddings are a more advanced technique where words are mapped to vectors of real numbers in a high-dimensional space. Techniques like Word2Vec or GloVe analyze words within their context, capturing semantic relationships and nuances. For instance, 'king' and 'queen' will be closer in the vector space than 'king' and 'apple'. The advantage of word embeddings is that they capture the semantic meaning that BoW and TF-IDF miss. They're excellent for tasks requiring a deep understanding of language, like sentiment analysis or machine translation. The downside is that they require a lot of data to train and are more complex to understand and implement. Word embeddings is a powerful method in itself.\n",
    "\n",
    "Due to the complexity and computational cost, we won't use word embeddings here - but they're good to know about!\n"
   ]
  },
  {
   "cell_type": "markdown",
   "id": "ca42e393-208d-4935-8741-87defcb51ead",
   "metadata": {},
   "source": [
    "## Exercise 2: Apply TF-IDF on Trump's tweets\n",
    "\n",
    "[Go to Solution](#exercise2)"
   ]
  },
  {
   "cell_type": "markdown",
   "id": "d4948012-eba5-449e-84df-3c7cccccb113",
   "metadata": {},
   "source": [
    "We can use TF-IDF to get a feeling for what Trump focuses on in his messages, month by month.\n",
    "\n",
    "The code below calculates the TF-IDF per month on his tweets. "
   ]
  },
  {
   "cell_type": "code",
   "execution_count": 30,
   "id": "500ee218-252d-4c0f-ae8e-365ae595356a",
   "metadata": {},
   "outputs": [
    {
     "name": "stdout",
     "output_type": "stream",
     "text": [
      "2009 ['--Donald', 'http://tinyurl.com/pqpfvm', 'http://tinyurl.com/pqpfvm\"', 'http://tinyurl.com/mrzad9', 'execute--you', '\"--From', 'Bountiful', '2010!']\n",
      "2010 ['&', 'p.m.”', 'casting', '2010,', 'Bret', 'Ride', 'Enter', 'www.youtube.com/user/mattressserta', 'pm', 'episode', 'pm', '&']\n",
      "2011 ['a.m.', 'Desk', 'Comedy', '@donaldjtrumpjr-', '#VEGASusa11', 'Alyssa', '\"@johnboehner', 'Libya', '@BarackObama', '@BarackObama', '@BarackObama', 'Newsmax-@iontv']\n",
      "2012 ['(cont)', '(cont)', '(cont)', '(cont)', '#sweepstweet', '@BarackObama', '@BarackObama', '@BarackObama', 'embassies', '$5M', 'Petraeus', '@Lord_Sugar']\n",
      "2013 ['@billmaher', 'Thanks.', '#CelebApprentice', '#CelebApprentice', '@realDonaldTrump', '@realDonaldTrump', '@realDonaldTrump', '@realDonaldTrump', '@realDonaldTrump', '@DanAmira', '@realDonaldTrump', 'Mandela']\n",
      "2014 ['@realDonaldTrump', '@realDonaldTrump', '#Oscars', '@nflcommish\"', '@realDonaldTrump', '@realDonaldTrump', '@realDonaldTrump', '@realDonaldTrump', '@realDonaldTrump', 'Ebola', '@realDonaldTrump', '@realDonaldTrump']\n",
      "2015 ['@ApprenticeNBC', '@realDonaldTrump', '@realDonaldTrump', '@realDonaldTrump', '@realDonaldTrump', '@realDonaldTrump', '@realDonaldTrump', '@realDonaldTrump', '#asktrump', '@realDonaldTrump', '#Trump2016', '#Trump2016']\n",
      "2016 ['Cruz', 'Cruz', '#Trump2016', '#Trump2016', 'Crooked', 'Crooked', 'Crooked', '#ImWithYou', '#ImWithYou', '#BigLeagueTruth', '@jeffzeleny', '#ThankYouTour2016']\n",
      "2017 ['hacking', 'Abe', 'https://t.co/qCDljfF3wN', 'bail', 'Sally', '@foxandfriends:', '@foxandfriends:', '@foxandfriends:', 'Puerto', 'Corker', '#APEC2017', 'Pelosi/Schumer']\n",
      "2018 ['DACA', 'DACA', 'XI', 'Memos', 'Witch', 'Witch', 'NATO', 'Troy', '#Florence', 'Endorsement!', 'https://t.co/0pWiwCHGbh', 'Border']\n",
      "2019 ['Border', 'Border', 'RT', 'Mueller', '@dbongino', 'RT', '@usminority', 'RT', 'RT', 'Schiff', 'RT', 'RT']\n",
      "2020 ['RT', '&amp;', '&amp;', '&amp;', '&amp;', '&amp;', '&amp;', '&amp;', '&amp;', 'Biden', '&amp;', '&amp;']\n",
      "2021 ['&amp;']\n"
     ]
    }
   ],
   "source": [
    "# Let's read the dataframe from file again to reset any changes we've made to it.\n",
    "df = pd.read_csv('trumptweets.csv')\n",
    "\n",
    "# Group text by month\n",
    "df['month'] = df.date.str[:7]+'-01'\n",
    "grouped = df.groupby('month')['text'].apply(' '.join).reset_index()\n",
    "\n",
    "##------\n",
    "# Preprocessing goes here: this just splits each document into tokens. Replace it with more cleaning!\n",
    "grouped['tokens'] = grouped['text'].apply(lambda d: d.split())\n",
    "# [YOUR PREPROCESSING CODE HERE \n",
    "## -------\n",
    "\n",
    "#Calculate TF-IDF per month\n",
    "grouped['tfidf'] = compute_tf_idf_manual(grouped['tokens'])\n",
    "\n",
    "#Get the top-word \n",
    "grouped['tfidf_top']  = grouped['tfidf'].apply(get_highest_values)\n",
    "\n",
    "# Print out year-by-year\n",
    "grouped['year'] = grouped.month.str[:4]\n",
    "for year in grouped.year.unique():\n",
    "    gy = grouped.loc[grouped['year']==year]\n",
    "    print(year, [a[0][0] for y,a in  zip(gy['month'],gy['tfidf_top'])])"
   ]
  },
  {
   "cell_type": "markdown",
   "metadata": {},
   "source": [
    "Unfortunately, the dirty data means that the results were not great! :(\n",
    "\n",
    "Modify the code and clean the data before using TF-IDF. Test how including different pre-processing steps affects the result. \n",
    "\n",
    "TASK: Examine the effects of different preprocessing steps. Which one is best?"
   ]
  },
  {
   "cell_type": "markdown",
   "id": "a920a3b1-1fc4-4135-855f-7ff5f5c5576a",
   "metadata": {},
   "source": [
    "# Sentiment analysis with VADER"
   ]
  },
  {
   "cell_type": "markdown",
   "metadata": {},
   "source": [
    "VADER is a simple rule-based sentiment analysis method. Like all rule-based methods, it is fairly coarse - but also easy and fast."
   ]
  },
  {
   "cell_type": "markdown",
   "id": "3c87b4bb-834a-4600-a722-0ef28040f52e",
   "metadata": {},
   "source": [
    "Rule-based sentiment analysis means that it uses the grammar and structure of the language to carry out the analysis, taking into account words like \"not\" or \"quite\" in relation to adjectives.\n"
   ]
  },
  {
   "cell_type": "code",
   "execution_count": 105,
   "id": "e14d5f12-df00-4adc-92c7-04919a81f3c2",
   "metadata": {},
   "outputs": [],
   "source": [
    "!pip3 install vaderSentiment"
   ]
  },
  {
   "cell_type": "code",
   "execution_count": 7,
   "id": "ba15f941-b219-493d-88fc-c2737de321e5",
   "metadata": {},
   "outputs": [],
   "source": [
    "from vaderSentiment.vaderSentiment import SentimentIntensityAnalyzer\n",
    "\n",
    "#Create an instance of the VADER sentiment analyzer\n",
    "analyzer = SentimentIntensityAnalyzer()\n",
    "\n",
    "#Define a function to perform sentiment analysis using VADER\n",
    "def get_sentiment(text):\n",
    "    sentiment = analyzer.polarity_scores(text)\n",
    "    compound_score = sentiment['compound']\n",
    "    return compound_score\n"
   ]
  },
  {
   "cell_type": "code",
   "execution_count": 8,
   "metadata": {},
   "outputs": [
    {
     "name": "stdout",
     "output_type": "stream",
     "text": [
      "-0.5244\n"
     ]
    }
   ],
   "source": [
    "print(get_sentiment('I am very unhappy!'))"
   ]
  },
  {
   "cell_type": "code",
   "execution_count": 77,
   "metadata": {},
   "outputs": [
    {
     "name": "stdout",
     "output_type": "stream",
     "text": [
      "0.6114\n",
      "-0.509\n",
      "0.4158\n"
     ]
    }
   ],
   "source": [
    "# It handles negation\n",
    "print(get_sentiment('I am happy!'))\n",
    "print(get_sentiment('I am not happy!'))\n",
    "print(get_sentiment('I am not not happy!'))"
   ]
  },
  {
   "cell_type": "markdown",
   "metadata": {},
   "source": [
    "Let's try to use it to examine Trump's feelings."
   ]
  },
  {
   "cell_type": "code",
   "execution_count": 75,
   "id": "e8f4b399-b79f-410c-9a52-0c9cebe10977",
   "metadata": {},
   "outputs": [
    {
     "name": "stdout",
     "output_type": "stream",
     "text": [
      "Most Negative\n",
      "['According to press reports, Iran may be planning an assassination, or other attack, against the United States in retaliation for the killing of terrorist leader Soleimani, which was carried out for his planning a future attack, murdering U.S. Troops, and the death &amp; suffering...', 'It is outrageous that Poisonous Synthetic Heroin Fentanyl comes pouring into the U.S. Postal System from China. We can, and must, END THIS NOW! The Senate should pass the STOP ACT – and firmly STOP this poison from killing our children and destroying our country. No more delay!', 'Our prayers are with the people of Vienna after yet another vile act of terrorism in Europe. These evil attacks against innocent people must stop. The U.S. stands with Austria, France, and all of Europe in the fight against terrorists, including radical Islamic terrorists.']\n",
      "\n",
      " Most positive\n",
      "['Congratulations to Patrick Reed on his great and courageous MASTERS win! When Patrick had his amazing win at Doral 5 years ago, people saw his great talent, and a bright future ahead. Now he is the Masters Champion!', 'Today, it was my great honor to proudly accept the endorsement of the @NYCPBA! I have deeply and profoundly admired the brave men and women of the #NYPD for my entire life. New York’s Finest are truly the best of the best — I will NEVER let you down! #MAGA https://t.co/o1l5kAx34v', 'I am a big fan of Drew Brees. I think he’s truly one of the greatest quarterbacks, but he should not have taken back his original stance on honoring our magnificent American Flag. OLD GLORY is to be revered, cherished, and flown high...']\n"
     ]
    }
   ],
   "source": [
    "# Example: get the most positive and most negative messages\n",
    "df = pd.read_csv('trumptweets.csv')\n",
    "\n",
    "# Apply the function to the 'tokens' column of the DataFrame\n",
    "df['sentiment'] = df['text'].apply(get_sentiment)\n",
    "\n",
    "\n",
    "print(\"Most Negative\")\n",
    "print(list(df.sort_values(['sentiment'],ascending=True)['text'][:3]))\n",
    "\n",
    "print('\\n Most positive')\n",
    "print(list(df.sort_values(['sentiment'],ascending=False)['text'][:3]))\n"
   ]
  },
  {
   "cell_type": "markdown",
   "metadata": {},
   "source": [
    "_Q: Why do you think those messages were selected as the highest and lowest sentiment?_"
   ]
  },
  {
   "cell_type": "markdown",
   "metadata": {},
   "source": [
    "### Exercise 3: Analyzing Trump with VADER\n",
    "[Go to Solution](#exercise3)"
   ]
  },
  {
   "cell_type": "markdown",
   "metadata": {},
   "source": [
    "Let's use VADER to analyze the sentiment of Trump's tweets over time. \n",
    "\n",
    "To do so, we first run it on all his tweets, and then look at the mean sentiment over time. "
   ]
  },
  {
   "cell_type": "code",
   "execution_count": 78,
   "id": "d4269fea-f3c6-4c1a-b2ae-b749372f021b",
   "metadata": {},
   "outputs": [],
   "source": [
    "import matplotlib.pyplot as plt\n",
    "\n",
    "df = pd.read_csv('trumptweets.csv')\n",
    "\n",
    "# -------\n",
    "# [YOUR CODE HERE]\n",
    "# 1. Should you do any preprocessing of the text? What preprocessing is needed?\n",
    "# 2. Apply the function to the 'tokens' column of the DataFrame, and put the result in the column 'sentiment'\n",
    "# -------\n",
    "\n",
    "# Plot the sentiment over time graph\n",
    "\n",
    "# Identify the month of each tweet\n",
    "df['month'] = df.date.str[:7]+'-01'\n",
    "df['month'] = pd.to_datetime(df['month']) \n",
    "fig, ax = plt.subplots(figsize=(8,5))\n",
    "\n",
    "# Group by month and take the mean, then plot it!\n",
    "df.groupby(['month'])['sentiment'].mean().plot(ax=ax, marker='o', lw=1,label='Trump\\'s mean mood')\n",
    "    \n",
    "ax.set_xlabel('Month')\n",
    "ax.set_ylabel('Average Sentiment')\n",
    "ax.set_title(\"Trump's Monthly Mood\")\n",
    "\n",
    "# Add vertical line\n",
    "ax.axvline('2012-11-06', color='red', linestyle='--',label='Obama election')\n",
    "ax.axvline('2016-11-08', color='green', linestyle='--',label='Trump election')\n",
    "ax.axvline('2020-11-03', color='blue', linestyle='--',label='Biden election')\n",
    "\n",
    "ax.grid(True)\n",
    "fig.tight_layout()\n",
    "\n",
    "plt.legend()\n",
    "plt.show()\n",
    "\n"
   ]
  },
  {
   "cell_type": "markdown",
   "metadata": {},
   "source": [
    "## Using LLMs for sentiment analysis"
   ]
  },
  {
   "cell_type": "markdown",
   "metadata": {},
   "source": [
    "Large Langauge Models have recently offered a powerful way for doing sentiment analysis - and nearly any other task.\n",
    "\n",
    "The advantage with LLMs is that you can specify what aspect of the sentiment of the message you want to capture, whereas VADER only captures the positive and negative words of the message overall. \n",
    "\n",
    "Let's compare some examples to show how this can be useful. "
   ]
  },
  {
   "cell_type": "code",
   "execution_count": null,
   "metadata": {},
   "outputs": [],
   "source": [
    "txt = \"Ah, yes, completely in line with my evil plans, the assinations and murder continues unabated, with much awfulness and horror! Horray!\"\n",
    "get_sentiment(txt)\n",
    "\n",
    "# Try the same with ChatGPT in your browser window:\n",
    "# 'What emotion is expressed by the author in the following message? Do they describe being happy or unhappy? Respond with a number between -10 and 10, -10 being very unhappy, and 10 being very happy. [Paste message here.]'\n",
    "# What do you find? \n"
   ]
  },
  {
   "cell_type": "code",
   "execution_count": 10,
   "metadata": {},
   "outputs": [
    {
     "data": {
      "text/plain": [
       "0.9065"
      ]
     },
     "execution_count": 10,
     "metadata": {},
     "output_type": "execute_result"
    }
   ],
   "source": [
    "# With LLMs, we can also measure the sentiment in relation to people, rather than of the message overall. \n",
    "# Take for instance if we want to measure the authors view on Bob in the following: \n",
    "txt = \"I completely disagree with you on that Bob, the Spring has been the most lovely and beautiful in living memory! The sun has been so pleasurable!\"\n",
    "get_sentiment(txt)\n",
    "\n",
    "# Try with ChatGPT:\n",
    "# 'Analyze the following message. What is the author's relationship to Bob's position? Answer one of the following: Positive, negative, neutral.'\n"
   ]
  },
  {
   "cell_type": "markdown",
   "metadata": {},
   "source": [
    "- What other sentences can you think of that leads to a disparity between VADER and ChatGPT?\n",
    "- What question to ChatGPT do you think VADER's measurement would correspond to? "
   ]
  },
  {
   "cell_type": "code",
   "execution_count": null,
   "metadata": {},
   "outputs": [],
   "source": [
    "# We're going to cover using LLMs in the machine learning lecture, but if you want to try it already, you can try using ollama!"
   ]
  },
  {
   "cell_type": "markdown",
   "metadata": {},
   "source": [
    "### Sentiment analysis with Ollama "
   ]
  },
  {
   "cell_type": "code",
   "execution_count": null,
   "metadata": {},
   "outputs": [],
   "source": [
    "import ollama\n",
    "\n",
    "# This is our classification prompt\n",
    "PROMPT = \"\"\"What emotion is expressed by the author in the following message? Select the emotion that best describes it: admiration, adoration, aesthetic appreciation, amusement, anger, anxiety, awe, awkwardness, boredom, calmness, confusion, craving, disgust, empathic pain, entrancement, excitement, fear, horror, interest, joy, nostalgia, relief, romance, sadness, satisfaction, sexual desire, surprise. \"\"\"\n",
    "\n",
    "def analyze_message(text):\n",
    "  response = ollama.chat(model='llama3.2', messages=[\n",
    "    {\n",
    "      'role': 'user',\n",
    "      'content': f'{PROMPT}. \\n \\nMessage: \"{text}\"?',\n",
    "    },\n",
    "  ])\n",
    "  return response['message']['content']\n",
    "\n",
    "\n"
   ]
  },
  {
   "cell_type": "code",
   "execution_count": null,
   "metadata": {},
   "outputs": [
    {
     "name": "stdout",
     "output_type": "stream",
     "text": [
      "The emotion that best describes this message is \"sorrow\" or more specifically, \"melancholic nostalgia\" with undertones of \"desperation\" and \"longing\". However, if we consider the given options, the closest one would be \"sadness\".\n",
      "\n",
      "The language used in the message evokes a sense of deep emotional pain, loss, and longing. The image of the moon screaming is a powerful metaphor for the pain and grief that has been unleashed by the speaker's loss. The mention of tears and feathers, clocks stopping, shadows sobbing, and missing someone like a limb all contribute to an atmosphere of despair and sorrow.\n",
      "\n",
      "While \"awe\" or \"entrancement\" might seem counterintuitive in this context, it's possible to interpret the moon's scream as a form of eerie beauty that serves to heighten the speaker's emotional pain. However, even these emotions are deeply intertwined with the sadness and longing expressed in the message.\n",
      "\n",
      "Overall, the emotion expressed in this message is complex and multifaceted, but \"sadness\" feels like the most fitting choice from the given options.\n"
     ]
    }
   ],
   "source": [
    "# I asked ChatGPT to give me a sentence to test my sentiment analysis on. It gave me this rather disturbing view into its inner life: \n",
    "txt = \"\"\"The moon is screaming again. I fed it my last tear, hoping it would hush, but it only grew louder—howling with the grief of a thousand forgotten birthdays. \n",
    "My hands are covered in feathers that used to be dreams. I miss you like a limb I never had. Why did the clocks stop when you left? Why does my shadow sob when I walk past mirrors?\"\"\"\n",
    "\n",
    "print(analyze_message(txt))\n"
   ]
  },
  {
   "cell_type": "markdown",
   "metadata": {},
   "source": [
    "We can use llama3.2 and ollama to classify using zero-shot LLM text annotation.\n",
    "\n"
   ]
  },
  {
   "cell_type": "code",
   "execution_count": null,
   "metadata": {},
   "outputs": [],
   "source": [
    "# https://github.com/ollama/ollama\n",
    "# !pip install ollama\n"
   ]
  },
  {
   "cell_type": "code",
   "execution_count": 1,
   "metadata": {},
   "outputs": [
    {
     "name": "stdout",
     "output_type": "stream",
     "text": [
      "The color of the sky can vary depending on several factors such as time of day, atmospheric conditions, and location.\n",
      "\n",
      "During a clear day, when the sun is overhead, the sky typically appears blue to our eyes. This is because of a phenomenon called Rayleigh scattering, which occurs when sunlight interacts with tiny molecules of gases in the Earth's atmosphere, such as nitrogen and oxygen. These molecules scatter shorter (blue) wavelengths of light more than longer (red) wavelengths, resulting in the blue color we see.\n",
      "\n",
      "However, the sky can also appear different colors under various conditions:\n",
      "\n",
      "1. **Sunrise and sunset**: The sky often takes on hues of red, orange, and pink during these times due to the scattering of light by atmospheric particles.\n",
      "2. **Cloudy days**: A grayish or white appearance can dominate when clouds cover much of the sky.\n",
      "3. **Atmospheric conditions**: Air pollution, dust, and water vapor in the atmosphere can change the color of the sky, sometimes making it appear more hazy or tinted.\n",
      "4. **Twilight hours**: The sky may have a range of colors during these times due to the changing angle of sunlight.\n",
      "\n",
      "So, while the sky is often blue on a clear day, its appearance can vary significantly depending on the circumstances.\n"
     ]
    }
   ],
   "source": [
    "import ollama\n",
    "response = ollama.chat(model='llama3.2', messages=[\n",
    "  {\n",
    "    'role': 'user',\n",
    "    'content': 'Is the sky blue?',\n",
    "  },\n",
    "])\n",
    "print(response['message']['content'])"
   ]
  },
  {
   "cell_type": "markdown",
   "id": "c7ad50ec-601b-48ad-924e-4e4fdda4e93c",
   "metadata": {},
   "source": [
    "# Topic Modeling "
   ]
  },
  {
   "cell_type": "markdown",
   "metadata": {},
   "source": [
    "Topic models identify common themes or topics across many documents. \n",
    "\n",
    "There are several techniques for topic modeling. A common one is LDA: Latent Dirichlet Allocation.\n",
    "\n",
    "Let's start by trying LDA!"
   ]
  },
  {
   "cell_type": "markdown",
   "metadata": {},
   "source": [
    "### Topic modeling with LDA"
   ]
  },
  {
   "cell_type": "code",
   "execution_count": null,
   "metadata": {},
   "outputs": [],
   "source": [
    "# !pip install gensim"
   ]
  },
  {
   "cell_type": "markdown",
   "metadata": {},
   "source": [
    "Note: Running this will take a while!"
   ]
  },
  {
   "cell_type": "code",
   "execution_count": 83,
   "metadata": {},
   "outputs": [
    {
     "name": "stdout",
     "output_type": "stream",
     "text": [
      "(0, '0.071*\"medium\" + 0.042*\"win\" + 0.039*\"russia\" + 0.026*\"think\" + 0.025*\"call\" + 0.020*\"low\" + 0.018*\"pelosi\" + 0.018*\"investigation\" + 0.017*\"trying\" + 0.017*\"rate\"')\n",
      "(1, '0.134*\"border\" + 0.070*\"job\" + 0.066*\"today\" + 0.032*\"southern\" + 0.025*\"senate\" + 0.023*\"since\" + 0.023*\"need\" + 0.020*\"important\" + 0.019*\"leader\" + 0.018*\"crisis\"')\n",
      "(2, '0.041*\"well\" + 0.040*\"look\" + 0.038*\"vote\" + 0.033*\"getting\" + 0.032*\"better\" + 0.023*\"cnn\" + 0.022*\"team\" + 0.021*\"cant\" + 0.016*\"yet\" + 0.016*\"fast\"')\n",
      "(3, '0.092*\"great\" + 0.054*\"people\" + 0.029*\"wall\" + 0.025*\"back\" + 0.024*\"republican\" + 0.023*\"done\" + 0.019*\"security\" + 0.018*\"must\" + 0.018*\"house\" + 0.016*\"made\"')\n",
      "(4, '0.037*\"never\" + 0.022*\"mueller\" + 0.021*\"thing\" + 0.020*\"report\" + 0.017*\"also\" + 0.016*\"working\" + 0.016*\"drug\" + 0.015*\"fbi\" + 0.014*\"illegal\" + 0.014*\"say\"')\n",
      "(5, '0.035*\"amp\" + 0.025*\"democrat\" + 0.022*\"trump\" + 0.020*\"country\" + 0.018*\"year\" + 0.016*\"u\" + 0.015*\"time\" + 0.014*\"news\" + 0.014*\"american\" + 0.013*\"fake\"')\n",
      "(6, '0.177*\"rt\" + 0.079*\"president\" + 0.047*\"realdonaldtrump\" + 0.026*\"america\" + 0.023*\"make\" + 0.019*\"whitehouse\" + 0.014*\"right\" + 0.013*\"money\" + 0.012*\"show\" + 0.008*\"every\"')\n",
      "(7, '0.032*\"crime\" + 0.027*\"going\" + 0.025*\"nothing\" + 0.025*\"first\" + 0.022*\"way\" + 0.022*\"law\" + 0.021*\"billion\" + 0.020*\"see\" + 0.018*\"foxnews\" + 0.017*\"north\"')\n",
      "(8, '0.051*\"state\" + 0.047*\"new\" + 0.033*\"good\" + 0.030*\"united\" + 0.021*\"economy\" + 0.021*\"mexico\" + 0.019*\"ever\" + 0.018*\"world\" + 0.018*\"best\" + 0.017*\"fact\"')\n",
      "(9, '0.266*\"thank\" + 0.047*\"little\" + 0.039*\"along\" + 0.036*\"morning\" + 0.035*\"word\" + 0.031*\"nice\" + 0.028*\"vietnam\" + 0.028*\"winning\" + 0.014*\"isnt\" + 0.013*\"informed\"')\n"
     ]
    }
   ],
   "source": [
    "import pandas as pd\n",
    "from gensim import corpora, models\n",
    "import gensim\n",
    "\n",
    "# Apply all preprocessing functions\n",
    "df['tokens'] = df['text'].apply(clean_text).apply(case_normalization).apply(tokenization).apply(remove_stopwords).apply(lemmatize)\n",
    "\n",
    "# Create a dictionary and corpus needed for Topic Modeling\n",
    "dictionary = corpora.Dictionary(df['tokens']) \n",
    "corpus = [dictionary.doc2bow(text) for text in df['tokens']] \n",
    "\n",
    "# LDA model\n",
    "lda_model = gensim.models.ldamodel.LdaModel(corpus=corpus,\n",
    "                                           id2word=dictionary,\n",
    "                                           num_topics=10, \n",
    "                                           random_state=100,\n",
    "                                           update_every=1,\n",
    "                                           chunksize=100,\n",
    "                                           passes=10,\n",
    "                                           alpha='auto',\n",
    "                                           per_word_topics=True)\n",
    "\n",
    "# Print the topics found by the LDA model\n",
    "topics = lda_model.print_topics(num_words=10)\n",
    "for topic in topics:\n",
    "    print(topic)"
   ]
  },
  {
   "cell_type": "markdown",
   "metadata": {},
   "source": [
    "This is a bit hard to read though, so we can print it like this instead:\n"
   ]
  },
  {
   "cell_type": "code",
   "execution_count": 89,
   "metadata": {},
   "outputs": [
    {
     "name": "stdout",
     "output_type": "stream",
     "text": [
      "Topic #1: medium win russia think call low pelosi investigation trying rate\n",
      "Topic #2: border job today southern senate since need important leader crisis\n",
      "Topic #3: well look vote getting better cnn team cant yet fast\n",
      "Topic #4: great people wall back republican done security must house made\n",
      "Topic #5: never mueller thing report also working drug fbi illegal say\n",
      "Topic #6: amp democrat trump country year u time news american fake\n",
      "Topic #7: rt president realdonaldtrump america make whitehouse right money show every\n",
      "Topic #8: crime going nothing first way law billion see foxnews north\n",
      "Topic #9: state new good united economy mexico ever world best fact\n",
      "Topic #10: thank little along morning word nice vietnam winning isnt informed\n"
     ]
    }
   ],
   "source": [
    "for topic_num, topic in topics:\n",
    "    # Parse the topic output to show only words\n",
    "    print(\"Topic #{}:\".format(topic_num + 1) + \" \" + \"\".join([word.split(\"*\")[1].replace('\"', '') for word in topic.split(\"+\")]))\n",
    "    "
   ]
  },
  {
   "cell_type": "markdown",
   "metadata": {},
   "source": [
    "To get a better feeling for the topics, let's find the top document for topic 4. These are the documents that best illustrates the topic."
   ]
  },
  {
   "cell_type": "code",
   "execution_count": 91,
   "metadata": {},
   "outputs": [
    {
     "name": "stdout",
     "output_type": "stream",
     "text": [
      "Top document for Topic 3 is Document #1716 with a contribution of 0.3325:\n",
      "I hope House Republicans will vote against the very weak National Defense Authorization Act (NDAA), which I will VETO. Must include a termination of Section 230 (for National Security purposes), preserve our National Monuments, &amp; allow for 5G &amp; troop reductions in foreign lands!\n"
     ]
    }
   ],
   "source": [
    "# Analyze topic distribution for each document\n",
    "doc_topics = [lda_model.get_document_topics(item) for item in corpus]\n",
    "\n",
    "# Determine the top document for Topic 4\n",
    "topic_id = 3  # Topics are zero-indexed, so Topic 4 is ID 3\n",
    "top_doc_for_topic_4, max_contribution = None, 0\n",
    "\n",
    "for i, doc_distribution in enumerate(doc_topics):\n",
    "    for topic_num, contrib in doc_distribution:\n",
    "        if topic_num == topic_id and contrib > max_contribution:\n",
    "            max_contribution = contrib\n",
    "            top_doc_for_topic_4 = i\n",
    "\n",
    "# Print results\n",
    "if top_doc_for_topic_4 is not None:\n",
    "    print(f\"Top document for Topic 3 is Document #{top_doc_for_topic_4 + 1} with a contribution of {max_contribution:.4f}:\")\n",
    "    print(df.iloc[top_doc_for_topic_4]['text'])\n",
    "else:\n",
    "    print(\"No document has Topic 3 as the predominant topic.\")"
   ]
  },
  {
   "cell_type": "markdown",
   "metadata": {},
   "source": [
    "As we can see, LDA doesn't work very well for Twitter messages, since they are so short. We need to use Bertopic. "
   ]
  },
  {
   "cell_type": "markdown",
   "metadata": {},
   "source": [
    "## Exercise 4: LDA of manifestos"
   ]
  },
  {
   "cell_type": "markdown",
   "metadata": {},
   "source": [
    "Let's try it on a database of manifestos instead. They are longer so should work better!\n",
    "\n",
    "You can download a CSV with all the manifestos from here: https://amsuni-my.sharepoint.com/:u:/g/personal/p_tornberg_uva_nl/EX6Pjb7D-t5Inv83Tg0fUVABIbveVIN0JJeA-iMC50IvDQ?e=krxhhW\n",
    "(Too big to share on github.)"
   ]
  },
  {
   "cell_type": "code",
   "execution_count": 130,
   "metadata": {},
   "outputs": [],
   "source": [
    "df = pd.read_csv('./manifesto_database.csv.gz')"
   ]
  },
  {
   "cell_type": "markdown",
   "metadata": {},
   "source": [
    "Pick whatever country you prefer. LDA works on any language"
   ]
  },
  {
   "cell_type": "code",
   "execution_count": 131,
   "metadata": {},
   "outputs": [],
   "source": [
    "documents = list(df[df['Country']=='Sweden'].content)"
   ]
  },
  {
   "cell_type": "code",
   "execution_count": 142,
   "metadata": {},
   "outputs": [
    {
     "name": "stderr",
     "output_type": "stream",
     "text": [
      "[nltk_data] Downloading package punkt to /Users/petter/nltk_data...\n",
      "[nltk_data]   Package punkt is already up-to-date!\n",
      "[nltk_data] Downloading package stopwords to\n",
      "[nltk_data]     /Users/petter/nltk_data...\n",
      "[nltk_data]   Package stopwords is already up-to-date!\n"
     ]
    }
   ],
   "source": [
    "# We need to tokenize and remove stopwords for the specific language\n",
    "\n",
    "#nltk has methods for this\n",
    "# !pip install nltk\n",
    "import nltk\n",
    "from nltk.corpus import stopwords\n",
    "from nltk.tokenize import word_tokenize\n",
    "\n",
    "# Download necessary NLTK resources\n",
    "nltk.download('punkt')  # For tokenizers\n",
    "nltk.download('stopwords')  # For stopwords list\n",
    "\n",
    "def preprocess_text(text_list, language):\n",
    "    # Load English stopwords\n",
    "    stop_words = set(stopwords.words(language))\n",
    "    # Initialize a stemmer if required (PorterStemmer is commonly used)    \n",
    "    processed_texts = []\n",
    "\n",
    "    for text in text_list:\n",
    "        # Tokenize text\n",
    "        tokens = word_tokenize(text.lower())\n",
    "        \n",
    "        # Remove stopwords and any tokens that are just punctuation\n",
    "        tokens = [token for token in tokens if token.isalpha() and token not in stop_words]\n",
    "        \n",
    "        processed_texts.append(tokens)\n",
    "    \n",
    "    return processed_texts\n",
    "\n",
    "processed_texts = preprocess_text(documents,'swedish')"
   ]
  },
  {
   "cell_type": "code",
   "execution_count": null,
   "metadata": {},
   "outputs": [],
   "source": [
    "# [YOUR CODE HERE]\n",
    "# Use LDA and gensim to analyze your chosen manifestos, and print results!"
   ]
  },
  {
   "cell_type": "markdown",
   "metadata": {},
   "source": [
    "[Go to Solution](#exercise4)"
   ]
  },
  {
   "cell_type": "markdown",
   "metadata": {},
   "source": [
    "### Topic modeling with Bertopic"
   ]
  },
  {
   "cell_type": "markdown",
   "metadata": {},
   "source": [
    "Bertopic using BERT, a transformer-based language model. It is much more powerful - but also much harder to install. \n",
    "\n",
    "It is able to handle shorter documents such as tweets, as it is pretrained on a large dataset.\n",
    "\n"
   ]
  },
  {
   "cell_type": "code",
   "execution_count": null,
   "metadata": {},
   "outputs": [],
   "source": [
    "#!pip install bertopic"
   ]
  },
  {
   "cell_type": "code",
   "execution_count": 16,
   "id": "d843c7e6-bc4f-4085-a9a7-e95a41f6cec2",
   "metadata": {},
   "outputs": [
    {
     "data": {
      "application/vnd.jupyter.widget-view+json": {
       "model_id": "fefc21d38ce748e6902933c9ca242f4d",
       "version_major": 2,
       "version_minor": 0
      },
      "text/plain": [
       "Batches:   0%|          | 0/1768 [00:00<?, ?it/s]"
      ]
     },
     "metadata": {},
     "output_type": "display_data"
    },
    {
     "name": "stderr",
     "output_type": "stream",
     "text": [
      "2023-11-09 13:50:13,854 - BERTopic - Transformed documents to Embeddings\n",
      "2023-11-09 13:50:27,006 - BERTopic - Reduced dimensionality\n",
      "huggingface/tokenizers: The current process just got forked, after parallelism has already been used. Disabling parallelism to avoid deadlocks...\n",
      "To disable this warning, you can either:\n",
      "\t- Avoid using `tokenizers` before the fork if possible\n",
      "\t- Explicitly set the environment variable TOKENIZERS_PARALLELISM=(true | false)\n",
      "huggingface/tokenizers: The current process just got forked, after parallelism has already been used. Disabling parallelism to avoid deadlocks...\n",
      "To disable this warning, you can either:\n",
      "\t- Avoid using `tokenizers` before the fork if possible\n",
      "\t- Explicitly set the environment variable TOKENIZERS_PARALLELISM=(true | false)\n",
      "huggingface/tokenizers: The current process just got forked, after parallelism has already been used. Disabling parallelism to avoid deadlocks...\n",
      "To disable this warning, you can either:\n",
      "\t- Avoid using `tokenizers` before the fork if possible\n",
      "\t- Explicitly set the environment variable TOKENIZERS_PARALLELISM=(true | false)\n",
      "huggingface/tokenizers: The current process just got forked, after parallelism has already been used. Disabling parallelism to avoid deadlocks...\n",
      "To disable this warning, you can either:\n",
      "\t- Avoid using `tokenizers` before the fork if possible\n",
      "\t- Explicitly set the environment variable TOKENIZERS_PARALLELISM=(true | false)\n",
      "2023-11-09 13:50:28,844 - BERTopic - Clustered reduced embeddings\n"
     ]
    },
    {
     "name": "stdout",
     "output_type": "stream",
     "text": [
      "Number of topics: 784\n"
     ]
    },
    {
     "data": {
      "text/html": [
       "<div>\n",
       "<style scoped>\n",
       "    .dataframe tbody tr th:only-of-type {\n",
       "        vertical-align: middle;\n",
       "    }\n",
       "\n",
       "    .dataframe tbody tr th {\n",
       "        vertical-align: top;\n",
       "    }\n",
       "\n",
       "    .dataframe thead th {\n",
       "        text-align: right;\n",
       "    }\n",
       "</style>\n",
       "<table border=\"1\" class=\"dataframe\">\n",
       "  <thead>\n",
       "    <tr style=\"text-align: right;\">\n",
       "      <th></th>\n",
       "      <th>Topic</th>\n",
       "      <th>Count</th>\n",
       "      <th>Name</th>\n",
       "      <th>Representation</th>\n",
       "      <th>Representative_Docs</th>\n",
       "    </tr>\n",
       "  </thead>\n",
       "  <tbody>\n",
       "    <tr>\n",
       "      <th>0</th>\n",
       "      <td>-1</td>\n",
       "      <td>26127</td>\n",
       "      <td>-1_trump_realdonaldtrump_rt_the</td>\n",
       "      <td>[trump, realdonaldtrump, rt, the, president, y...</td>\n",
       "      <td>[The only thing that I have done wrong is to w...</td>\n",
       "    </tr>\n",
       "    <tr>\n",
       "      <th>1</th>\n",
       "      <td>0</td>\n",
       "      <td>1002</td>\n",
       "      <td>0_https_co_true_weekly</td>\n",
       "      <td>[https, co, true, weekly, hello, address, dwvb...</td>\n",
       "      <td>[Statement on National Strategy for Counterter...</td>\n",
       "    </tr>\n",
       "    <tr>\n",
       "      <th>2</th>\n",
       "      <td>1</td>\n",
       "      <td>640</td>\n",
       "      <td>1_vote_voting_runs_2016</td>\n",
       "      <td>[vote, voting, runs, 2016, run, my, ran, reald...</td>\n",
       "      <td>[\"\"\"@VeryOddDog: I hope @realDonaldTrump runs ...</td>\n",
       "    </tr>\n",
       "    <tr>\n",
       "      <th>3</th>\n",
       "      <td>2</td>\n",
       "      <td>455</td>\n",
       "      <td>2_thanks_thank_bean_nice</td>\n",
       "      <td>[thanks, thank, bean, nice, erolyalim, yes, hi...</td>\n",
       "      <td>[@RoxanneQuintana  Thanks Roxanne., @MisterEsp...</td>\n",
       "    </tr>\n",
       "    <tr>\n",
       "      <th>4</th>\n",
       "      <td>3</td>\n",
       "      <td>448</td>\n",
       "      <td>3_russia_collusion_flynn_russian</td>\n",
       "      <td>[russia, collusion, flynn, russian, fbi, pauls...</td>\n",
       "      <td>[Good luck today in court to General Michael F...</td>\n",
       "    </tr>\n",
       "    <tr>\n",
       "      <th>5</th>\n",
       "      <td>4</td>\n",
       "      <td>408</td>\n",
       "      <td>4_twitter_realdonaldtrump_tweets_man</td>\n",
       "      <td>[twitter, realdonaldtrump, tweets, man, love, ...</td>\n",
       "      <td>[\"\"\"@morgan_sux: Hey everyone! Just found an a...</td>\n",
       "    </tr>\n",
       "    <tr>\n",
       "      <th>6</th>\n",
       "      <td>5</td>\n",
       "      <td>402</td>\n",
       "      <td>5_run_president_please_realdonaldtrump</td>\n",
       "      <td>[run, president, please, realdonaldtrump, 2016...</td>\n",
       "      <td>[\"\"\"@LIpokeraddict: @realDonaldTrump please pl...</td>\n",
       "    </tr>\n",
       "    <tr>\n",
       "      <th>7</th>\n",
       "      <td>6</td>\n",
       "      <td>361</td>\n",
       "      <td>6_impeachment_democrats_repmattgaetz_repandybi...</td>\n",
       "      <td>[impeachment, democrats, repmattgaetz, repandy...</td>\n",
       "      <td>[RT @SteveScalise: Every scam Dems have run ag...</td>\n",
       "    </tr>\n",
       "    <tr>\n",
       "      <th>8</th>\n",
       "      <td>7</td>\n",
       "      <td>357</td>\n",
       "      <td>7_china_chinese_currency_tariffs</td>\n",
       "      <td>[china, chinese, currency, tariffs, trade, pro...</td>\n",
       "      <td>[....The process has begun to place additional...</td>\n",
       "    </tr>\n",
       "    <tr>\n",
       "      <th>9</th>\n",
       "      <td>8</td>\n",
       "      <td>337</td>\n",
       "      <td>8_barackobama_debt_budget_deficit</td>\n",
       "      <td>[barackobama, debt, budget, deficit, cont, sol...</td>\n",
       "      <td>[@BarackObama trillion $ stimulus was supposed...</td>\n",
       "    </tr>\n",
       "    <tr>\n",
       "      <th>10</th>\n",
       "      <td>9</td>\n",
       "      <td>328</td>\n",
       "      <td>9_crowd_rally_crowds_carolina</td>\n",
       "      <td>[crowd, rally, crowds, carolina, iowa, hampshi...</td>\n",
       "      <td>[On my way to South Carolina. Big Crowd--- loo...</td>\n",
       "    </tr>\n",
       "    <tr>\n",
       "      <th>11</th>\n",
       "      <td>10</td>\n",
       "      <td>327</td>\n",
       "      <td>10_obamacare_repeal_website_premiums</td>\n",
       "      <td>[obamacare, repeal, website, premiums, healthc...</td>\n",
       "      <td>[Remember when you vote, Obamacare is a disast...</td>\n",
       "    </tr>\n",
       "    <tr>\n",
       "      <th>12</th>\n",
       "      <td>11</td>\n",
       "      <td>299</td>\n",
       "      <td>11_thank_https_you_co</td>\n",
       "      <td>[thank, https, you, co, ari, working, franklin...</td>\n",
       "      <td>[Thank you Ari! https://t.co/ghPg3w2jmc, Thank...</td>\n",
       "    </tr>\n",
       "    <tr>\n",
       "      <th>13</th>\n",
       "      <td>12</td>\n",
       "      <td>250</td>\n",
       "      <td>12_makeamericagreatagain_trump2016_trump2016ht...</td>\n",
       "      <td>[makeamericagreatagain, trump2016, trump2016ht...</td>\n",
       "      <td>[#MakeAmericaGreatAgain#Trump2016 https://t.co...</td>\n",
       "    </tr>\n",
       "    <tr>\n",
       "      <th>14</th>\n",
       "      <td>13</td>\n",
       "      <td>244</td>\n",
       "      <td>13_rt_stoolpresidente_https_realdonaldtrump</td>\n",
       "      <td>[rt, stoolpresidente, https, realdonaldtrump, ...</td>\n",
       "      <td>[RT @stoolpresidente: (PART 2) - @realDonaldTr...</td>\n",
       "    </tr>\n",
       "    <tr>\n",
       "      <th>15</th>\n",
       "      <td>14</td>\n",
       "      <td>232</td>\n",
       "      <td>14_via_newsmax_media_donald_http</td>\n",
       "      <td>[via, newsmax_media, donald, http, trump, bush...</td>\n",
       "      <td>[\"\"\"'Good Chance' Trump Will Run for President...</td>\n",
       "    </tr>\n",
       "    <tr>\n",
       "      <th>16</th>\n",
       "      <td>15</td>\n",
       "      <td>217</td>\n",
       "      <td>15_wind_turbines_alexsalmond_scotland</td>\n",
       "      <td>[wind, turbines, alexsalmond, scotland, ugly, ...</td>\n",
       "      <td>[If Scotland doesn’t stop insane policy of obs...</td>\n",
       "    </tr>\n",
       "    <tr>\n",
       "      <th>17</th>\n",
       "      <td>16</td>\n",
       "      <td>216</td>\n",
       "      <td>16_trump2016_trumpforpresident_mr_trump</td>\n",
       "      <td>[trump2016, trumpforpresident, mr, trump, trum...</td>\n",
       "      <td>[\"\"\"@MrMet41: @realDonaldTrump The Donald #Tru...</td>\n",
       "    </tr>\n",
       "    <tr>\n",
       "      <th>18</th>\n",
       "      <td>17</td>\n",
       "      <td>214</td>\n",
       "      <td>17_fake_media_news_sources</td>\n",
       "      <td>[fake, media, news, sources, dishonest, report...</td>\n",
       "      <td>[So much FAKE NEWS!, FAKE NEWS!, FAKE NEWS!]</td>\n",
       "    </tr>\n",
       "    <tr>\n",
       "      <th>19</th>\n",
       "      <td>18</td>\n",
       "      <td>209</td>\n",
       "      <td>18_nancy_pelosi_she_crazy</td>\n",
       "      <td>[nancy, pelosi, she, crazy, nervous, her, impe...</td>\n",
       "      <td>[RT @realDonaldTrump: Crazy Nancy Pelosi’s Imp...</td>\n",
       "    </tr>\n",
       "  </tbody>\n",
       "</table>\n",
       "</div>"
      ],
      "text/plain": [
       "    Topic  Count                                               Name  \\\n",
       "0      -1  26127                    -1_trump_realdonaldtrump_rt_the   \n",
       "1       0   1002                             0_https_co_true_weekly   \n",
       "2       1    640                            1_vote_voting_runs_2016   \n",
       "3       2    455                           2_thanks_thank_bean_nice   \n",
       "4       3    448                   3_russia_collusion_flynn_russian   \n",
       "5       4    408               4_twitter_realdonaldtrump_tweets_man   \n",
       "6       5    402             5_run_president_please_realdonaldtrump   \n",
       "7       6    361  6_impeachment_democrats_repmattgaetz_repandybi...   \n",
       "8       7    357                   7_china_chinese_currency_tariffs   \n",
       "9       8    337                  8_barackobama_debt_budget_deficit   \n",
       "10      9    328                      9_crowd_rally_crowds_carolina   \n",
       "11     10    327               10_obamacare_repeal_website_premiums   \n",
       "12     11    299                              11_thank_https_you_co   \n",
       "13     12    250  12_makeamericagreatagain_trump2016_trump2016ht...   \n",
       "14     13    244        13_rt_stoolpresidente_https_realdonaldtrump   \n",
       "15     14    232                   14_via_newsmax_media_donald_http   \n",
       "16     15    217              15_wind_turbines_alexsalmond_scotland   \n",
       "17     16    216            16_trump2016_trumpforpresident_mr_trump   \n",
       "18     17    214                         17_fake_media_news_sources   \n",
       "19     18    209                          18_nancy_pelosi_she_crazy   \n",
       "\n",
       "                                       Representation  \\\n",
       "0   [trump, realdonaldtrump, rt, the, president, y...   \n",
       "1   [https, co, true, weekly, hello, address, dwvb...   \n",
       "2   [vote, voting, runs, 2016, run, my, ran, reald...   \n",
       "3   [thanks, thank, bean, nice, erolyalim, yes, hi...   \n",
       "4   [russia, collusion, flynn, russian, fbi, pauls...   \n",
       "5   [twitter, realdonaldtrump, tweets, man, love, ...   \n",
       "6   [run, president, please, realdonaldtrump, 2016...   \n",
       "7   [impeachment, democrats, repmattgaetz, repandy...   \n",
       "8   [china, chinese, currency, tariffs, trade, pro...   \n",
       "9   [barackobama, debt, budget, deficit, cont, sol...   \n",
       "10  [crowd, rally, crowds, carolina, iowa, hampshi...   \n",
       "11  [obamacare, repeal, website, premiums, healthc...   \n",
       "12  [thank, https, you, co, ari, working, franklin...   \n",
       "13  [makeamericagreatagain, trump2016, trump2016ht...   \n",
       "14  [rt, stoolpresidente, https, realdonaldtrump, ...   \n",
       "15  [via, newsmax_media, donald, http, trump, bush...   \n",
       "16  [wind, turbines, alexsalmond, scotland, ugly, ...   \n",
       "17  [trump2016, trumpforpresident, mr, trump, trum...   \n",
       "18  [fake, media, news, sources, dishonest, report...   \n",
       "19  [nancy, pelosi, she, crazy, nervous, her, impe...   \n",
       "\n",
       "                                  Representative_Docs  \n",
       "0   [The only thing that I have done wrong is to w...  \n",
       "1   [Statement on National Strategy for Counterter...  \n",
       "2   [\"\"\"@VeryOddDog: I hope @realDonaldTrump runs ...  \n",
       "3   [@RoxanneQuintana  Thanks Roxanne., @MisterEsp...  \n",
       "4   [Good luck today in court to General Michael F...  \n",
       "5   [\"\"\"@morgan_sux: Hey everyone! Just found an a...  \n",
       "6   [\"\"\"@LIpokeraddict: @realDonaldTrump please pl...  \n",
       "7   [RT @SteveScalise: Every scam Dems have run ag...  \n",
       "8   [....The process has begun to place additional...  \n",
       "9   [@BarackObama trillion $ stimulus was supposed...  \n",
       "10  [On my way to South Carolina. Big Crowd--- loo...  \n",
       "11  [Remember when you vote, Obamacare is a disast...  \n",
       "12  [Thank you Ari! https://t.co/ghPg3w2jmc, Thank...  \n",
       "13  [#MakeAmericaGreatAgain#Trump2016 https://t.co...  \n",
       "14  [RT @stoolpresidente: (PART 2) - @realDonaldTr...  \n",
       "15  [\"\"\"'Good Chance' Trump Will Run for President...  \n",
       "16  [If Scotland doesn’t stop insane policy of obs...  \n",
       "17  [\"\"\"@MrMet41: @realDonaldTrump The Donald #Tru...  \n",
       "18       [So much FAKE NEWS!, FAKE NEWS!, FAKE NEWS!]  \n",
       "19  [RT @realDonaldTrump: Crazy Nancy Pelosi’s Imp...  "
      ]
     },
     "metadata": {},
     "output_type": "display_data"
    }
   ],
   "source": [
    "import pandas as pd\n",
    "import warnings\n",
    "warnings.filterwarnings(\"ignore\")\n",
    "\n",
    "from bertopic import BERTopic\n",
    "\n",
    "def analyze_topics(texts):\n",
    "\n",
    "    model = BERTopic(verbose=True,embedding_model='paraphrase-MiniLM-L3-v2', min_topic_size= 7)\n",
    "    topics, _ = model.fit_transform(texts)\n",
    "    \n",
    "    freq = model.get_topic_info()\n",
    "    print(\"Number of topics: {}\".format( len(freq)))\n",
    "    display(freq.head(20))\n",
    "    return model,topics\n",
    "\n",
    "df = pd.read_csv('trumptweets.csv')\n",
    "########\n",
    "## YOUR PREPROCESSING CODE HERE\n",
    "########\n",
    "model,topics = analyze_topics(df.text)\n",
    "df['topic'] = topics # This links the topic back to our dataframe, so we know what topic each tweet was characterized as"
   ]
  },
  {
   "cell_type": "code",
   "execution_count": 6,
   "id": "8046fe0e-c803-4578-94bd-c4b42c74b29a",
   "metadata": {},
   "outputs": [],
   "source": [
    "# # Set the renderer to \"browser\" in case you get an error trying to show the plots.\n",
    "# import plotly.io as pio\n",
    "# import plotly.express as px\n",
    "\n",
    "# pio.renderers.default = \"browser\""
   ]
  },
  {
   "cell_type": "code",
   "execution_count": 23,
   "id": "394fcc32-66c0-42b7-bb18-31deb2b654d7",
   "metadata": {},
   "outputs": [],
   "source": [
    "# Visualize the topics in different ways to get a sense for them.\n",
    "model.visualize_topics()"
   ]
  },
  {
   "cell_type": "code",
   "execution_count": null,
   "id": "d4bbbf38-40aa-4134-890c-2464531fbed8",
   "metadata": {},
   "outputs": [],
   "source": [
    "model.visualize_barchart()"
   ]
  },
  {
   "cell_type": "code",
   "execution_count": 21,
   "id": "35a52c79-8567-4114-9f07-5c9bde9febe0",
   "metadata": {},
   "outputs": [
    {
     "data": {
      "image/png": "[encoded data removed]",
      "text/plain": [
       "<Figure size 1000x500 with 1 Axes>"
      ]
     },
     "metadata": {},
     "output_type": "display_data"
    }
   ],
   "source": [
    "#Plot the frequency of a specific topic over time.\n",
    "TOPIC = 6 #impeachment!\n",
    "\n",
    "# Convert 'date' to datetime and set it as the index\n",
    "df['date'] = pd.to_datetime(df['date'])\n",
    "dff = df.set_index('date')\n",
    "\n",
    "# Group by month and topic\n",
    "monthly_topic_count = dff.groupby([pd.Grouper(freq='M'), 'topic']).size().unstack(fill_value=0)\n",
    "\n",
    "# Calculate the fraction of posts that are topic \n",
    "monthly_topic_fraction = monthly_topic_count[TOPIC] / monthly_topic_count.sum(axis=1)\n",
    "\n",
    "# Plotting\n",
    "monthly_topic_fraction.plot(kind='line', figsize=(10, 5))\n",
    "plt.title(f'Fraction of Posts Belonging to Topic {TOPIC} Over Time')\n",
    "plt.ylabel('Fraction of Posts')\n",
    "plt.xlabel('Date')\n",
    "plt.grid(True)\n",
    "plt.show()"
   ]
  },
  {
   "cell_type": "markdown",
   "id": "9016db9f-3835-46f6-9355-0704981efc09",
   "metadata": {},
   "source": [
    "# Machine Learning for text"
   ]
  },
  {
   "cell_type": "markdown",
   "id": "00281248-ef31-46d5-84be-7a9b077d1a96",
   "metadata": {},
   "source": [
    "Machine learning allows flexible annotation and prediction from textual data. It can be used for nearly any text analysis tasks. \n",
    "\n",
    "In our case, we will focus on whether there are differences in the messages when Trump posts from iPhone and Android. \n",
    "\n",
    "He began to post from iPhone when he started as President, and it seems these message might actually come from his aids.\n",
    "\n",
    "We train machine learning to guess based on the text in the tweets whether he is sending the message from Android or iPhone. Can we predict it?"
   ]
  },
  {
   "cell_type": "code",
   "execution_count": 22,
   "id": "36af7f2e-96d3-4d9c-a645-3dcc4c98fbbe",
   "metadata": {},
   "outputs": [],
   "source": [
    "# !pip3 install scikit-learn\n"
   ]
  },
  {
   "cell_type": "code",
   "execution_count": 27,
   "id": "bc9f1e8c-6647-4d6a-ad6f-90c6a819da14",
   "metadata": {},
   "outputs": [],
   "source": [
    "#We focus on the messages that are from iPhone or Android\n",
    "df = pd.read_csv('trumptweets.csv')\n",
    "df = df.loc[df['device'].isin(set(['Twitter for iPhone', 'Twitter for Android']))] \n"
   ]
  },
  {
   "cell_type": "code",
   "execution_count": 28,
   "id": "e90ffb1c-0e15-421a-a4c4-98e89b592fba",
   "metadata": {},
   "outputs": [],
   "source": [
    "# Preprocess the text as usual\n",
    "df['text'] = df['text'].apply(clean_text).apply(case_normalization).apply(tokenization).apply(remove_stopwords).apply(lemmatize)"
   ]
  },
  {
   "cell_type": "markdown",
   "id": "ad8c920e-bf4d-453e-9e50-065dc26671d1",
   "metadata": {},
   "source": [
    "The following code:\n",
    "\n",
    "1. Splits the dataset into training and testing sets.\n",
    "2. Vectorizes the messages using a bag-of-words model, excluding common English stop words for more meaningful feature analysis.\n",
    "3. Trains a RandomForestClassifier on the vectorized training data.\n",
    "4. Predicts the device category on the test data and prints out the classification report and accuracy.\n",
    "5. Extracts and prints the feature importances to see which words are the most discriminative in terms of predicting the device used.\n",
    "\n",
    "The most important features output will give you insight into which words are more characteristic of messages sent from either iphone or android. Keep in mind that feature importance in random forests doesn't always equate to causality, and high importance might be due to correlation rather than a causal relationship."
   ]
  },
  {
   "cell_type": "code",
   "execution_count": 29,
   "id": "272f2715-b1e2-4ce5-908c-771176e14710",
   "metadata": {},
   "outputs": [
    {
     "name": "stdout",
     "output_type": "stream",
     "text": [
      "                     precision    recall  f1-score   support\n",
      "\n",
      "Twitter for Android       0.92      0.85      0.89      4267\n",
      " Twitter for iPhone       0.93      0.96      0.95      8487\n",
      "\n",
      "           accuracy                           0.93     12754\n",
      "          macro avg       0.92      0.91      0.92     12754\n",
      "       weighted avg       0.93      0.93      0.93     12754\n",
      "\n",
      "Accuracy: 0.9261408185667241\n",
      "\n",
      " Twitter for iPhone\n",
      "rt, Importance: 0.09219865618700993\n",
      "https, Importance: 0.07479567686469239\n",
      "democrats, Importance: 0.007854489610218278\n",
      "fake, Importance: 0.004395329867710581\n",
      "biden, Importance: 0.004356324246503931\n",
      "news, Importance: 0.003770457493192382\n",
      "whitehouse, Importance: 0.0037658816642760747\n",
      "amp, Importance: 0.0032052454826699993\n",
      "thank, Importance: 0.002850430960313691\n",
      "president, Importance: 0.002721501564856787\n",
      "great, Importance: 0.0026927675922088002\n",
      "impeachment, Importance: 0.0025705125682693717\n",
      "election, Importance: 0.002547904148514072\n",
      "joe, Importance: 0.002355241776796686\n",
      "obama, Importance: 0.002131864926850576\n",
      "border, Importance: 0.0020294978252848508\n",
      "people, Importance: 0.0019108074735576784\n",
      "senate, Importance: 0.001880947278536873\n",
      "american, Importance: 0.0018771836449274584\n",
      "maga, Importance: 0.0018483810380677229\n",
      "big, Importance: 0.0017374153877642714\n",
      "state, Importance: 0.0017291329458708937\n",
      "\n",
      " Twitter for Android\n",
      "realdonaldtrump, Importance: 0.10106876659868201\n",
      "thanks, Importance: 0.012456768192774147\n",
      "donald, Importance: 0.010290193733804822\n",
      "trump, Importance: 0.008172126530571186\n",
      "run, Importance: 0.0072232206808892484\n",
      "http, Importance: 0.00651252948494305\n",
      "mr, Importance: 0.004738598118653087\n",
      "donaldtrump, Importance: 0.004584949398976373\n",
      "apprentice, Importance: 0.0031314119831442467\n",
      "love, Importance: 0.002885228566560415\n",
      "apprenticenbc, Importance: 0.0027841105788438\n",
      "wait, Importance: 0.002081824331011965\n",
      "needs, Importance: 0.0020557620548817433\n",
      "megynkelly, Importance: 0.0020374388065694444\n",
      "2016, Importance: 0.001988523006582965\n",
      "trump2016, Importance: 0.001916794415981929\n",
      "need, Importance: 0.0018833834235321405\n",
      "true, Importance: 0.0018499493890138832\n"
     ]
    }
   ],
   "source": [
    "# Train machine learning to identify \n",
    "import pandas as pd\n",
    "from sklearn.model_selection import train_test_split\n",
    "from sklearn.feature_extraction.text import CountVectorizer\n",
    "from sklearn.ensemble import RandomForestClassifier\n",
    "from sklearn.metrics import classification_report, accuracy_score\n",
    "\n",
    "# Split the dataset into training and testing sets\n",
    "# The text is what we use to try to predict the device. \n",
    "X_train, X_test, y_train, y_test = train_test_split(df['text'], df['device'], test_size=0.3, random_state=42)\n",
    "\n",
    "# Vectorize the text messages into a bag-of-words model\n",
    "vectorizer = CountVectorizer(stop_words='english')\n",
    "X_train_vectorized = vectorizer.fit_transform(X_train)\n",
    "X_test_vectorized = vectorizer.transform(X_test)\n",
    "\n",
    "# Use a machine learning classifier, in this case, a Random Forest\n",
    "classifier = RandomForestClassifier(n_estimators=100, random_state=42)\n",
    "classifier.fit(X_train_vectorized, y_train)\n",
    "\n",
    "# Predict the device used for the test set\n",
    "predictions = classifier.predict(X_test_vectorized)\n",
    "\n",
    "## This is the end of the ML code. Easy, no?\n",
    "#-------\n",
    "##### The rest is printing and evaluation ####\n",
    "\n",
    "# Evaluate the classifier\n",
    "print(classification_report(y_test, predictions))\n",
    "print(\"Accuracy:\", accuracy_score(y_test, predictions))\n",
    "\n",
    "# Get feature importances\n",
    "feature_importances = classifier.feature_importances_\n",
    "feature_names = vectorizer.get_feature_names_out()\n",
    "\n",
    "# Map feature importances to their corresponding words\n",
    "feature_importance_dict = {word: importance for word, importance in zip(feature_names, feature_importances)}\n",
    "\n",
    "# Sort the words by their feature importance\n",
    "sorted_feature_importances = sorted(feature_importance_dict.items(), key=lambda item: item[1], reverse=True)\n",
    "\n",
    "# Print out the most important features (words)\n",
    "# for word, importance in sorted_feature_importances[:20]:  # top 20 words\n",
    "#     print(f\"Word: {word}, Importance: {importance}\")\n",
    "\n",
    "# After fitting the CountVectorizer on the training set\n",
    "X_vectorized = vectorizer.transform(df['text'])\n",
    "\n",
    "# Create a DataFrame with the word counts\n",
    "word_counts = pd.DataFrame(X_vectorized.toarray(), columns=vectorizer.get_feature_names_out())\n",
    "\n",
    "# Add the device column back to the DataFrame\n",
    "word_counts['device'] = df['device'].values\n",
    "\n",
    "# Calculate the sum of word counts for each device\n",
    "word_counts_sum = word_counts.groupby('device').sum()\n",
    "\n",
    "# Now you can compare the word counts for each word in your feature importances list\n",
    "for device in word_counts['device'].unique():\n",
    "    print(f'\\n {device}')\n",
    "    for word, importance in sorted_feature_importances[:40]:  # top 20 words\n",
    "        counts = word_counts_sum[word]\n",
    "        more_common_in = counts.idxmax()\n",
    "        if more_common_in == device:\n",
    "            print(f\"{word}, Importance: {importance}\")"
   ]
  },
  {
   "cell_type": "markdown",
   "metadata": {},
   "source": [
    "### Exercise 5: Spam classifier - spam or ham?"
   ]
  },
  {
   "cell_type": "markdown",
   "metadata": {},
   "source": [
    "Your task is to adapt the classifier above to identify if a text message is spam or not. \n",
    "\n",
    "We will us an existing database of text messages. \n",
    "\n",
    "How high accuracy can you achieve? "
   ]
  },
  {
   "cell_type": "code",
   "execution_count": 147,
   "metadata": {},
   "outputs": [],
   "source": [
    "# Load the spam file\n",
    "df = pd.read_csv('spam.csv',encoding=\"ISO-8859-1\")"
   ]
  },
  {
   "cell_type": "code",
   "execution_count": 148,
   "metadata": {},
   "outputs": [
    {
     "data": {
      "text/html": [
       "<div>\n",
       "<style scoped>\n",
       "    .dataframe tbody tr th:only-of-type {\n",
       "        vertical-align: middle;\n",
       "    }\n",
       "\n",
       "    .dataframe tbody tr th {\n",
       "        vertical-align: top;\n",
       "    }\n",
       "\n",
       "    .dataframe thead th {\n",
       "        text-align: right;\n",
       "    }\n",
       "</style>\n",
       "<table border=\"1\" class=\"dataframe\">\n",
       "  <thead>\n",
       "    <tr style=\"text-align: right;\">\n",
       "      <th></th>\n",
       "      <th>v1</th>\n",
       "      <th>v2</th>\n",
       "      <th>Unnamed: 2</th>\n",
       "      <th>Unnamed: 3</th>\n",
       "      <th>Unnamed: 4</th>\n",
       "    </tr>\n",
       "  </thead>\n",
       "  <tbody>\n",
       "    <tr>\n",
       "      <th>0</th>\n",
       "      <td>ham</td>\n",
       "      <td>Go until jurong point, crazy.. Available only ...</td>\n",
       "      <td>NaN</td>\n",
       "      <td>NaN</td>\n",
       "      <td>NaN</td>\n",
       "    </tr>\n",
       "    <tr>\n",
       "      <th>1</th>\n",
       "      <td>ham</td>\n",
       "      <td>Ok lar... Joking wif u oni...</td>\n",
       "      <td>NaN</td>\n",
       "      <td>NaN</td>\n",
       "      <td>NaN</td>\n",
       "    </tr>\n",
       "    <tr>\n",
       "      <th>2</th>\n",
       "      <td>spam</td>\n",
       "      <td>Free entry in 2 a wkly comp to win FA Cup fina...</td>\n",
       "      <td>NaN</td>\n",
       "      <td>NaN</td>\n",
       "      <td>NaN</td>\n",
       "    </tr>\n",
       "    <tr>\n",
       "      <th>3</th>\n",
       "      <td>ham</td>\n",
       "      <td>U dun say so early hor... U c already then say...</td>\n",
       "      <td>NaN</td>\n",
       "      <td>NaN</td>\n",
       "      <td>NaN</td>\n",
       "    </tr>\n",
       "    <tr>\n",
       "      <th>4</th>\n",
       "      <td>ham</td>\n",
       "      <td>Nah I don't think he goes to usf, he lives aro...</td>\n",
       "      <td>NaN</td>\n",
       "      <td>NaN</td>\n",
       "      <td>NaN</td>\n",
       "    </tr>\n",
       "  </tbody>\n",
       "</table>\n",
       "</div>"
      ],
      "text/plain": [
       "     v1                                                 v2 Unnamed: 2  \\\n",
       "0   ham  Go until jurong point, crazy.. Available only ...        NaN   \n",
       "1   ham                      Ok lar... Joking wif u oni...        NaN   \n",
       "2  spam  Free entry in 2 a wkly comp to win FA Cup fina...        NaN   \n",
       "3   ham  U dun say so early hor... U c already then say...        NaN   \n",
       "4   ham  Nah I don't think he goes to usf, he lives aro...        NaN   \n",
       "\n",
       "  Unnamed: 3 Unnamed: 4  \n",
       "0        NaN        NaN  \n",
       "1        NaN        NaN  \n",
       "2        NaN        NaN  \n",
       "3        NaN        NaN  \n",
       "4        NaN        NaN  "
      ]
     },
     "execution_count": 148,
     "metadata": {},
     "output_type": "execute_result"
    }
   ],
   "source": [
    "df.head()"
   ]
  },
  {
   "cell_type": "code",
   "execution_count": 149,
   "metadata": {},
   "outputs": [],
   "source": [
    "# [YOUR CODE HERE]"
   ]
  },
  {
   "cell_type": "markdown",
   "metadata": {},
   "source": [
    "[Go to Solution](#exercise5)"
   ]
  },
  {
   "cell_type": "markdown",
   "id": "3f66460f-1908-4ee0-b582-b6cfc9d7cc65",
   "metadata": {},
   "source": [
    "# Solutions"
   ]
  },
  {
   "cell_type": "markdown",
   "metadata": {},
   "source": [
    "<a id=\"exercise1\"></a>\n",
    "## Solutions Exercise 1:  \n"
   ]
  },
  {
   "cell_type": "code",
   "execution_count": null,
   "metadata": {},
   "outputs": [],
   "source": [
    "dd = df.sample(10)\n",
    "\n",
    "# df.apply() is a quick way of applying functions to a dataframe column\n",
    "print(\"Original\")\n",
    "print(list(dd.text))\n",
    "\n",
    "print(\"Clean text!\")\n",
    "dd.text = dd.text.apply(clean_text)\n",
    "print(list(dd.text))\n",
    "\n",
    "print(\"Normalize!\")\n",
    "dd.text = dd.text.apply(case_normalization)\n",
    "print(list(dd.text))\n",
    "\n",
    "print(\"Tokenize!\")\n",
    "dd.text = dd.text.apply(tokenization)\n",
    "print(list(dd.text))\n",
    "\n",
    "print(\"Stop stopwords!\")\n",
    "dd.text = dd.text.apply(remove_stopwords)\n",
    "print(list(dd.text))\n",
    "\n",
    "print(\"Lemmatize!\")\n",
    "dd.text = dd.text.apply(lemmatize)\n",
    "print(list(dd.text))\n",
    "\n",
    "print(\"Finished.\")"
   ]
  },
  {
   "cell_type": "markdown",
   "metadata": {},
   "source": [
    "<a id=\"exercise2\"></a>\n",
    "## Solutions Exercise 2:\n"
   ]
  },
  {
   "cell_type": "markdown",
   "metadata": {},
   "source": [
    "The best results for TF-IDF is to clean the data as much as possible. Apply all the steps from above!"
   ]
  },
  {
   "cell_type": "code",
   "execution_count": 66,
   "metadata": {},
   "outputs": [
    {
     "name": "stdout",
     "output_type": "stream",
     "text": [
      "2009 ['keychain', 'commercialfree', 'bookkeychain', 'bahamas', 'executeyou', 'jareds', 'bountiful', 'habitat']\n",
      "2010 ['wahlberg', 'connector', 'casting', 'soho', 'bret', 'telethon', 'contest', 'wwwyoutubecomusermattressserta', 'whisperer', 'episode', 'susteren', 'hotel']\n",
      "2011 ['cavuto', 'desk', 'trumproast', 'danmcisaac', 'vegasusa', 'campanella', 'johnboehner', 'trumpvlog', 'barackobama', 'barackobama', 'barackobama', 'timetogettough']\n",
      "2012 ['cont', 'cont', 'cont', 'cont', 'sweepstweet', 'barackobama', 'barackobama', 'barackobama', 'mittromney', 'mittromney', 'mittromney', 'lordsugar']\n",
      "2013 ['billmaher', 'thanks', 'celebapprentice', 'celebapprentice', 'realdonaldtrump', 'realdonaldtrump', 'realdonaldtrump', 'realdonaldtrump', 'realdonaldtrump', 'nymag', 'rspbscotland', 'mandela']\n",
      "2014 ['realdonaldtrump', 'buzzfeed', 'oscar', 'nflcommish', 'realdonaldtrump', 'realdonaldtrump', 'realdonaldtrump', 'ebola', 'mikeandmike', 'ebola', 'realdonaldtrump', 'realdonaldtrump']\n",
      "2015 ['apprenticenbc', 'leezagibbons', 'realdonaldtrump', 'realdonaldtrump', 'realdonaldtrump', 'realdonaldtrump', 'realdonaldtrump', 'megynkelly', 'asktrump', 'realdonaldtrump', 'snl', 'jebbush']\n",
      "2016 ['cruz', 'cruz', 'rubio', 'makeamericagreatagain', 'goofy', 'hillary', 'rncincle', 'imwithyou', 'imwithyou', 'bigleaguetruth', 'draintheswamp', 'thankyoutour']\n",
      "2017 ['hacking', 'abe', 'exxonmobil', 'ossoff', 'potusabroad', 'kateslaw', 'uswomensopen', 'hurricaneharvey', 'luther', 'corker', 'apec', 'roy']\n",
      "2018 ['daca', 'daca', 'agony', 'tester', 'informant', 'tariff', 'nato', 'troy', 'florence', 'hurricanemichael', 'magarally', 'border']\n",
      "2019 ['shutdown', 'hanoi', 'rt', 'mueller', 'dbongino', 'tariff', 'usminority', 'rt', 'dorian', 'impeachment', 'impeachment', 'impeachment']\n",
      "2020 ['impeachment', 'rt', 'coronavirus', 'coronavirus', 'rt', 'rt', 'rt', 'rt', 'rt', 'biden', 'biden', 'briankempga']\n",
      "2021 ['georgia']\n"
     ]
    }
   ],
   "source": [
    "# Let's read the dataframe from file again to reset any changes we've made to it.\n",
    "df = pd.read_csv('trumptweets.csv')\n",
    "\n",
    "# Group text by month\n",
    "df['month'] = df.date.str[:7]+'-01'\n",
    "grouped = df.groupby('month')['text'].apply(' '.join).reset_index()\n",
    "\n",
    "# Preprocessing goes here: this just splits each document into tokens\n",
    "grouped['tokens'] = grouped['text'].apply(clean_text).apply(case_normalization).apply(tokenization).apply(remove_stopwords).apply(lemmatize)\n",
    "#SOLUTION (we can chain the apply commands)\n",
    "\n",
    "#Calculate TF-IDF per month\n",
    "grouped['tfidf'] = compute_tf_idf_manual(grouped['tokens'])\n",
    "\n",
    "#Get the top-word \n",
    "grouped['tfidf_top']  = grouped['tfidf'].apply(get_highest_values)\n",
    "\n",
    "# Print out year-by-year\n",
    "grouped['year'] = grouped.month.str[:4]\n",
    "for year in grouped.year.unique():\n",
    "    gy = grouped.loc[grouped['year']==year]\n",
    "    print(year, [a[0][0] for y,a in  zip(gy['month'],gy['tfidf_top'])])"
   ]
  },
  {
   "cell_type": "markdown",
   "metadata": {},
   "source": [
    "<a id=\"exercise3\"></a>\n",
    "## Solutions Exercise 3:\n"
   ]
  },
  {
   "cell_type": "code",
   "execution_count": null,
   "metadata": {},
   "outputs": [],
   "source": [
    "import matplotlib.pyplot as plt\n",
    "\n",
    "df = pd.read_csv('trumptweets.csv')\n",
    "\n",
    "# -------\n",
    "# Since VADER uses the structure of the sentence, we should NOT make any preprocessing!\n",
    "# For instnace: if we remove \"not\", we'll get terrible results!\n",
    "# So we simply apply the function on the text column:\n",
    "df['sentiment'] = df['text'].apply(get_sentiment)\n",
    "# -------\n",
    "\n",
    "# Plot the sentiment over time graph\n",
    "df['month'] = df.date.str[:7]+'-01'\n",
    "df['month'] = pd.to_datetime(df['month']) \n",
    "fig, ax = plt.subplots(figsize=(8,5))\n",
    "\n",
    "df.groupby(['month'])['sentiment'].mean().plot(ax=ax, marker='o', lw=1,label='Trump\\'s mean mood')\n",
    "    \n",
    "ax.set_xlabel('Month')\n",
    "ax.set_ylabel('Average Sentiment')\n",
    "ax.set_title(\"Trump's Monthly Mood\")\n",
    "\n",
    "# Add vertical line\n",
    "ax.axvline('2012-11-06', color='red', linestyle='--',label='Obama election')\n",
    "ax.axvline('2016-11-08', color='green', linestyle='--',label='Trump election')\n",
    "ax.axvline('2020-11-03', color='blue', linestyle='--',label='Biden election')\n",
    "\n",
    "ax.grid(True)\n",
    "fig.tight_layout()\n",
    "\n",
    "plt.legend()\n",
    "plt.show()\n",
    "\n"
   ]
  },
  {
   "cell_type": "markdown",
   "metadata": {},
   "source": [
    "## Solutions Exercise 4:\n",
    "<a id=\"exercise4\"></a>\n"
   ]
  },
  {
   "cell_type": "code",
   "execution_count": 143,
   "metadata": {},
   "outputs": [
    {
     "name": "stdout",
     "output_type": "stream",
     "text": [
      "(0, '0.002*\"miljöpartiet\" + 0.001*\"högerpartiets\" + 0.001*\"högerpartiet\" + 0.001*\"skattesänkningarna\" + 0.001*\"utgifter\" + 0.001*\"krävde\" + 0.001*\"tidtabell\" + 0.000*\"inkomsten\" + 0.000*\"budgetalternativet\" + 0.000*\"reserver\"')\n",
      "(1, '0.007*\"vpk\" + 0.002*\"kommunisterna\" + 0.001*\"arbetande\" + 0.001*\"kamp\" + 0.001*\"parti\" + 0.001*\"kommunistiska\" + 0.001*\"enda\" + 0.001*\"arbetarklassens\" + 0.001*\"socialism\" + 0.001*\"storfinansens\"')\n",
      "(2, '0.018*\"skall\" + 0.006*\"måste\" + 0.003*\"moderaterna\" + 0.003*\"socialism\" + 0.002*\"skatter\" + 0.002*\"mrdper\" + 0.002*\"moderata\" + 0.002*\"folkpartiet\" + 0.002*\"storfinansens\" + 0.002*\"arbetande\"')\n",
      "(3, '0.017*\"sverige\" + 0.015*\"ska\" + 0.011*\"vill\" + 0.007*\"genom\" + 0.006*\"få\" + 0.006*\"svenska\" + 0.006*\"måste\" + 0.004*\"kunna\" + 0.004*\"därför\" + 0.004*\"får\"')\n",
      "(4, '0.012*\"skall\" + 0.006*\"folkpartiet\" + 0.004*\"folkpartiets\" + 0.003*\"eg\" + 0.002*\"foer\" + 0.002*\"vill\" + 0.002*\"glömda\" + 0.001*\"a\" + 0.001*\"frihet\" + 0.001*\"pa\"')\n",
      "(5, '0.021*\"bör\" + 0.006*\"måste\" + 0.003*\"centerpartiets\" + 0.003*\"enligt\" + 0.002*\"snarast\" + 0.002*\"särskilt\" + 0.002*\"mening\" + 0.002*\"åtgärder\" + 0.002*\"angeläget\" + 0.002*\"utsträckning\"')\n",
      "(6, '0.048*\"skall\" + 0.008*\"syfte\" + 0.006*\"höjning\" + 0.006*\"införande\" + 0.005*\"satsning\" + 0.005*\"genom\" + 0.004*\"förbättrad\" + 0.003*\"rörande\" + 0.003*\"utökning\" + 0.003*\"hälsovådliga\"')\n",
      "(7, '0.027*\"ska\" + 0.018*\"vill\" + 0.012*\"sverige\" + 0.009*\"fler\" + 0.007*\"genom\" + 0.006*\"mer\" + 0.005*\"också\" + 0.005*\"jobb\" + 0.005*\"få\" + 0.005*\"behöver\"')\n",
      "(8, '0.022*\"måste\" + 0.008*\"skall\" + 0.007*\"ska\" + 0.007*\"genom\" + 0.005*\"vill\" + 0.005*\"bör\" + 0.005*\"arbete\" + 0.005*\"politik\" + 0.005*\"nya\" + 0.004*\"sverige\"')\n",
      "(9, '0.000*\"välståndsökningen\" + 0.000*\"underkastas\" + 0.000*\"frivård\" + 0.000*\"betona\" + 0.000*\"införes\" + 0.000*\"konsumentpolitiken\" + 0.000*\"kartläggs\" + 0.000*\"livsmedelsberedskapen\" + 0.000*\"lagring\" + 0.000*\"ömsesidig\"')\n"
     ]
    }
   ],
   "source": [
    "import pandas as pd\n",
    "from gensim import corpora, models\n",
    "import gensim\n",
    "\n",
    "# Apply all preprocessing functions\n",
    "\n",
    "# Create a dictionary and corpus needed for Topic Modeling\n",
    "dictionary = corpora.Dictionary(processed_texts) \n",
    "corpus = [dictionary.doc2bow(text) for text in processed_texts] \n",
    "\n",
    "# LDA model\n",
    "lda_model = gensim.models.ldamodel.LdaModel(corpus=corpus,\n",
    "                                           id2word=dictionary,\n",
    "                                           num_topics=10, \n",
    "                                           random_state=100,\n",
    "                                           update_every=1,\n",
    "                                           chunksize=100,\n",
    "                                           passes=10,\n",
    "                                           alpha='auto',\n",
    "                                           per_word_topics=True)\n",
    "\n",
    "# Print the topics found by the LDA model\n",
    "topics = lda_model.print_topics(num_words=10)\n",
    "for topic in topics:\n",
    "    print(topic)"
   ]
  },
  {
   "cell_type": "markdown",
   "metadata": {},
   "source": [
    "## Solutions Exercise 5:\n",
    "<a id=\"exercise5\"></a>\n"
   ]
  },
  {
   "cell_type": "markdown",
   "metadata": {},
   "source": [
    "We can use almost exactly the same code as for the Trump tweets"
   ]
  },
  {
   "cell_type": "code",
   "execution_count": 154,
   "metadata": {},
   "outputs": [
    {
     "name": "stdout",
     "output_type": "stream",
     "text": [
      "              precision    recall  f1-score   support\n",
      "\n",
      "           0       0.97      1.00      0.99      1453\n",
      "           1       1.00      0.81      0.90       219\n",
      "\n",
      "    accuracy                           0.98      1672\n",
      "   macro avg       0.99      0.91      0.94      1672\n",
      "weighted avg       0.98      0.98      0.97      1672\n",
      "\n"
     ]
    }
   ],
   "source": [
    "import numpy as np\n",
    "from sklearn.feature_extraction.text import CountVectorizer\n",
    "from sklearn.ensemble import RandomForestClassifier\n",
    "from sklearn.model_selection import train_test_split\n",
    "from sklearn.metrics import classification_report\n",
    "\n",
    "# Data preparation\n",
    "df = pd.read_csv('spam.csv',encoding=\"ISO-8859-1\")\n",
    "\n",
    "texts = np.array(df['v2'])\n",
    "labels = np.array([0 if t=='ham' else 1 if t=='spam' else None for t in df['v1']])  # 1 - spam, 0 - not spam\n",
    "\n",
    "# Vectorization\n",
    "vectorizer = CountVectorizer()\n",
    "X = vectorizer.fit_transform(texts)\n",
    "\n",
    "# Split dataset\n",
    "X_train, X_test, y_train, y_test = train_test_split(X, labels, test_size=0.3, random_state=42)\n",
    "\n",
    "# Model training\n",
    "clf = RandomForestClassifier(n_estimators=100, random_state=42)\n",
    "clf.fit(X_train, y_train)\n",
    "\n",
    "# Evaluation\n",
    "y_pred = clf.predict(X_test)\n",
    "print(classification_report(y_test, y_pred))"
   ]
  },
  {
   "cell_type": "markdown",
   "metadata": {},
   "source": [
    "#"
   ]
  }
 ],
 "metadata": {
  "kernelspec": {
   "display_name": "Python 3 (ipykernel)",
   "language": "python",
   "name": "python3"
  },
  "language_info": {
   "codemirror_mode": {
    "name": "ipython",
    "version": 3
   },
   "file_extension": ".py",
   "mimetype": "text/x-python",
   "name": "python",
   "nbconvert_exporter": "python",
   "pygments_lexer": "ipython3",
   "version": "3.13.0"
  }
 },
 "nbformat": 4,
 "nbformat_minor": 5
}
